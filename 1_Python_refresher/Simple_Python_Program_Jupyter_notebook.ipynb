{
  "cells": [
    {
      "cell_type": "markdown",
      "id": "2045d814",
      "metadata": {},
      "source": [
        "# Storage Tank Volume Calculator\n",
        "\n",
        "Python program to calculate volume of a cylindrical oil storage tank in a Jupyter Notebook format, broken into separate cells for modularity and better readability\n",
        "\n",
        "<img src=\"Tank.png\" alt=\"Storage Tank Volume Calculator\" width=\"400\">\n",
        "\n",
        "Given tank raidum $r$ and height $h$ in meters\n",
        "\n",
        "Tank volume is $v=\\pi \\times r^2 \\times h$ cubic meteres\n",
        "\n",
        "Assuming 1 m³ ≈ 6.2898 barrels, tank capacity $c=6.2898 \\times v$ barrels"
      ]
    },
    {
      "cell_type": "markdown",
      "id": "201d581b",
      "metadata": {},
      "source": [
        "### Import necessary libraries"
      ]
    },
    {
      "cell_type": "code",
      "execution_count": 1,
      "id": "93b1c70e",
      "metadata": {},
      "outputs": [],
      "source": [
        "import math"
      ]
    },
    {
      "cell_type": "markdown",
      "id": "6b983191",
      "metadata": {},
      "source": [
        "### Define constants"
      ]
    },
    {
      "cell_type": "code",
      "execution_count": 2,
      "id": "12592408",
      "metadata": {},
      "outputs": [],
      "source": [
        "PI = math.pi # or PI=3.14159"
      ]
    },
    {
      "cell_type": "markdown",
      "id": "7321f4d3",
      "metadata": {},
      "source": [
        "### Define a simple Tank class"
      ]
    },
    {
      "cell_type": "code",
      "execution_count": 3,
      "id": "f9a4f278",
      "metadata": {},
      "outputs": [],
      "source": [
        "class Tank:\n",
        "    # Initialize tank with radius and height\n",
        "    def __init__(self, radius, height):\n",
        "        self.radius = radius\n",
        "        self.height = height\n",
        "\n",
        "    # Calculate tank volume in cubic meters\n",
        "    def calculate_volume(self):\n",
        "        return PI * self.radius ** 2 * self.height\n",
        "\n",
        "    # Calculate capacity in barrels (1 m³ ≈ 6.2898 barrels)\n",
        "    def calculate_capacity(self):\n",
        "        return self.calculate_volume() * 6.2898"
      ]
    },
    {
      "cell_type": "markdown",
      "id": "885a788a",
      "metadata": {},
      "source": [
        "### Define a function to greet the operator"
      ]
    },
    {
      "cell_type": "code",
      "execution_count": 4,
      "id": "e4b3a008",
      "metadata": {},
      "outputs": [],
      "source": [
        "def greet_operator():\n",
        "    print(\"Welcome to the Storage Tank Volume Calculator!\")"
      ]
    },
    {
      "cell_type": "markdown",
      "id": "8c5f87ea",
      "metadata": {},
      "source": [
        "### Main program execution"
      ]
    },
    {
      "cell_type": "code",
      "execution_count": 5,
      "id": "2b2700b4",
      "metadata": {},
      "outputs": [
        {
          "name": "stdout",
          "output_type": "stream",
          "text": [
            "Welcome to the Storage Tank Volume Calculator!\n",
            "The volume of the tank is: 785.40 cubic meters\n",
            "The capacity of the tank is: 4940.00 barrels\n"
          ]
        }
      ],
      "source": [
        "greet_operator()\n",
        "\n",
        "# Get user input\n",
        "radius = float(input(\"Enter the radius of the tank: \"))\n",
        "height = float(input(\"Enter the height of the tank: \"))\n",
        "\n",
        "# Create a Circle object\n",
        "tank = Tank(radius, height)\n",
        "\n",
        "# Perform calculations\n",
        "volume=tank.calculate_volume() \n",
        "capacity=tank.calculate_capacity()\n",
        "\n",
        "# Display results\n",
        "print(f\"The volume of the tank is: {volume:.2f} cubic meters\")\n",
        "print(f\"The capacity of the tank is: {capacity:.2f} barrels\")"
      ]
    }
  ],
  "metadata": {
    "kernelspec": {
      "display_name": "base",
      "language": "python",
      "name": "python3"
    },
    "language_info": {
      "codemirror_mode": {
        "name": "ipython",
        "version": 3
      },
      "file_extension": ".py",
      "mimetype": "text/x-python",
      "name": "python",
      "nbconvert_exporter": "python",
      "pygments_lexer": "ipython3",
      "version": "3.13.5"
    }
  },
  "nbformat": 4,
  "nbformat_minor": 5
}
