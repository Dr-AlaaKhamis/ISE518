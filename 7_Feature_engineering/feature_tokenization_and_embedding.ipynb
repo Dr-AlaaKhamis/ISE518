{
 "cells": [
  {
   "cell_type": "markdown",
   "id": "5338cb48",
   "metadata": {},
   "source": [
    "### 💬 Tokenization and Embedding\n",
    "In this notebook, we'll explore two fundamental Natural Language Processing (NLP) concepts:\n",
    "\n",
    "1. ✂️ **Tokenization** — breaking text into smaller units like words or subwords\n",
    "2. 🔢 **Embedding** — converting tokens into numerical vectors\n",
    "\n",
    "We'll use a small set of machine log entries as examples, simulating predictive maintenance tasks."
   ]
  },
  {
   "cell_type": "code",
   "execution_count": 1,
   "id": "e556096f",
   "metadata": {},
   "outputs": [
    {
     "data": {
      "text/plain": [
       "['[2025-01-01 07:12:34] Warning: Motor bearing temperature exceeded threshold (85.3°C). Recommended inspection within next 24 hours.',\n",
       " '[2025-01-01 13:45:10] Info: Vibration levels increased by 35% over baseline. Possible rotor imbalance detected.',\n",
       " '[2025-01-02 03:22:50] Error: Sudden voltage dip recorded during startup. Check power supply stability and soft starter settings.',\n",
       " '[2025-01-02 17:18:05] Maintenance: Lubrication applied to drive-end bearing. Next scheduled lubrication due in 500 operating hours.']"
      ]
     },
     "execution_count": 1,
     "metadata": {},
     "output_type": "execute_result"
    }
   ],
   "source": [
    "# 📄 Sample Log Entries (Textual Features)\n",
    "log_entries = [\n",
    "    \"[2025-01-01 07:12:34] Warning: Motor bearing temperature exceeded threshold (85.3°C). Recommended inspection within next 24 hours.\",\n",
    "    \"[2025-01-01 13:45:10] Info: Vibration levels increased by 35% over baseline. Possible rotor imbalance detected.\",\n",
    "    \"[2025-01-02 03:22:50] Error: Sudden voltage dip recorded during startup. Check power supply stability and soft starter settings.\",\n",
    "    \"[2025-01-02 17:18:05] Maintenance: Lubrication applied to drive-end bearing. Next scheduled lubrication due in 500 operating hours.\"\n",
    "]\n",
    "log_entries"
   ]
  },
  {
   "cell_type": "markdown",
   "id": "2806f4c8",
   "metadata": {},
   "source": [
    "#### ✂️ Tokenization using `nltk`\n",
    "**Tokenization** is the process of splitting text into individual components — usually words or subwords.\n",
    "We'll use `nltk` for simple word-level tokenization."
   ]
  },
  {
   "cell_type": "code",
   "execution_count": 2,
   "id": "f3f3eef4",
   "metadata": {},
   "outputs": [
    {
     "name": "stdout",
     "output_type": "stream",
     "text": [
      "Log 1 Tokens: ['[', '2025-01-01', '07:12:34', ']', 'Warning', ':', 'Motor', 'bearing', 'temperature', 'exceeded', 'threshold', '(', '85.3°C', ')', '.', 'Recommended', 'inspection', 'within', 'next', '24', 'hours', '.']\n",
      "Log 2 Tokens: ['[', '2025-01-01', '13:45:10', ']', 'Info', ':', 'Vibration', 'levels', 'increased', 'by', '35', '%', 'over', 'baseline', '.', 'Possible', 'rotor', 'imbalance', 'detected', '.']\n",
      "Log 3 Tokens: ['[', '2025-01-02', '03:22:50', ']', 'Error', ':', 'Sudden', 'voltage', 'dip', 'recorded', 'during', 'startup', '.', 'Check', 'power', 'supply', 'stability', 'and', 'soft', 'starter', 'settings', '.']\n",
      "Log 4 Tokens: ['[', '2025-01-02', '17:18:05', ']', 'Maintenance', ':', 'Lubrication', 'applied', 'to', 'drive-end', 'bearing', '.', 'Next', 'scheduled', 'lubrication', 'due', 'in', '500', 'operating', 'hours', '.']\n"
     ]
    },
    {
     "name": "stderr",
     "output_type": "stream",
     "text": [
      "[nltk_data] Downloading package punkt to\n",
      "[nltk_data]     C:\\Users\\alaa.rashwan\\AppData\\Roaming\\nltk_data...\n",
      "[nltk_data]   Package punkt is already up-to-date!\n"
     ]
    }
   ],
   "source": [
    "# ✂️ Tokenize log entries\n",
    "# !pip install nltk\n",
    "import nltk\n",
    "from nltk.tokenize import word_tokenize\n",
    "nltk.download('punkt')\n",
    "\n",
    "tokenized_logs = [word_tokenize(entry) for entry in log_entries]\n",
    "for i, tokens in enumerate(tokenized_logs):\n",
    "    print(f\"Log {i+1} Tokens:\", tokens)"
   ]
  },
  {
   "cell_type": "markdown",
   "id": "2ab12c96",
   "metadata": {},
   "source": [
    "#### 🔢 Embedding using `sentence-transformers`\n",
    "We’ll use the `all-MiniLM-L6-v2` model to generate dense vector representations of log entries.\n",
    "These embeddings capture semantic meaning of the full sentence."
   ]
  },
  {
   "cell_type": "code",
   "execution_count": 3,
   "id": "de094c25",
   "metadata": {},
   "outputs": [
    {
     "name": "stdout",
     "output_type": "stream",
     "text": [
      "Each log entry is embedded into a vector of shape: (384,)\n",
      "\n",
      "Sample embedding (first log):\n",
      " [-1.60595458e-02  8.76776502e-03  6.47896016e-03  4.76096272e-02\n",
      "  5.92179857e-02 -6.62303194e-02 -3.72492634e-02 -1.50096947e-02\n",
      " -5.40389903e-02 -1.94809143e-03  5.81466109e-02  3.88616207e-03\n",
      "  1.97070297e-02  2.65249610e-03 -8.87184590e-03 -3.46903615e-02\n",
      "  3.17541398e-02 -9.15662423e-02 -6.81873709e-02 -5.25095873e-02\n",
      "  2.51352228e-02  7.94864893e-02 -4.58747298e-02  6.54792562e-02\n",
      " -9.44329202e-02  1.81149878e-02  6.76388619e-03  6.98614419e-02\n",
      " -7.22240135e-02  8.91826078e-02 -6.64988607e-02  4.88785617e-02\n",
      " -5.80304079e-02  1.82077382e-02  2.72095725e-02  1.78410728e-02\n",
      " -6.17585965e-02 -7.34469742e-02 -3.29818167e-02 -7.36914799e-02\n",
      "  3.90591174e-02 -1.34725524e-02  1.13352835e-01  8.22264776e-02\n",
      "  2.80987378e-02  4.78578620e-02 -2.96776164e-02 -8.27977434e-02\n",
      "  6.52854741e-02 -7.74518847e-02 -1.36947306e-03  2.03280225e-02\n",
      "  1.44724339e-01 -8.22459683e-02 -7.66755119e-02 -1.95445567e-02\n",
      "  5.72718494e-02 -3.16357985e-02 -2.17052214e-02  7.62808993e-02\n",
      "  4.35610339e-02  1.28711341e-02 -6.22593723e-02 -4.70624939e-02\n",
      "  9.66161713e-02 -1.18300393e-01 -3.03997211e-02 -2.95269256e-03\n",
      "  2.47648843e-02  1.12552181e-01  2.78476700e-02 -3.43373301e-03\n",
      "  5.33211743e-03 -8.26052018e-03  1.22680338e-02  3.31212208e-02\n",
      " -4.41815518e-02 -7.06675798e-02  8.03079754e-02 -1.08588435e-01\n",
      " -1.03856340e-01 -1.20867670e-01  6.36873990e-02 -2.45700348e-02\n",
      " -1.08237509e-02  1.65100954e-02  6.61265552e-02  9.04197916e-02\n",
      "  7.58393034e-02  8.69236737e-02  3.35753076e-02 -4.95214351e-02\n",
      " -4.73454408e-02  8.39001164e-02  2.36204546e-02  5.42747192e-02\n",
      " -6.47973120e-02 -1.08725531e-02 -2.72021554e-02 -3.90548483e-02\n",
      " -5.26995659e-02  3.92127877e-05 -7.48512223e-02  5.61908670e-02\n",
      " -6.34182319e-02  5.88252284e-02  1.13382125e-02 -1.13590285e-02\n",
      " -1.50460517e-02 -4.84221093e-02 -6.09227940e-02  5.20371981e-02\n",
      "  6.51982501e-02 -9.01389346e-02 -1.18701188e-02 -2.35142298e-02\n",
      " -1.97764300e-02  9.34198964e-03 -4.72146831e-02  4.74349931e-02\n",
      "  3.81654911e-02  3.20075937e-02  4.53812815e-03 -5.57009643e-03\n",
      "  2.31136680e-02 -2.13440843e-02 -1.15556186e-02  8.29622036e-34\n",
      "  3.81822586e-02  2.42844075e-02 -7.18621886e-04 -7.24817291e-02\n",
      "  8.99859890e-03  2.59572286e-02 -6.42926320e-02 -4.02674591e-03\n",
      "  2.95468001e-03  5.19826226e-02  1.36400059e-01 -3.59887853e-02\n",
      "  5.33767836e-03 -7.84824416e-02  2.06444189e-02 -1.07640391e-02\n",
      "  4.99520451e-02  1.83256099e-03 -3.37886550e-02  1.45508219e-02\n",
      " -7.77291413e-03 -1.20660059e-01 -5.79834878e-02  1.74299590e-02\n",
      " -3.08242980e-02  5.03770150e-02  2.75212689e-03  3.65935043e-02\n",
      "  5.88058457e-02  3.66674066e-02  8.67751800e-03 -1.35113457e-02\n",
      " -8.07475150e-02  4.42577414e-02  3.57074142e-02 -2.04437375e-02\n",
      " -7.43963867e-02  1.54158995e-02  1.87182911e-02 -2.66324542e-02\n",
      "  6.42231554e-02 -9.24994573e-02  3.51555236e-02 -1.21323601e-03\n",
      "  1.43001648e-02  7.30035231e-02 -1.27903409e-02  1.73552241e-02\n",
      " -1.81945637e-02  1.92471016e-02 -1.26593525e-03  2.00789366e-02\n",
      "  4.64979187e-02 -6.05141837e-03  1.51126683e-02  3.77933346e-02\n",
      "  6.28666803e-02 -1.18467091e-02 -2.52050981e-02 -9.72578377e-02\n",
      " -2.82647070e-02  5.81484661e-02  6.21815119e-03 -6.51970208e-02\n",
      "  1.84352975e-02  1.42997066e-02  9.78648430e-04  3.78061123e-02\n",
      " -4.13553379e-02  4.52590771e-02  1.83029082e-02 -2.98206992e-02\n",
      " -8.21499527e-03  3.97470593e-02 -3.78175005e-02  3.16759525e-03\n",
      "  6.55577332e-02  3.87532152e-02 -1.75070316e-02 -9.76750553e-02\n",
      " -9.00188759e-02 -6.00283220e-03  1.26834912e-02 -5.90523705e-02\n",
      " -6.37115259e-03 -3.77980471e-02 -6.26213923e-02  7.86411315e-02\n",
      " -7.59429336e-02  7.23295808e-02 -3.34241576e-02 -5.05411439e-02\n",
      "  9.98252071e-03  8.67379531e-02 -7.46991187e-02 -3.23101814e-33\n",
      " -2.62604803e-02  2.69930530e-02  3.48278843e-02 -4.19671610e-02\n",
      " -7.73222074e-02 -5.32683954e-02  4.74870875e-02  7.03595504e-02\n",
      " -4.51616943e-02 -1.39193917e-02  1.27191748e-02 -3.46149914e-02\n",
      "  2.81445193e-03 -2.88276076e-02 -2.93369517e-02  1.63579900e-02\n",
      " -8.15840811e-02  6.36103973e-02  3.52952592e-02  1.37539301e-02\n",
      " -2.41519082e-02  2.17588041e-02 -1.69351846e-02  8.15114006e-02\n",
      " -6.81475177e-02 -8.08412861e-03 -1.14677669e-02 -7.39770196e-03\n",
      " -6.60288855e-02 -2.60631777e-02 -7.11945444e-02 -3.67960846e-03\n",
      "  1.73261482e-02  9.20389295e-02 -3.57439928e-02 -6.82738423e-02\n",
      "  8.72994438e-02 -8.88898000e-02  8.26240983e-03 -1.50218243e-02\n",
      "  1.24263149e-02  1.75603721e-02  1.18220542e-02  7.04959258e-02\n",
      " -2.08101757e-02 -6.77810013e-02  5.92855550e-02 -2.01872718e-02\n",
      "  6.28109351e-02  7.41771385e-02  3.66703942e-02 -1.11049386e-02\n",
      "  1.01863630e-01  3.87719534e-02  1.77674387e-02  2.05569863e-02\n",
      "  2.98532676e-02 -6.85662106e-02  4.23014648e-02 -8.96618981e-03\n",
      "  4.78298105e-02 -1.77771617e-02 -4.34121154e-02  2.40512993e-02\n",
      "  1.44239678e-03  4.33732234e-02  2.66954210e-03  6.54716864e-02\n",
      "  7.81822205e-02  2.25197375e-02  2.58950498e-02  8.27560276e-02\n",
      " -2.14026496e-02 -4.83751893e-02 -1.78523753e-02 -5.27775884e-02\n",
      "  4.62799296e-02  2.07189471e-03 -2.56569348e-02  5.64312516e-03\n",
      "  1.38915880e-02  5.60006220e-03 -3.27414311e-02  8.72040913e-02\n",
      "  1.45541638e-01 -1.09728895e-01 -6.58036545e-02 -6.43946556e-03\n",
      "  7.33706281e-02 -2.38552485e-02  3.59935872e-02  4.36228351e-04\n",
      "  1.87829956e-02  1.31110121e-02 -9.28954706e-02 -3.02989136e-08\n",
      " -5.92817441e-02 -3.84180583e-02  5.50299920e-02 -5.05671985e-02\n",
      "  1.09685645e-01  2.88325339e-03 -8.58693197e-03 -1.40563482e-02\n",
      " -2.33080573e-02  5.30316271e-02  3.80752794e-02  3.09282299e-02\n",
      "  2.25499030e-02 -4.64356923e-03  1.34396292e-02 -1.85719252e-01\n",
      "  2.45267320e-02  4.78007605e-05  1.72457341e-02 -4.52289246e-02\n",
      "  1.68276522e-02 -6.05771653e-02  2.85311416e-02  6.21208083e-03\n",
      " -3.94743755e-02  1.74889583e-02  1.44058997e-02  5.80109982e-03\n",
      " -1.13361515e-02  2.62332964e-03 -9.14281607e-02  2.89464127e-02\n",
      "  4.19085920e-02 -3.28614302e-02 -1.54031757e-02  1.03444967e-03\n",
      " -1.82002764e-02  6.37567267e-02 -4.60171327e-03  2.47564800e-02\n",
      " -3.73600833e-02  5.12284562e-02 -9.72305331e-03  5.24897240e-02\n",
      "  4.61721420e-02 -8.87863636e-02 -7.31641874e-02  2.29121316e-02\n",
      "  4.99660149e-03 -3.46409306e-02  1.96972694e-02  4.79295515e-02\n",
      "  2.86112744e-02  1.11564778e-01 -5.48484437e-02 -5.20029441e-02\n",
      " -1.17069231e-02  2.91393623e-02 -6.64315447e-02  5.85207827e-02\n",
      "  1.53125683e-02 -7.12609738e-02 -6.89551681e-02 -2.44447403e-02]\n"
     ]
    }
   ],
   "source": [
    "# 🔢 Sentence Embedding\n",
    "# !pip install sentence_transformers\n",
    "from sentence_transformers import SentenceTransformer\n",
    "import numpy as np\n",
    "import pandas as pd\n",
    "import os\n",
    "os.environ[\"HF_HUB_DISABLE_SYMLINKS_WARNING\"] = \"1\"\n",
    "\n",
    "model = SentenceTransformer('all-MiniLM-L6-v2')\n",
    "embeddings = model.encode(log_entries)\n",
    "\n",
    "# Display embedding shape and sample\n",
    "print(f\"Each log entry is embedded into a vector of shape: {embeddings[0].shape}\")\n",
    "print(\"\\nSample embedding (first log):\\n\", embeddings[0])"
   ]
  },
  {
   "cell_type": "markdown",
   "id": "f84f5b30",
   "metadata": {},
   "source": [
    "#### 🧠 Optional: Cosine Similarity Between Logs\n",
    "We can compare log message similarity using cosine similarity between their embeddings."
   ]
  },
  {
   "cell_type": "code",
   "execution_count": 4,
   "id": "6b57fb16",
   "metadata": {},
   "outputs": [
    {
     "data": {
      "text/html": [
       "<div>\n",
       "<style scoped>\n",
       "    .dataframe tbody tr th:only-of-type {\n",
       "        vertical-align: middle;\n",
       "    }\n",
       "\n",
       "    .dataframe tbody tr th {\n",
       "        vertical-align: top;\n",
       "    }\n",
       "\n",
       "    .dataframe thead th {\n",
       "        text-align: right;\n",
       "    }\n",
       "</style>\n",
       "<table border=\"1\" class=\"dataframe\">\n",
       "  <thead>\n",
       "    <tr style=\"text-align: right;\">\n",
       "      <th></th>\n",
       "      <th>Log 1</th>\n",
       "      <th>Log 2</th>\n",
       "      <th>Log 3</th>\n",
       "      <th>Log 4</th>\n",
       "    </tr>\n",
       "  </thead>\n",
       "  <tbody>\n",
       "    <tr>\n",
       "      <th>Log 1</th>\n",
       "      <td>1.000000</td>\n",
       "      <td>0.358248</td>\n",
       "      <td>0.195750</td>\n",
       "      <td>0.502088</td>\n",
       "    </tr>\n",
       "    <tr>\n",
       "      <th>Log 2</th>\n",
       "      <td>0.358248</td>\n",
       "      <td>1.000000</td>\n",
       "      <td>0.281684</td>\n",
       "      <td>0.263989</td>\n",
       "    </tr>\n",
       "    <tr>\n",
       "      <th>Log 3</th>\n",
       "      <td>0.195750</td>\n",
       "      <td>0.281684</td>\n",
       "      <td>1.000000</td>\n",
       "      <td>0.016385</td>\n",
       "    </tr>\n",
       "    <tr>\n",
       "      <th>Log 4</th>\n",
       "      <td>0.502088</td>\n",
       "      <td>0.263989</td>\n",
       "      <td>0.016385</td>\n",
       "      <td>1.000000</td>\n",
       "    </tr>\n",
       "  </tbody>\n",
       "</table>\n",
       "</div>"
      ],
      "text/plain": [
       "          Log 1     Log 2     Log 3     Log 4\n",
       "Log 1  1.000000  0.358248  0.195750  0.502088\n",
       "Log 2  0.358248  1.000000  0.281684  0.263989\n",
       "Log 3  0.195750  0.281684  1.000000  0.016385\n",
       "Log 4  0.502088  0.263989  0.016385  1.000000"
      ]
     },
     "execution_count": 4,
     "metadata": {},
     "output_type": "execute_result"
    }
   ],
   "source": [
    "from sklearn.metrics.pairwise import cosine_similarity\n",
    "\n",
    "similarity_matrix = cosine_similarity(embeddings)\n",
    "similarity_df = pd.DataFrame(similarity_matrix, index=[f\"Log {i+1}\" for i in range(len(log_entries))],\n",
    "                              columns=[f\"Log {i+1}\" for i in range(len(log_entries))])\n",
    "similarity_df"
   ]
  }
 ],
 "metadata": {
  "kernelspec": {
   "display_name": "base",
   "language": "python",
   "name": "python3"
  },
  "language_info": {
   "codemirror_mode": {
    "name": "ipython",
    "version": 3
   },
   "file_extension": ".py",
   "mimetype": "text/x-python",
   "name": "python",
   "nbconvert_exporter": "python",
   "pygments_lexer": "ipython3",
   "version": "3.12.7"
  }
 },
 "nbformat": 4,
 "nbformat_minor": 5
}
