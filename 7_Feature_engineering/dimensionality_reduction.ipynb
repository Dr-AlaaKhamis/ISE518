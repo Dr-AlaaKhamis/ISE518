{
 "cells": [
  {
   "cell_type": "markdown",
   "id": "3f84b1ae",
   "metadata": {},
   "source": [
    "### 🔻 Dimensionality Reduction with PCA\n",
    "In this notebook, we demonstrate how to use **PCA (Principal Component Analysis)** to reduce the number of features in a dataset.\n",
    "\n",
    "We will:\n",
    "- Load the dataset\n",
    "- Select numeric features\n",
    "- Visualize the data before and after PCA\n",
    "- Apply PCA using `scikit-learn`\n",
    "\n",
    "**Goal:** Simplify high-dimensional data while retaining as much information as possible."
   ]
  },
  {
   "cell_type": "code",
   "execution_count": null,
   "id": "51e1a47a",
   "metadata": {},
   "outputs": [],
   "source": [
    "# 📦 Import libraries\n",
    "import pandas as pd\n",
    "import matplotlib.pyplot as plt\n",
    "import seaborn as sns\n",
    "from sklearn.preprocessing import StandardScaler\n",
    "from sklearn.decomposition import PCA"
   ]
  },
  {
   "cell_type": "code",
   "execution_count": null,
   "id": "d5d018a1",
   "metadata": {},
   "outputs": [],
   "source": [
    "# 📥 Load dataset\n",
    "url = 'https://raw.githubusercontent.com/Dr-AlaaKhamis/ISE518/refs/heads/main/5_Datafication/data/historical/historical_record.csv'\n",
    "df = pd.read_csv(url)\n",
    "df.columns = df.columns.str.strip()\n",
    "df.head()"
   ]
  },
  {
   "cell_type": "code",
   "execution_count": null,
   "id": "c4bc9fbc",
   "metadata": {},
   "outputs": [],
   "source": [
    "# 🔢 Select numeric features\n",
    "features = ['temperature', 'vibration', 'humidity', 'pressure', 'energy_consumption', 'predicted_remaining_life']\n",
    "X = df[features]"
   ]
  },
  {
   "cell_type": "code",
   "execution_count": null,
   "id": "ddd39ec6",
   "metadata": {},
   "outputs": [],
   "source": [
    "# ⚖️ Standardize the features (important for PCA)\n",
    "scaler = StandardScaler()\n",
    "X_scaled = pd.DataFrame(scaler.fit_transform(X), columns=features)"
   ]
  },
  {
   "cell_type": "markdown",
   "id": "8318e175",
   "metadata": {},
   "source": [
    "#### 📊 Visualization Before PCA "
   ]
  },
  {
   "cell_type": "code",
   "execution_count": null,
   "id": "87bf0284",
   "metadata": {},
   "outputs": [],
   "source": [
    "# 📊 Pairplot (multi-axis visualization)\n",
    "sns.pairplot(X_scaled, corner=True, plot_kws={'alpha': 0.5})\n",
    "plt.suptitle(\"Multi-Axis Visualization Before PCA\", y=1.02)\n",
    "plt.show()\n"
   ]
  },
  {
   "cell_type": "markdown",
   "id": "cc8a9086",
   "metadata": {},
   "source": [
    "#### 🔻 Apply PCA\n",
    "We'll reduce the data from 6 dimensions to 2 dimensions for visualization."
   ]
  },
  {
   "cell_type": "code",
   "execution_count": null,
   "id": "5821d26b",
   "metadata": {},
   "outputs": [],
   "source": [
    "pca = PCA(n_components=2) # Apply PCA to reduce to 2 dimensions\n",
    "pca = PCA(n_components=0.90)  # keep enough components to explain 90% of variance\n",
    "\n",
    "X_pca = pca.fit_transform(X_scaled)\n",
    "print(\"Number of components:\", pca.n_components_)"
   ]
  },
  {
   "cell_type": "markdown",
   "id": "f6a24dae",
   "metadata": {},
   "source": [
    "#### 📉 Visualization After PCA\n",
    "Now we plot the transformed data in 2D using PCA components."
   ]
  },
  {
   "cell_type": "code",
   "execution_count": null,
   "id": "4d05cb8d",
   "metadata": {},
   "outputs": [],
   "source": [
    "# Plot after PCA\n",
    "plt.figure(figsize=(6, 5))\n",
    "plt.scatter(X_pca[:, 0], X_pca[:, 1], alpha=0.6, color='tomato')\n",
    "plt.title('Data After PCA Reduction')\n",
    "plt.xlabel('Principal Component 1')\n",
    "plt.ylabel('Principal Component 2')\n",
    "plt.grid(True)\n",
    "plt.show()"
   ]
  },
  {
   "cell_type": "markdown",
   "id": "28242e3b",
   "metadata": {},
   "source": [
    "#### 📈 Explained Variance\n",
    "How much information did we keep by reducing to 2 components?"
   ]
  },
  {
   "cell_type": "code",
   "execution_count": null,
   "id": "b770e8ca",
   "metadata": {},
   "outputs": [],
   "source": [
    "# Variance explained by each component\n",
    "print('Explained variance ratio:', pca.explained_variance_ratio_)\n",
    "print('Total variance retained:', sum(pca.explained_variance_ratio_))"
   ]
  },
  {
   "cell_type": "markdown",
   "id": "8eae9e7a",
   "metadata": {},
   "source": [
    "#### ✅ Summary\n",
    "- PCA reduced our 6D dataset to 2D.\n",
    "- Visualization helps see clustering or structure in data.\n",
    "- PCA is useful for simplification and speed in modeling.\n",
    "\n",
    "Let me know if you'd like to use PCA for clustering or prediction next!"
   ]
  }
 ],
 "metadata": {
  "kernelspec": {
   "display_name": "base",
   "language": "python",
   "name": "python3"
  },
  "language_info": {
   "codemirror_mode": {
    "name": "ipython",
    "version": 3
   },
   "file_extension": ".py",
   "mimetype": "text/x-python",
   "name": "python",
   "nbconvert_exporter": "python",
   "pygments_lexer": "ipython3",
   "version": "3.12.7"
  }
 },
 "nbformat": 4,
 "nbformat_minor": 5
}
