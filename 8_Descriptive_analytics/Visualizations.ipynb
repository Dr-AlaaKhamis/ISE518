{
 "cells": [
  {
   "cell_type": "markdown",
   "id": "542b76b2",
   "metadata": {},
   "source": [
    "## 📊 Power System Faults – Data Visualization Techniques\n",
    "\n",
    "This notebook demonstrates a wide variety of **data visualization techniques** using the **Power System Faults Dataset**.\n",
    "\n",
    "The goal is to teach and showcase how different types of visualizations can help answer different analytical questions, such as:\n",
    "\n",
    "- 📉 What is the trend of fault metrics over time?\n",
    "- 🧮 How do values compare across fault types or weather conditions?\n",
    "- 🔍 What is the distribution or composition of specific variables?\n",
    "- 🔗 What relationships exist between operational metrics?\n",
    "\n",
    "\n",
    "### 🔍 What’s Covered\n",
    "\n",
    "#### 1. **Comparison of Metrics**\n",
    "- Bar Chart (horizontal)\n",
    "- Column Chart (vertical)\n",
    "- Bullet Chart (KPI vs Target)\n",
    "\n",
    "#### 2. **Composition of Data**\n",
    "- Pie Chart\n",
    "- Donut Chart\n",
    "- Treemap\n",
    "\n",
    "#### 3. **Change Over Time**\n",
    "- Line Chart\n",
    "- Area Chart\n",
    "- Column Chart (time-based)\n",
    "\n",
    "#### 4. **Relationships Between Metrics**\n",
    "- Scatter Plot\n",
    "- Bubble Chart\n",
    "- Heatmap (correlation matrix)\n",
    "\n",
    "\n",
    "These techniques are commonly used in:\n",
    "- 📊 Business Intelligence (BI)\n",
    "- ⚙️ Reliability Engineering\n",
    "- 🛠️ Maintenance Planning\n",
    "- 📈 Operations Monitoring"
   ]
  },
  {
   "cell_type": "code",
   "execution_count": 1,
   "id": "f804f3ab",
   "metadata": {},
   "outputs": [],
   "source": [
    "import pandas as pd\n",
    "import matplotlib.pyplot as plt\n",
    "import seaborn as sns\n",
    "import plotly.express as px\n",
    "import plotly.graph_objects as go"
   ]
  },
  {
   "cell_type": "markdown",
   "id": "2de860c3",
   "metadata": {},
   "source": [
    "***\n",
    "### 📥 Load the dataset from URL"
   ]
  },
  {
   "cell_type": "code",
   "execution_count": null,
   "id": "dd439485",
   "metadata": {},
   "outputs": [
    {
     "data": {
      "text/html": [
       "<div>\n",
       "<style scoped>\n",
       "    .dataframe tbody tr th:only-of-type {\n",
       "        vertical-align: middle;\n",
       "    }\n",
       "\n",
       "    .dataframe tbody tr th {\n",
       "        vertical-align: top;\n",
       "    }\n",
       "\n",
       "    .dataframe thead th {\n",
       "        text-align: right;\n",
       "    }\n",
       "</style>\n",
       "<table border=\"1\" class=\"dataframe\">\n",
       "  <thead>\n",
       "    <tr style=\"text-align: right;\">\n",
       "      <th></th>\n",
       "      <th>Fault ID</th>\n",
       "      <th>Fault Type</th>\n",
       "      <th>Fault Location (Latitude, Longitude)</th>\n",
       "      <th>Voltage (V)</th>\n",
       "      <th>Current (A)</th>\n",
       "      <th>Power Load (MW)</th>\n",
       "      <th>Temperature (C)</th>\n",
       "      <th>Wind Speed (km/h)</th>\n",
       "      <th>Weather Condition</th>\n",
       "      <th>Maintenance Status</th>\n",
       "      <th>Component Health</th>\n",
       "      <th>Duration of Fault (hrs)</th>\n",
       "      <th>Down time (hrs)</th>\n",
       "      <th>Latitude</th>\n",
       "      <th>Longitude</th>\n",
       "      <th>Fault Date</th>\n",
       "    </tr>\n",
       "  </thead>\n",
       "  <tbody>\n",
       "    <tr>\n",
       "      <th>0</th>\n",
       "      <td>F001</td>\n",
       "      <td>Line Breakage</td>\n",
       "      <td>(34.0522, -118.2437)</td>\n",
       "      <td>2200</td>\n",
       "      <td>250</td>\n",
       "      <td>50</td>\n",
       "      <td>25</td>\n",
       "      <td>20</td>\n",
       "      <td>Clear</td>\n",
       "      <td>Scheduled</td>\n",
       "      <td>Normal</td>\n",
       "      <td>2.0</td>\n",
       "      <td>1.0</td>\n",
       "      <td>34.0522</td>\n",
       "      <td>-118.2437</td>\n",
       "      <td>2023-01-01</td>\n",
       "    </tr>\n",
       "    <tr>\n",
       "      <th>1</th>\n",
       "      <td>F002</td>\n",
       "      <td>Transformer Failure</td>\n",
       "      <td>(34.056, -118.245)</td>\n",
       "      <td>1800</td>\n",
       "      <td>180</td>\n",
       "      <td>45</td>\n",
       "      <td>28</td>\n",
       "      <td>15</td>\n",
       "      <td>Rainy</td>\n",
       "      <td>Completed</td>\n",
       "      <td>Faulty</td>\n",
       "      <td>3.0</td>\n",
       "      <td>5.0</td>\n",
       "      <td>34.0560</td>\n",
       "      <td>-118.2450</td>\n",
       "      <td>2023-01-02</td>\n",
       "    </tr>\n",
       "    <tr>\n",
       "      <th>2</th>\n",
       "      <td>F003</td>\n",
       "      <td>Overheating</td>\n",
       "      <td>(34.0525, -118.244)</td>\n",
       "      <td>2100</td>\n",
       "      <td>230</td>\n",
       "      <td>55</td>\n",
       "      <td>35</td>\n",
       "      <td>25</td>\n",
       "      <td>Windstorm</td>\n",
       "      <td>Pending</td>\n",
       "      <td>Overheated</td>\n",
       "      <td>4.0</td>\n",
       "      <td>6.0</td>\n",
       "      <td>34.0525</td>\n",
       "      <td>-118.2440</td>\n",
       "      <td>2023-01-03</td>\n",
       "    </tr>\n",
       "    <tr>\n",
       "      <th>3</th>\n",
       "      <td>F004</td>\n",
       "      <td>Line Breakage</td>\n",
       "      <td>(34.055, -118.242)</td>\n",
       "      <td>2050</td>\n",
       "      <td>240</td>\n",
       "      <td>48</td>\n",
       "      <td>23</td>\n",
       "      <td>10</td>\n",
       "      <td>Clear</td>\n",
       "      <td>Completed</td>\n",
       "      <td>Normal</td>\n",
       "      <td>2.5</td>\n",
       "      <td>3.0</td>\n",
       "      <td>34.0550</td>\n",
       "      <td>-118.2420</td>\n",
       "      <td>2023-01-04</td>\n",
       "    </tr>\n",
       "    <tr>\n",
       "      <th>4</th>\n",
       "      <td>F005</td>\n",
       "      <td>Transformer Failure</td>\n",
       "      <td>(34.0545, -118.243)</td>\n",
       "      <td>1900</td>\n",
       "      <td>190</td>\n",
       "      <td>50</td>\n",
       "      <td>30</td>\n",
       "      <td>18</td>\n",
       "      <td>Snowy</td>\n",
       "      <td>Scheduled</td>\n",
       "      <td>Faulty</td>\n",
       "      <td>3.5</td>\n",
       "      <td>4.0</td>\n",
       "      <td>34.0545</td>\n",
       "      <td>-118.2430</td>\n",
       "      <td>2023-01-05</td>\n",
       "    </tr>\n",
       "  </tbody>\n",
       "</table>\n",
       "</div>"
      ],
      "text/plain": [
       "  Fault ID           Fault Type Fault Location (Latitude, Longitude)  \\\n",
       "0     F001        Line Breakage                 (34.0522, -118.2437)   \n",
       "1     F002  Transformer Failure                   (34.056, -118.245)   \n",
       "2     F003          Overheating                  (34.0525, -118.244)   \n",
       "3     F004        Line Breakage                   (34.055, -118.242)   \n",
       "4     F005  Transformer Failure                  (34.0545, -118.243)   \n",
       "\n",
       "   Voltage (V)  Current (A)  Power Load (MW)  Temperature (C)  \\\n",
       "0         2200          250               50               25   \n",
       "1         1800          180               45               28   \n",
       "2         2100          230               55               35   \n",
       "3         2050          240               48               23   \n",
       "4         1900          190               50               30   \n",
       "\n",
       "   Wind Speed (km/h) Weather Condition Maintenance Status Component Health  \\\n",
       "0                 20             Clear          Scheduled           Normal   \n",
       "1                 15             Rainy          Completed           Faulty   \n",
       "2                 25         Windstorm            Pending       Overheated   \n",
       "3                 10             Clear          Completed           Normal   \n",
       "4                 18             Snowy          Scheduled           Faulty   \n",
       "\n",
       "   Duration of Fault (hrs)  Down time (hrs)  Latitude  Longitude Fault Date  \n",
       "0                      2.0              1.0   34.0522  -118.2437 2023-01-01  \n",
       "1                      3.0              5.0   34.0560  -118.2450 2023-01-02  \n",
       "2                      4.0              6.0   34.0525  -118.2440 2023-01-03  \n",
       "3                      2.5              3.0   34.0550  -118.2420 2023-01-04  \n",
       "4                      3.5              4.0   34.0545  -118.2430 2023-01-05  "
      ]
     },
     "execution_count": 2,
     "metadata": {},
     "output_type": "execute_result"
    }
   ],
   "source": [
    "url = 'https://raw.githubusercontent.com/Dr-AlaaKhamis/ISE518/refs/heads/main/datasets/fault_data.csv'\n",
    "df = pd.read_csv(url)\n",
    "\n",
    "# Parse coordinates\n",
    "df[['Latitude', 'Longitude']] = df['Fault Location (Latitude, Longitude)']\\\n",
    "    .str.replace('[()]', '', regex=True).str.split(', ', expand=True).astype(float)\n",
    "\n",
    "# Simulate fault date\n",
    "df['Fault Date'] = pd.date_range(start='2023-01-01', periods=len(df), freq='D')\n",
    "\n",
    "df.head()"
   ]
  },
  {
   "cell_type": "code",
   "execution_count": 3,
   "id": "4612a9b1",
   "metadata": {},
   "outputs": [],
   "source": [
    "# # Load and parse\n",
    "# df = pd.read_csv(\"data/fault_data.csv\")\n",
    "# df[['Latitude', 'Longitude']] = df['Fault Location (Latitude, Longitude)'].str.replace('[()]', '', regex=True).str.split(', ', expand=True).astype(float)\n",
    "# df['Fault Date'] = pd.date_range(start='2023-01-01', periods=len(df), freq='D')\n"
   ]
  },
  {
   "cell_type": "markdown",
   "id": "aed9f013",
   "metadata": {},
   "source": [
    "#### 🔢 Big Number with KPI"
   ]
  },
  {
   "cell_type": "code",
   "execution_count": 4,
   "id": "fa34c80a",
   "metadata": {},
   "outputs": [
    {
     "data": {
      "application/vnd.plotly.v1+json": {
       "config": {
        "plotlyServerURL": "https://plot.ly"
       },
       "data": [
        {
         "delta": {
          "increasing": {
           "color": "red"
          },
          "reference": 5
         },
         "mode": "number+delta",
         "number": {
          "valueformat": ".2f"
         },
         "title": {
          "text": "📉 Avg Downtime (hrs)"
         },
         "type": "indicator",
         "value": 3.9998023715415023
        }
       ],
       "layout": {
        "height": 250,
        "template": {
         "data": {
          "bar": [
           {
            "error_x": {
             "color": "#2a3f5f"
            },
            "error_y": {
             "color": "#2a3f5f"
            },
            "marker": {
             "line": {
              "color": "#E5ECF6",
              "width": 0.5
             },
             "pattern": {
              "fillmode": "overlay",
              "size": 10,
              "solidity": 0.2
             }
            },
            "type": "bar"
           }
          ],
          "barpolar": [
           {
            "marker": {
             "line": {
              "color": "#E5ECF6",
              "width": 0.5
             },
             "pattern": {
              "fillmode": "overlay",
              "size": 10,
              "solidity": 0.2
             }
            },
            "type": "barpolar"
           }
          ],
          "carpet": [
           {
            "aaxis": {
             "endlinecolor": "#2a3f5f",
             "gridcolor": "white",
             "linecolor": "white",
             "minorgridcolor": "white",
             "startlinecolor": "#2a3f5f"
            },
            "baxis": {
             "endlinecolor": "#2a3f5f",
             "gridcolor": "white",
             "linecolor": "white",
             "minorgridcolor": "white",
             "startlinecolor": "#2a3f5f"
            },
            "type": "carpet"
           }
          ],
          "choropleth": [
           {
            "colorbar": {
             "outlinewidth": 0,
             "ticks": ""
            },
            "type": "choropleth"
           }
          ],
          "contour": [
           {
            "colorbar": {
             "outlinewidth": 0,
             "ticks": ""
            },
            "colorscale": [
             [
              0,
              "#0d0887"
             ],
             [
              0.1111111111111111,
              "#46039f"
             ],
             [
              0.2222222222222222,
              "#7201a8"
             ],
             [
              0.3333333333333333,
              "#9c179e"
             ],
             [
              0.4444444444444444,
              "#bd3786"
             ],
             [
              0.5555555555555556,
              "#d8576b"
             ],
             [
              0.6666666666666666,
              "#ed7953"
             ],
             [
              0.7777777777777778,
              "#fb9f3a"
             ],
             [
              0.8888888888888888,
              "#fdca26"
             ],
             [
              1,
              "#f0f921"
             ]
            ],
            "type": "contour"
           }
          ],
          "contourcarpet": [
           {
            "colorbar": {
             "outlinewidth": 0,
             "ticks": ""
            },
            "type": "contourcarpet"
           }
          ],
          "heatmap": [
           {
            "colorbar": {
             "outlinewidth": 0,
             "ticks": ""
            },
            "colorscale": [
             [
              0,
              "#0d0887"
             ],
             [
              0.1111111111111111,
              "#46039f"
             ],
             [
              0.2222222222222222,
              "#7201a8"
             ],
             [
              0.3333333333333333,
              "#9c179e"
             ],
             [
              0.4444444444444444,
              "#bd3786"
             ],
             [
              0.5555555555555556,
              "#d8576b"
             ],
             [
              0.6666666666666666,
              "#ed7953"
             ],
             [
              0.7777777777777778,
              "#fb9f3a"
             ],
             [
              0.8888888888888888,
              "#fdca26"
             ],
             [
              1,
              "#f0f921"
             ]
            ],
            "type": "heatmap"
           }
          ],
          "histogram": [
           {
            "marker": {
             "pattern": {
              "fillmode": "overlay",
              "size": 10,
              "solidity": 0.2
             }
            },
            "type": "histogram"
           }
          ],
          "histogram2d": [
           {
            "colorbar": {
             "outlinewidth": 0,
             "ticks": ""
            },
            "colorscale": [
             [
              0,
              "#0d0887"
             ],
             [
              0.1111111111111111,
              "#46039f"
             ],
             [
              0.2222222222222222,
              "#7201a8"
             ],
             [
              0.3333333333333333,
              "#9c179e"
             ],
             [
              0.4444444444444444,
              "#bd3786"
             ],
             [
              0.5555555555555556,
              "#d8576b"
             ],
             [
              0.6666666666666666,
              "#ed7953"
             ],
             [
              0.7777777777777778,
              "#fb9f3a"
             ],
             [
              0.8888888888888888,
              "#fdca26"
             ],
             [
              1,
              "#f0f921"
             ]
            ],
            "type": "histogram2d"
           }
          ],
          "histogram2dcontour": [
           {
            "colorbar": {
             "outlinewidth": 0,
             "ticks": ""
            },
            "colorscale": [
             [
              0,
              "#0d0887"
             ],
             [
              0.1111111111111111,
              "#46039f"
             ],
             [
              0.2222222222222222,
              "#7201a8"
             ],
             [
              0.3333333333333333,
              "#9c179e"
             ],
             [
              0.4444444444444444,
              "#bd3786"
             ],
             [
              0.5555555555555556,
              "#d8576b"
             ],
             [
              0.6666666666666666,
              "#ed7953"
             ],
             [
              0.7777777777777778,
              "#fb9f3a"
             ],
             [
              0.8888888888888888,
              "#fdca26"
             ],
             [
              1,
              "#f0f921"
             ]
            ],
            "type": "histogram2dcontour"
           }
          ],
          "mesh3d": [
           {
            "colorbar": {
             "outlinewidth": 0,
             "ticks": ""
            },
            "type": "mesh3d"
           }
          ],
          "parcoords": [
           {
            "line": {
             "colorbar": {
              "outlinewidth": 0,
              "ticks": ""
             }
            },
            "type": "parcoords"
           }
          ],
          "pie": [
           {
            "automargin": true,
            "type": "pie"
           }
          ],
          "scatter": [
           {
            "fillpattern": {
             "fillmode": "overlay",
             "size": 10,
             "solidity": 0.2
            },
            "type": "scatter"
           }
          ],
          "scatter3d": [
           {
            "line": {
             "colorbar": {
              "outlinewidth": 0,
              "ticks": ""
             }
            },
            "marker": {
             "colorbar": {
              "outlinewidth": 0,
              "ticks": ""
             }
            },
            "type": "scatter3d"
           }
          ],
          "scattercarpet": [
           {
            "marker": {
             "colorbar": {
              "outlinewidth": 0,
              "ticks": ""
             }
            },
            "type": "scattercarpet"
           }
          ],
          "scattergeo": [
           {
            "marker": {
             "colorbar": {
              "outlinewidth": 0,
              "ticks": ""
             }
            },
            "type": "scattergeo"
           }
          ],
          "scattergl": [
           {
            "marker": {
             "colorbar": {
              "outlinewidth": 0,
              "ticks": ""
             }
            },
            "type": "scattergl"
           }
          ],
          "scattermap": [
           {
            "marker": {
             "colorbar": {
              "outlinewidth": 0,
              "ticks": ""
             }
            },
            "type": "scattermap"
           }
          ],
          "scattermapbox": [
           {
            "marker": {
             "colorbar": {
              "outlinewidth": 0,
              "ticks": ""
             }
            },
            "type": "scattermapbox"
           }
          ],
          "scatterpolar": [
           {
            "marker": {
             "colorbar": {
              "outlinewidth": 0,
              "ticks": ""
             }
            },
            "type": "scatterpolar"
           }
          ],
          "scatterpolargl": [
           {
            "marker": {
             "colorbar": {
              "outlinewidth": 0,
              "ticks": ""
             }
            },
            "type": "scatterpolargl"
           }
          ],
          "scatterternary": [
           {
            "marker": {
             "colorbar": {
              "outlinewidth": 0,
              "ticks": ""
             }
            },
            "type": "scatterternary"
           }
          ],
          "surface": [
           {
            "colorbar": {
             "outlinewidth": 0,
             "ticks": ""
            },
            "colorscale": [
             [
              0,
              "#0d0887"
             ],
             [
              0.1111111111111111,
              "#46039f"
             ],
             [
              0.2222222222222222,
              "#7201a8"
             ],
             [
              0.3333333333333333,
              "#9c179e"
             ],
             [
              0.4444444444444444,
              "#bd3786"
             ],
             [
              0.5555555555555556,
              "#d8576b"
             ],
             [
              0.6666666666666666,
              "#ed7953"
             ],
             [
              0.7777777777777778,
              "#fb9f3a"
             ],
             [
              0.8888888888888888,
              "#fdca26"
             ],
             [
              1,
              "#f0f921"
             ]
            ],
            "type": "surface"
           }
          ],
          "table": [
           {
            "cells": {
             "fill": {
              "color": "#EBF0F8"
             },
             "line": {
              "color": "white"
             }
            },
            "header": {
             "fill": {
              "color": "#C8D4E3"
             },
             "line": {
              "color": "white"
             }
            },
            "type": "table"
           }
          ]
         },
         "layout": {
          "annotationdefaults": {
           "arrowcolor": "#2a3f5f",
           "arrowhead": 0,
           "arrowwidth": 1
          },
          "autotypenumbers": "strict",
          "coloraxis": {
           "colorbar": {
            "outlinewidth": 0,
            "ticks": ""
           }
          },
          "colorscale": {
           "diverging": [
            [
             0,
             "#8e0152"
            ],
            [
             0.1,
             "#c51b7d"
            ],
            [
             0.2,
             "#de77ae"
            ],
            [
             0.3,
             "#f1b6da"
            ],
            [
             0.4,
             "#fde0ef"
            ],
            [
             0.5,
             "#f7f7f7"
            ],
            [
             0.6,
             "#e6f5d0"
            ],
            [
             0.7,
             "#b8e186"
            ],
            [
             0.8,
             "#7fbc41"
            ],
            [
             0.9,
             "#4d9221"
            ],
            [
             1,
             "#276419"
            ]
           ],
           "sequential": [
            [
             0,
             "#0d0887"
            ],
            [
             0.1111111111111111,
             "#46039f"
            ],
            [
             0.2222222222222222,
             "#7201a8"
            ],
            [
             0.3333333333333333,
             "#9c179e"
            ],
            [
             0.4444444444444444,
             "#bd3786"
            ],
            [
             0.5555555555555556,
             "#d8576b"
            ],
            [
             0.6666666666666666,
             "#ed7953"
            ],
            [
             0.7777777777777778,
             "#fb9f3a"
            ],
            [
             0.8888888888888888,
             "#fdca26"
            ],
            [
             1,
             "#f0f921"
            ]
           ],
           "sequentialminus": [
            [
             0,
             "#0d0887"
            ],
            [
             0.1111111111111111,
             "#46039f"
            ],
            [
             0.2222222222222222,
             "#7201a8"
            ],
            [
             0.3333333333333333,
             "#9c179e"
            ],
            [
             0.4444444444444444,
             "#bd3786"
            ],
            [
             0.5555555555555556,
             "#d8576b"
            ],
            [
             0.6666666666666666,
             "#ed7953"
            ],
            [
             0.7777777777777778,
             "#fb9f3a"
            ],
            [
             0.8888888888888888,
             "#fdca26"
            ],
            [
             1,
             "#f0f921"
            ]
           ]
          },
          "colorway": [
           "#636efa",
           "#EF553B",
           "#00cc96",
           "#ab63fa",
           "#FFA15A",
           "#19d3f3",
           "#FF6692",
           "#B6E880",
           "#FF97FF",
           "#FECB52"
          ],
          "font": {
           "color": "#2a3f5f"
          },
          "geo": {
           "bgcolor": "white",
           "lakecolor": "white",
           "landcolor": "#E5ECF6",
           "showlakes": true,
           "showland": true,
           "subunitcolor": "white"
          },
          "hoverlabel": {
           "align": "left"
          },
          "hovermode": "closest",
          "mapbox": {
           "style": "light"
          },
          "paper_bgcolor": "white",
          "plot_bgcolor": "#E5ECF6",
          "polar": {
           "angularaxis": {
            "gridcolor": "white",
            "linecolor": "white",
            "ticks": ""
           },
           "bgcolor": "#E5ECF6",
           "radialaxis": {
            "gridcolor": "white",
            "linecolor": "white",
            "ticks": ""
           }
          },
          "scene": {
           "xaxis": {
            "backgroundcolor": "#E5ECF6",
            "gridcolor": "white",
            "gridwidth": 2,
            "linecolor": "white",
            "showbackground": true,
            "ticks": "",
            "zerolinecolor": "white"
           },
           "yaxis": {
            "backgroundcolor": "#E5ECF6",
            "gridcolor": "white",
            "gridwidth": 2,
            "linecolor": "white",
            "showbackground": true,
            "ticks": "",
            "zerolinecolor": "white"
           },
           "zaxis": {
            "backgroundcolor": "#E5ECF6",
            "gridcolor": "white",
            "gridwidth": 2,
            "linecolor": "white",
            "showbackground": true,
            "ticks": "",
            "zerolinecolor": "white"
           }
          },
          "shapedefaults": {
           "line": {
            "color": "#2a3f5f"
           }
          },
          "ternary": {
           "aaxis": {
            "gridcolor": "white",
            "linecolor": "white",
            "ticks": ""
           },
           "baxis": {
            "gridcolor": "white",
            "linecolor": "white",
            "ticks": ""
           },
           "bgcolor": "#E5ECF6",
           "caxis": {
            "gridcolor": "white",
            "linecolor": "white",
            "ticks": ""
           }
          },
          "title": {
           "x": 0.05
          },
          "xaxis": {
           "automargin": true,
           "gridcolor": "white",
           "linecolor": "white",
           "ticks": "",
           "title": {
            "standoff": 15
           },
           "zerolinecolor": "white",
           "zerolinewidth": 2
          },
          "yaxis": {
           "automargin": true,
           "gridcolor": "white",
           "linecolor": "white",
           "ticks": "",
           "title": {
            "standoff": 15
           },
           "zerolinecolor": "white",
           "zerolinewidth": 2
          }
         }
        }
       }
      }
     },
     "metadata": {},
     "output_type": "display_data"
    }
   ],
   "source": [
    "# KPI: Total Faults + Avg Downtime\n",
    "total_faults = len(df)\n",
    "avg_downtime = df['Down time (hrs)'].mean()\n",
    "\n",
    "fig = go.Figure(go.Indicator(\n",
    "    mode=\"number+delta\",\n",
    "    value=avg_downtime,\n",
    "    delta={'reference': 5, 'increasing': {'color': \"red\"}},\n",
    "    title={\"text\": \"📉 Avg Downtime (hrs)\"},\n",
    "    number={\"valueformat\": \".2f\"}\n",
    "))\n",
    "fig.update_layout(height=250)\n",
    "fig.show()"
   ]
  },
  {
   "cell_type": "markdown",
   "id": "db35c708",
   "metadata": {},
   "source": [
    "***\n",
    "### 📊 Compare Values Within and Between Groups\n",
    "### Includes:\n",
    "- Bar Chart (Horizontal)\n",
    "- Column Chart (Vertical)\n",
    "- Bullet Chart (KPI vs Target)\n"
   ]
  },
  {
   "cell_type": "code",
   "execution_count": 5,
   "id": "ff0e872e",
   "metadata": {},
   "outputs": [
    {
     "data": {
      "image/png": "[encoded data removed]",
      "text/plain": [
       "<Figure size 800x500 with 1 Axes>"
      ]
     },
     "metadata": {},
     "output_type": "display_data"
    }
   ],
   "source": [
    "plt.figure(figsize=(8, 5))\n",
    "sns.barplot(data=df, x='Down time (hrs)', y='Fault Type', estimator='mean', errorbar=None)\n",
    "plt.title(\"Bar Chart: Avg Downtime by Fault Type\")\n",
    "plt.tight_layout()\n",
    "plt.show()"
   ]
  },
  {
   "cell_type": "code",
   "execution_count": 6,
   "id": "4aaa659c",
   "metadata": {},
   "outputs": [
    {
     "data": {
      "image/png": "[encoded data removed]",
      "text/plain": [
       "<Figure size 800x500 with 1 Axes>"
      ]
     },
     "metadata": {},
     "output_type": "display_data"
    }
   ],
   "source": [
    "plt.figure(figsize=(8, 5))\n",
    "sns.barplot(data=df, x='Fault Type', y='Down time (hrs)', estimator='mean', errorbar=None)\n",
    "plt.title(\"Column Chart: Avg Downtime by Fault Type\")\n",
    "plt.xticks(rotation=45)\n",
    "plt.tight_layout()\n",
    "plt.show()"
   ]
  },
  {
   "cell_type": "code",
   "execution_count": 7,
   "id": "781376cd",
   "metadata": {},
   "outputs": [
    {
     "data": {
      "application/vnd.plotly.v1+json": {
       "config": {
        "plotlyServerURL": "https://plot.ly"
       },
       "data": [
        {
         "delta": {
          "reference": 3
         },
         "domain": {
          "x": [
           0.1,
           1
          ],
          "y": [
           0,
           1
          ]
         },
         "gauge": {
          "axis": {
           "range": [
            0,
            8
           ]
          },
          "bar": {
           "color": "lightblue"
          },
          "shape": "bullet",
          "steps": [
           {
            "color": "lightgray",
            "range": [
             0,
             3
            ]
           },
           {
            "color": "gray",
            "range": [
             3,
             8
            ]
           }
          ],
          "threshold": {
           "line": {
            "color": "red",
            "width": 2
           },
           "value": 3
          }
         },
         "mode": "number+gauge+delta",
         "title": {
          "text": "🔫 Bullet Chart: Avg Downtime (hrs)"
         },
         "type": "indicator",
         "value": 3.9998023715415023
        }
       ],
       "layout": {
        "template": {
         "data": {
          "bar": [
           {
            "error_x": {
             "color": "#2a3f5f"
            },
            "error_y": {
             "color": "#2a3f5f"
            },
            "marker": {
             "line": {
              "color": "#E5ECF6",
              "width": 0.5
             },
             "pattern": {
              "fillmode": "overlay",
              "size": 10,
              "solidity": 0.2
             }
            },
            "type": "bar"
           }
          ],
          "barpolar": [
           {
            "marker": {
             "line": {
              "color": "#E5ECF6",
              "width": 0.5
             },
             "pattern": {
              "fillmode": "overlay",
              "size": 10,
              "solidity": 0.2
             }
            },
            "type": "barpolar"
           }
          ],
          "carpet": [
           {
            "aaxis": {
             "endlinecolor": "#2a3f5f",
             "gridcolor": "white",
             "linecolor": "white",
             "minorgridcolor": "white",
             "startlinecolor": "#2a3f5f"
            },
            "baxis": {
             "endlinecolor": "#2a3f5f",
             "gridcolor": "white",
             "linecolor": "white",
             "minorgridcolor": "white",
             "startlinecolor": "#2a3f5f"
            },
            "type": "carpet"
           }
          ],
          "choropleth": [
           {
            "colorbar": {
             "outlinewidth": 0,
             "ticks": ""
            },
            "type": "choropleth"
           }
          ],
          "contour": [
           {
            "colorbar": {
             "outlinewidth": 0,
             "ticks": ""
            },
            "colorscale": [
             [
              0,
              "#0d0887"
             ],
             [
              0.1111111111111111,
              "#46039f"
             ],
             [
              0.2222222222222222,
              "#7201a8"
             ],
             [
              0.3333333333333333,
              "#9c179e"
             ],
             [
              0.4444444444444444,
              "#bd3786"
             ],
             [
              0.5555555555555556,
              "#d8576b"
             ],
             [
              0.6666666666666666,
              "#ed7953"
             ],
             [
              0.7777777777777778,
              "#fb9f3a"
             ],
             [
              0.8888888888888888,
              "#fdca26"
             ],
             [
              1,
              "#f0f921"
             ]
            ],
            "type": "contour"
           }
          ],
          "contourcarpet": [
           {
            "colorbar": {
             "outlinewidth": 0,
             "ticks": ""
            },
            "type": "contourcarpet"
           }
          ],
          "heatmap": [
           {
            "colorbar": {
             "outlinewidth": 0,
             "ticks": ""
            },
            "colorscale": [
             [
              0,
              "#0d0887"
             ],
             [
              0.1111111111111111,
              "#46039f"
             ],
             [
              0.2222222222222222,
              "#7201a8"
             ],
             [
              0.3333333333333333,
              "#9c179e"
             ],
             [
              0.4444444444444444,
              "#bd3786"
             ],
             [
              0.5555555555555556,
              "#d8576b"
             ],
             [
              0.6666666666666666,
              "#ed7953"
             ],
             [
              0.7777777777777778,
              "#fb9f3a"
             ],
             [
              0.8888888888888888,
              "#fdca26"
             ],
             [
              1,
              "#f0f921"
             ]
            ],
            "type": "heatmap"
           }
          ],
          "histogram": [
           {
            "marker": {
             "pattern": {
              "fillmode": "overlay",
              "size": 10,
              "solidity": 0.2
             }
            },
            "type": "histogram"
           }
          ],
          "histogram2d": [
           {
            "colorbar": {
             "outlinewidth": 0,
             "ticks": ""
            },
            "colorscale": [
             [
              0,
              "#0d0887"
             ],
             [
              0.1111111111111111,
              "#46039f"
             ],
             [
              0.2222222222222222,
              "#7201a8"
             ],
             [
              0.3333333333333333,
              "#9c179e"
             ],
             [
              0.4444444444444444,
              "#bd3786"
             ],
             [
              0.5555555555555556,
              "#d8576b"
             ],
             [
              0.6666666666666666,
              "#ed7953"
             ],
             [
              0.7777777777777778,
              "#fb9f3a"
             ],
             [
              0.8888888888888888,
              "#fdca26"
             ],
             [
              1,
              "#f0f921"
             ]
            ],
            "type": "histogram2d"
           }
          ],
          "histogram2dcontour": [
           {
            "colorbar": {
             "outlinewidth": 0,
             "ticks": ""
            },
            "colorscale": [
             [
              0,
              "#0d0887"
             ],
             [
              0.1111111111111111,
              "#46039f"
             ],
             [
              0.2222222222222222,
              "#7201a8"
             ],
             [
              0.3333333333333333,
              "#9c179e"
             ],
             [
              0.4444444444444444,
              "#bd3786"
             ],
             [
              0.5555555555555556,
              "#d8576b"
             ],
             [
              0.6666666666666666,
              "#ed7953"
             ],
             [
              0.7777777777777778,
              "#fb9f3a"
             ],
             [
              0.8888888888888888,
              "#fdca26"
             ],
             [
              1,
              "#f0f921"
             ]
            ],
            "type": "histogram2dcontour"
           }
          ],
          "mesh3d": [
           {
            "colorbar": {
             "outlinewidth": 0,
             "ticks": ""
            },
            "type": "mesh3d"
           }
          ],
          "parcoords": [
           {
            "line": {
             "colorbar": {
              "outlinewidth": 0,
              "ticks": ""
             }
            },
            "type": "parcoords"
           }
          ],
          "pie": [
           {
            "automargin": true,
            "type": "pie"
           }
          ],
          "scatter": [
           {
            "fillpattern": {
             "fillmode": "overlay",
             "size": 10,
             "solidity": 0.2
            },
            "type": "scatter"
           }
          ],
          "scatter3d": [
           {
            "line": {
             "colorbar": {
              "outlinewidth": 0,
              "ticks": ""
             }
            },
            "marker": {
             "colorbar": {
              "outlinewidth": 0,
              "ticks": ""
             }
            },
            "type": "scatter3d"
           }
          ],
          "scattercarpet": [
           {
            "marker": {
             "colorbar": {
              "outlinewidth": 0,
              "ticks": ""
             }
            },
            "type": "scattercarpet"
           }
          ],
          "scattergeo": [
           {
            "marker": {
             "colorbar": {
              "outlinewidth": 0,
              "ticks": ""
             }
            },
            "type": "scattergeo"
           }
          ],
          "scattergl": [
           {
            "marker": {
             "colorbar": {
              "outlinewidth": 0,
              "ticks": ""
             }
            },
            "type": "scattergl"
           }
          ],
          "scattermap": [
           {
            "marker": {
             "colorbar": {
              "outlinewidth": 0,
              "ticks": ""
             }
            },
            "type": "scattermap"
           }
          ],
          "scattermapbox": [
           {
            "marker": {
             "colorbar": {
              "outlinewidth": 0,
              "ticks": ""
             }
            },
            "type": "scattermapbox"
           }
          ],
          "scatterpolar": [
           {
            "marker": {
             "colorbar": {
              "outlinewidth": 0,
              "ticks": ""
             }
            },
            "type": "scatterpolar"
           }
          ],
          "scatterpolargl": [
           {
            "marker": {
             "colorbar": {
              "outlinewidth": 0,
              "ticks": ""
             }
            },
            "type": "scatterpolargl"
           }
          ],
          "scatterternary": [
           {
            "marker": {
             "colorbar": {
              "outlinewidth": 0,
              "ticks": ""
             }
            },
            "type": "scatterternary"
           }
          ],
          "surface": [
           {
            "colorbar": {
             "outlinewidth": 0,
             "ticks": ""
            },
            "colorscale": [
             [
              0,
              "#0d0887"
             ],
             [
              0.1111111111111111,
              "#46039f"
             ],
             [
              0.2222222222222222,
              "#7201a8"
             ],
             [
              0.3333333333333333,
              "#9c179e"
             ],
             [
              0.4444444444444444,
              "#bd3786"
             ],
             [
              0.5555555555555556,
              "#d8576b"
             ],
             [
              0.6666666666666666,
              "#ed7953"
             ],
             [
              0.7777777777777778,
              "#fb9f3a"
             ],
             [
              0.8888888888888888,
              "#fdca26"
             ],
             [
              1,
              "#f0f921"
             ]
            ],
            "type": "surface"
           }
          ],
          "table": [
           {
            "cells": {
             "fill": {
              "color": "#EBF0F8"
             },
             "line": {
              "color": "white"
             }
            },
            "header": {
             "fill": {
              "color": "#C8D4E3"
             },
             "line": {
              "color": "white"
             }
            },
            "type": "table"
           }
          ]
         },
         "layout": {
          "annotationdefaults": {
           "arrowcolor": "#2a3f5f",
           "arrowhead": 0,
           "arrowwidth": 1
          },
          "autotypenumbers": "strict",
          "coloraxis": {
           "colorbar": {
            "outlinewidth": 0,
            "ticks": ""
           }
          },
          "colorscale": {
           "diverging": [
            [
             0,
             "#8e0152"
            ],
            [
             0.1,
             "#c51b7d"
            ],
            [
             0.2,
             "#de77ae"
            ],
            [
             0.3,
             "#f1b6da"
            ],
            [
             0.4,
             "#fde0ef"
            ],
            [
             0.5,
             "#f7f7f7"
            ],
            [
             0.6,
             "#e6f5d0"
            ],
            [
             0.7,
             "#b8e186"
            ],
            [
             0.8,
             "#7fbc41"
            ],
            [
             0.9,
             "#4d9221"
            ],
            [
             1,
             "#276419"
            ]
           ],
           "sequential": [
            [
             0,
             "#0d0887"
            ],
            [
             0.1111111111111111,
             "#46039f"
            ],
            [
             0.2222222222222222,
             "#7201a8"
            ],
            [
             0.3333333333333333,
             "#9c179e"
            ],
            [
             0.4444444444444444,
             "#bd3786"
            ],
            [
             0.5555555555555556,
             "#d8576b"
            ],
            [
             0.6666666666666666,
             "#ed7953"
            ],
            [
             0.7777777777777778,
             "#fb9f3a"
            ],
            [
             0.8888888888888888,
             "#fdca26"
            ],
            [
             1,
             "#f0f921"
            ]
           ],
           "sequentialminus": [
            [
             0,
             "#0d0887"
            ],
            [
             0.1111111111111111,
             "#46039f"
            ],
            [
             0.2222222222222222,
             "#7201a8"
            ],
            [
             0.3333333333333333,
             "#9c179e"
            ],
            [
             0.4444444444444444,
             "#bd3786"
            ],
            [
             0.5555555555555556,
             "#d8576b"
            ],
            [
             0.6666666666666666,
             "#ed7953"
            ],
            [
             0.7777777777777778,
             "#fb9f3a"
            ],
            [
             0.8888888888888888,
             "#fdca26"
            ],
            [
             1,
             "#f0f921"
            ]
           ]
          },
          "colorway": [
           "#636efa",
           "#EF553B",
           "#00cc96",
           "#ab63fa",
           "#FFA15A",
           "#19d3f3",
           "#FF6692",
           "#B6E880",
           "#FF97FF",
           "#FECB52"
          ],
          "font": {
           "color": "#2a3f5f"
          },
          "geo": {
           "bgcolor": "white",
           "lakecolor": "white",
           "landcolor": "#E5ECF6",
           "showlakes": true,
           "showland": true,
           "subunitcolor": "white"
          },
          "hoverlabel": {
           "align": "left"
          },
          "hovermode": "closest",
          "mapbox": {
           "style": "light"
          },
          "paper_bgcolor": "white",
          "plot_bgcolor": "#E5ECF6",
          "polar": {
           "angularaxis": {
            "gridcolor": "white",
            "linecolor": "white",
            "ticks": ""
           },
           "bgcolor": "#E5ECF6",
           "radialaxis": {
            "gridcolor": "white",
            "linecolor": "white",
            "ticks": ""
           }
          },
          "scene": {
           "xaxis": {
            "backgroundcolor": "#E5ECF6",
            "gridcolor": "white",
            "gridwidth": 2,
            "linecolor": "white",
            "showbackground": true,
            "ticks": "",
            "zerolinecolor": "white"
           },
           "yaxis": {
            "backgroundcolor": "#E5ECF6",
            "gridcolor": "white",
            "gridwidth": 2,
            "linecolor": "white",
            "showbackground": true,
            "ticks": "",
            "zerolinecolor": "white"
           },
           "zaxis": {
            "backgroundcolor": "#E5ECF6",
            "gridcolor": "white",
            "gridwidth": 2,
            "linecolor": "white",
            "showbackground": true,
            "ticks": "",
            "zerolinecolor": "white"
           }
          },
          "shapedefaults": {
           "line": {
            "color": "#2a3f5f"
           }
          },
          "ternary": {
           "aaxis": {
            "gridcolor": "white",
            "linecolor": "white",
            "ticks": ""
           },
           "baxis": {
            "gridcolor": "white",
            "linecolor": "white",
            "ticks": ""
           },
           "bgcolor": "#E5ECF6",
           "caxis": {
            "gridcolor": "white",
            "linecolor": "white",
            "ticks": ""
           }
          },
          "title": {
           "x": 0.05
          },
          "xaxis": {
           "automargin": true,
           "gridcolor": "white",
           "linecolor": "white",
           "ticks": "",
           "title": {
            "standoff": 15
           },
           "zerolinecolor": "white",
           "zerolinewidth": 2
          },
          "yaxis": {
           "automargin": true,
           "gridcolor": "white",
           "linecolor": "white",
           "ticks": "",
           "title": {
            "standoff": 15
           },
           "zerolinecolor": "white",
           "zerolinewidth": 2
          }
         }
        }
       }
      }
     },
     "metadata": {},
     "output_type": "display_data"
    }
   ],
   "source": [
    "# KPI = 4 hrs, Goal = 3 hrs\n",
    "fig = go.Figure()\n",
    "fig.add_trace(go.Indicator(\n",
    "    mode=\"number+gauge+delta\",\n",
    "    value=df['Down time (hrs)'].mean(),\n",
    "    domain={'x': [0.1, 1], 'y': [0, 1]},\n",
    "    title={\"text\": \"🔫 Bullet Chart: Avg Downtime (hrs)\"},\n",
    "    delta={'reference': 3},\n",
    "    gauge={\n",
    "        'shape': \"bullet\",\n",
    "        'axis': {'range': [0, 8]},\n",
    "        'threshold': {'line': {'color': \"red\", 'width': 2}, 'value': 3},\n",
    "        'bar': {'color': \"lightblue\"},\n",
    "        'steps': [{'range': [0, 3], 'color': \"lightgray\"},\n",
    "                  {'range': [3, 8], 'color': \"gray\"}]\n",
    "    }\n",
    "))\n",
    "fig.show()"
   ]
  },
  {
   "cell_type": "markdown",
   "id": "2fbc8032",
   "metadata": {},
   "source": [
    "***\n",
    "### 🧩 Show Relative Composition of Data\n",
    "### Includes:\n",
    "- Pie Chart\n",
    "- Donut Chart\n",
    "- Treemap"
   ]
  },
  {
   "cell_type": "code",
   "execution_count": 8,
   "id": "3b60efcb",
   "metadata": {},
   "outputs": [
    {
     "data": {
      "application/vnd.plotly.v1+json": {
       "config": {
        "plotlyServerURL": "https://plot.ly"
       },
       "data": [
        {
         "domain": {
          "x": [
           0,
           1
          ],
          "y": [
           0,
           1
          ]
         },
         "hovertemplate": "Weather Condition=%{label}<extra></extra>",
         "labels": [
          "Clear",
          "Rainy",
          "Windstorm",
          "Clear",
          "Snowy",
          "Thunderstorm",
          "Snowy",
          "Snowy",
          "Rainy",
          "Clear",
          "Clear",
          "Clear",
          "Clear",
          "Rainy",
          "Rainy",
          "Rainy",
          "Rainy",
          "Thunderstorm",
          "Snowy",
          "Clear",
          "Thunderstorm",
          "Thunderstorm",
          "Clear",
          "Snowy",
          "Thunderstorm",
          "Rainy",
          "Thunderstorm",
          "Thunderstorm",
          "Windstorm",
          "Clear",
          "Clear",
          "Clear",
          "Windstorm",
          "Rainy",
          "Thunderstorm",
          "Clear",
          "Rainy",
          "Snowy",
          "Snowy",
          "Snowy",
          "Snowy",
          "Thunderstorm",
          "Clear",
          "Rainy",
          "Rainy",
          "Rainy",
          "Clear",
          "Thunderstorm",
          "Snowy",
          "Rainy",
          "Thunderstorm",
          "Rainy",
          "Windstorm",
          "Snowy",
          "Snowy",
          "Thunderstorm",
          "Windstorm",
          "Rainy",
          "Thunderstorm",
          "Thunderstorm",
          "Thunderstorm",
          "Snowy",
          "Snowy",
          "Thunderstorm",
          "Thunderstorm",
          "Rainy",
          "Snowy",
          "Rainy",
          "Windstorm",
          "Windstorm",
          "Thunderstorm",
          "Snowy",
          "Windstorm",
          "Snowy",
          "Thunderstorm",
          "Snowy",
          "Thunderstorm",
          "Rainy",
          "Rainy",
          "Windstorm",
          "Rainy",
          "Clear",
          "Windstorm",
          "Rainy",
          "Snowy",
          "Snowy",
          "Snowy",
          "Rainy",
          "Clear",
          "Snowy",
          "Thunderstorm",
          "Clear",
          "Rainy",
          "Thunderstorm",
          "Clear",
          "Clear",
          "Thunderstorm",
          "Clear",
          "Snowy",
          "Clear",
          "Clear",
          "Thunderstorm",
          "Rainy",
          "Snowy",
          "Thunderstorm",
          "Snowy",
          "Snowy",
          "Clear",
          "Windstorm",
          "Windstorm",
          "Clear",
          "Rainy",
          "Rainy",
          "Thunderstorm",
          "Thunderstorm",
          "Clear",
          "Thunderstorm",
          "Rainy",
          "Windstorm",
          "Rainy",
          "Thunderstorm",
          "Rainy",
          "Clear",
          "Windstorm",
          "Windstorm",
          "Clear",
          "Rainy",
          "Clear",
          "Clear",
          "Rainy",
          "Windstorm",
          "Snowy",
          "Thunderstorm",
          "Windstorm",
          "Rainy",
          "Rainy",
          "Windstorm",
          "Clear",
          "Rainy",
          "Rainy",
          "Clear",
          "Clear",
          "Snowy",
          "Clear",
          "Windstorm",
          "Windstorm",
          "Clear",
          "Rainy",
          "Clear",
          "Clear",
          "Windstorm",
          "Snowy",
          "Rainy",
          "Windstorm",
          "Snowy",
          "Windstorm",
          "Rainy",
          "Clear",
          "Thunderstorm",
          "Clear",
          "Rainy",
          "Rainy",
          "Clear",
          "Rainy",
          "Clear",
          "Thunderstorm",
          "Rainy",
          "Rainy",
          "Clear",
          "Rainy",
          "Windstorm",
          "Snowy",
          "Windstorm",
          "Snowy",
          "Rainy",
          "Rainy",
          "Clear",
          "Rainy",
          "Thunderstorm",
          "Rainy",
          "Clear",
          "Clear",
          "Thunderstorm",
          "Thunderstorm",
          "Thunderstorm",
          "Clear",
          "Rainy",
          "Snowy",
          "Snowy",
          "Clear",
          "Rainy",
          "Clear",
          "Thunderstorm",
          "Clear",
          "Rainy",
          "Rainy",
          "Rainy",
          "Rainy",
          "Thunderstorm",
          "Windstorm",
          "Windstorm",
          "Snowy",
          "Rainy",
          "Windstorm",
          "Rainy",
          "Thunderstorm",
          "Clear",
          "Snowy",
          "Windstorm",
          "Snowy",
          "Clear",
          "Snowy",
          "Clear",
          "Clear",
          "Windstorm",
          "Windstorm",
          "Rainy",
          "Clear",
          "Rainy",
          "Snowy",
          "Snowy",
          "Clear",
          "Snowy",
          "Rainy",
          "Snowy",
          "Windstorm",
          "Windstorm",
          "Rainy",
          "Windstorm",
          "Windstorm",
          "Thunderstorm",
          "Snowy",
          "Snowy",
          "Thunderstorm",
          "Windstorm",
          "Thunderstorm",
          "Rainy",
          "Windstorm",
          "Rainy",
          "Windstorm",
          "Clear",
          "Clear",
          "Thunderstorm",
          "Snowy",
          "Clear",
          "Thunderstorm",
          "Clear",
          "Snowy",
          "Thunderstorm",
          "Clear",
          "Thunderstorm",
          "Clear",
          "Thunderstorm",
          "Rainy",
          "Clear",
          "Rainy",
          "Rainy",
          "Rainy",
          "Rainy",
          "Rainy",
          "Snowy",
          "Snowy",
          "Windstorm",
          "Rainy",
          "Thunderstorm",
          "Thunderstorm",
          "Clear",
          "Thunderstorm",
          "Windstorm",
          "Windstorm",
          "Clear",
          "Thunderstorm",
          "Rainy",
          "Thunderstorm",
          "Thunderstorm",
          "Snowy",
          "Windstorm",
          "Clear",
          "Thunderstorm",
          "Snowy",
          "Clear",
          "Rainy",
          "Thunderstorm",
          "Rainy",
          "Rainy",
          "Rainy",
          "Thunderstorm",
          "Clear",
          "Thunderstorm",
          "Windstorm",
          "Snowy",
          "Windstorm",
          "Rainy",
          "Snowy",
          "Rainy",
          "Snowy",
          "Snowy",
          "Clear",
          "Windstorm",
          "Rainy",
          "Snowy",
          "Thunderstorm",
          "Thunderstorm",
          "Rainy",
          "Windstorm",
          "Clear",
          "Windstorm",
          "Snowy",
          "Clear",
          "Rainy",
          "Rainy",
          "Windstorm",
          "Rainy",
          "Rainy",
          "Thunderstorm",
          "Thunderstorm",
          "Rainy",
          "Snowy",
          "Windstorm",
          "Thunderstorm",
          "Thunderstorm",
          "Rainy",
          "Thunderstorm",
          "Rainy",
          "Snowy",
          "Rainy",
          "Snowy",
          "Thunderstorm",
          "Clear",
          "Clear",
          "Thunderstorm",
          "Thunderstorm",
          "Windstorm",
          "Rainy",
          "Thunderstorm",
          "Clear",
          "Clear",
          "Rainy",
          "Thunderstorm",
          "Snowy",
          "Thunderstorm",
          "Rainy",
          "Thunderstorm",
          "Windstorm",
          "Rainy",
          "Rainy",
          "Snowy",
          "Windstorm",
          "Rainy",
          "Thunderstorm",
          "Snowy",
          "Windstorm",
          "Clear",
          "Rainy",
          "Rainy",
          "Snowy",
          "Rainy",
          "Rainy",
          "Snowy",
          "Rainy",
          "Clear",
          "Windstorm",
          "Windstorm",
          "Windstorm",
          "Windstorm",
          "Rainy",
          "Thunderstorm",
          "Thunderstorm",
          "Thunderstorm",
          "Snowy",
          "Snowy",
          "Snowy",
          "Rainy",
          "Snowy",
          "Windstorm",
          "Clear",
          "Thunderstorm",
          "Snowy",
          "Rainy",
          "Thunderstorm",
          "Clear",
          "Thunderstorm",
          "Windstorm",
          "Rainy",
          "Windstorm",
          "Windstorm",
          "Thunderstorm",
          "Clear",
          "Snowy",
          "Thunderstorm",
          "Snowy",
          "Clear",
          "Windstorm",
          "Thunderstorm",
          "Windstorm",
          "Clear",
          "Thunderstorm",
          "Snowy",
          "Snowy",
          "Clear",
          "Clear",
          "Rainy",
          "Thunderstorm",
          "Clear",
          "Clear",
          "Windstorm",
          "Rainy",
          "Clear",
          "Windstorm",
          "Windstorm",
          "Snowy",
          "Snowy",
          "Snowy",
          "Windstorm",
          "Windstorm",
          "Windstorm",
          "Snowy",
          "Clear",
          "Clear",
          "Rainy",
          "Rainy",
          "Rainy",
          "Clear",
          "Thunderstorm",
          "Thunderstorm",
          "Thunderstorm",
          "Clear",
          "Thunderstorm",
          "Rainy",
          "Snowy",
          "Clear",
          "Clear",
          "Snowy",
          "Clear",
          "Thunderstorm",
          "Windstorm",
          "Snowy",
          "Rainy",
          "Clear",
          "Clear",
          "Windstorm",
          "Windstorm",
          "Windstorm",
          "Thunderstorm",
          "Clear",
          "Clear",
          "Windstorm",
          "Windstorm",
          "Windstorm",
          "Windstorm",
          "Thunderstorm",
          "Snowy",
          "Snowy",
          "Snowy",
          "Clear",
          "Windstorm",
          "Rainy",
          "Snowy",
          "Snowy",
          "Snowy",
          "Clear",
          "Rainy",
          "Windstorm",
          "Thunderstorm",
          "Rainy",
          "Snowy",
          "Windstorm",
          "Snowy",
          "Clear",
          "Thunderstorm",
          "Clear",
          "Clear",
          "Thunderstorm",
          "Rainy",
          "Clear",
          "Clear",
          "Clear",
          "Rainy",
          "Snowy",
          "Clear",
          "Windstorm",
          "Clear",
          "Thunderstorm",
          "Windstorm",
          "Thunderstorm",
          "Rainy",
          "Windstorm",
          "Snowy",
          "Thunderstorm",
          "Rainy",
          "Clear",
          "Snowy",
          "Windstorm",
          "Clear",
          "Windstorm",
          "Clear",
          "Clear",
          "Windstorm",
          "Thunderstorm",
          "Rainy",
          "Windstorm",
          "Thunderstorm",
          "Rainy",
          "Thunderstorm",
          "Snowy",
          "Thunderstorm"
         ],
         "legendgroup": "",
         "name": "",
         "showlegend": true,
         "textinfo": "percent+label",
         "type": "pie"
        }
       ],
       "layout": {
        "legend": {
         "tracegroupgap": 0
        },
        "template": {
         "data": {
          "bar": [
           {
            "error_x": {
             "color": "#2a3f5f"
            },
            "error_y": {
             "color": "#2a3f5f"
            },
            "marker": {
             "line": {
              "color": "#E5ECF6",
              "width": 0.5
             },
             "pattern": {
              "fillmode": "overlay",
              "size": 10,
              "solidity": 0.2
             }
            },
            "type": "bar"
           }
          ],
          "barpolar": [
           {
            "marker": {
             "line": {
              "color": "#E5ECF6",
              "width": 0.5
             },
             "pattern": {
              "fillmode": "overlay",
              "size": 10,
              "solidity": 0.2
             }
            },
            "type": "barpolar"
           }
          ],
          "carpet": [
           {
            "aaxis": {
             "endlinecolor": "#2a3f5f",
             "gridcolor": "white",
             "linecolor": "white",
             "minorgridcolor": "white",
             "startlinecolor": "#2a3f5f"
            },
            "baxis": {
             "endlinecolor": "#2a3f5f",
             "gridcolor": "white",
             "linecolor": "white",
             "minorgridcolor": "white",
             "startlinecolor": "#2a3f5f"
            },
            "type": "carpet"
           }
          ],
          "choropleth": [
           {
            "colorbar": {
             "outlinewidth": 0,
             "ticks": ""
            },
            "type": "choropleth"
           }
          ],
          "contour": [
           {
            "colorbar": {
             "outlinewidth": 0,
             "ticks": ""
            },
            "colorscale": [
             [
              0,
              "#0d0887"
             ],
             [
              0.1111111111111111,
              "#46039f"
             ],
             [
              0.2222222222222222,
              "#7201a8"
             ],
             [
              0.3333333333333333,
              "#9c179e"
             ],
             [
              0.4444444444444444,
              "#bd3786"
             ],
             [
              0.5555555555555556,
              "#d8576b"
             ],
             [
              0.6666666666666666,
              "#ed7953"
             ],
             [
              0.7777777777777778,
              "#fb9f3a"
             ],
             [
              0.8888888888888888,
              "#fdca26"
             ],
             [
              1,
              "#f0f921"
             ]
            ],
            "type": "contour"
           }
          ],
          "contourcarpet": [
           {
            "colorbar": {
             "outlinewidth": 0,
             "ticks": ""
            },
            "type": "contourcarpet"
           }
          ],
          "heatmap": [
           {
            "colorbar": {
             "outlinewidth": 0,
             "ticks": ""
            },
            "colorscale": [
             [
              0,
              "#0d0887"
             ],
             [
              0.1111111111111111,
              "#46039f"
             ],
             [
              0.2222222222222222,
              "#7201a8"
             ],
             [
              0.3333333333333333,
              "#9c179e"
             ],
             [
              0.4444444444444444,
              "#bd3786"
             ],
             [
              0.5555555555555556,
              "#d8576b"
             ],
             [
              0.6666666666666666,
              "#ed7953"
             ],
             [
              0.7777777777777778,
              "#fb9f3a"
             ],
             [
              0.8888888888888888,
              "#fdca26"
             ],
             [
              1,
              "#f0f921"
             ]
            ],
            "type": "heatmap"
           }
          ],
          "histogram": [
           {
            "marker": {
             "pattern": {
              "fillmode": "overlay",
              "size": 10,
              "solidity": 0.2
             }
            },
            "type": "histogram"
           }
          ],
          "histogram2d": [
           {
            "colorbar": {
             "outlinewidth": 0,
             "ticks": ""
            },
            "colorscale": [
             [
              0,
              "#0d0887"
             ],
             [
              0.1111111111111111,
              "#46039f"
             ],
             [
              0.2222222222222222,
              "#7201a8"
             ],
             [
              0.3333333333333333,
              "#9c179e"
             ],
             [
              0.4444444444444444,
              "#bd3786"
             ],
             [
              0.5555555555555556,
              "#d8576b"
             ],
             [
              0.6666666666666666,
              "#ed7953"
             ],
             [
              0.7777777777777778,
              "#fb9f3a"
             ],
             [
              0.8888888888888888,
              "#fdca26"
             ],
             [
              1,
              "#f0f921"
             ]
            ],
            "type": "histogram2d"
           }
          ],
          "histogram2dcontour": [
           {
            "colorbar": {
             "outlinewidth": 0,
             "ticks": ""
            },
            "colorscale": [
             [
              0,
              "#0d0887"
             ],
             [
              0.1111111111111111,
              "#46039f"
             ],
             [
              0.2222222222222222,
              "#7201a8"
             ],
             [
              0.3333333333333333,
              "#9c179e"
             ],
             [
              0.4444444444444444,
              "#bd3786"
             ],
             [
              0.5555555555555556,
              "#d8576b"
             ],
             [
              0.6666666666666666,
              "#ed7953"
             ],
             [
              0.7777777777777778,
              "#fb9f3a"
             ],
             [
              0.8888888888888888,
              "#fdca26"
             ],
             [
              1,
              "#f0f921"
             ]
            ],
            "type": "histogram2dcontour"
           }
          ],
          "mesh3d": [
           {
            "colorbar": {
             "outlinewidth": 0,
             "ticks": ""
            },
            "type": "mesh3d"
           }
          ],
          "parcoords": [
           {
            "line": {
             "colorbar": {
              "outlinewidth": 0,
              "ticks": ""
             }
            },
            "type": "parcoords"
           }
          ],
          "pie": [
           {
            "automargin": true,
            "type": "pie"
           }
          ],
          "scatter": [
           {
            "fillpattern": {
             "fillmode": "overlay",
             "size": 10,
             "solidity": 0.2
            },
            "type": "scatter"
           }
          ],
          "scatter3d": [
           {
            "line": {
             "colorbar": {
              "outlinewidth": 0,
              "ticks": ""
             }
            },
            "marker": {
             "colorbar": {
              "outlinewidth": 0,
              "ticks": ""
             }
            },
            "type": "scatter3d"
           }
          ],
          "scattercarpet": [
           {
            "marker": {
             "colorbar": {
              "outlinewidth": 0,
              "ticks": ""
             }
            },
            "type": "scattercarpet"
           }
          ],
          "scattergeo": [
           {
            "marker": {
             "colorbar": {
              "outlinewidth": 0,
              "ticks": ""
             }
            },
            "type": "scattergeo"
           }
          ],
          "scattergl": [
           {
            "marker": {
             "colorbar": {
              "outlinewidth": 0,
              "ticks": ""
             }
            },
            "type": "scattergl"
           }
          ],
          "scattermap": [
           {
            "marker": {
             "colorbar": {
              "outlinewidth": 0,
              "ticks": ""
             }
            },
            "type": "scattermap"
           }
          ],
          "scattermapbox": [
           {
            "marker": {
             "colorbar": {
              "outlinewidth": 0,
              "ticks": ""
             }
            },
            "type": "scattermapbox"
           }
          ],
          "scatterpolar": [
           {
            "marker": {
             "colorbar": {
              "outlinewidth": 0,
              "ticks": ""
             }
            },
            "type": "scatterpolar"
           }
          ],
          "scatterpolargl": [
           {
            "marker": {
             "colorbar": {
              "outlinewidth": 0,
              "ticks": ""
             }
            },
            "type": "scatterpolargl"
           }
          ],
          "scatterternary": [
           {
            "marker": {
             "colorbar": {
              "outlinewidth": 0,
              "ticks": ""
             }
            },
            "type": "scatterternary"
           }
          ],
          "surface": [
           {
            "colorbar": {
             "outlinewidth": 0,
             "ticks": ""
            },
            "colorscale": [
             [
              0,
              "#0d0887"
             ],
             [
              0.1111111111111111,
              "#46039f"
             ],
             [
              0.2222222222222222,
              "#7201a8"
             ],
             [
              0.3333333333333333,
              "#9c179e"
             ],
             [
              0.4444444444444444,
              "#bd3786"
             ],
             [
              0.5555555555555556,
              "#d8576b"
             ],
             [
              0.6666666666666666,
              "#ed7953"
             ],
             [
              0.7777777777777778,
              "#fb9f3a"
             ],
             [
              0.8888888888888888,
              "#fdca26"
             ],
             [
              1,
              "#f0f921"
             ]
            ],
            "type": "surface"
           }
          ],
          "table": [
           {
            "cells": {
             "fill": {
              "color": "#EBF0F8"
             },
             "line": {
              "color": "white"
             }
            },
            "header": {
             "fill": {
              "color": "#C8D4E3"
             },
             "line": {
              "color": "white"
             }
            },
            "type": "table"
           }
          ]
         },
         "layout": {
          "annotationdefaults": {
           "arrowcolor": "#2a3f5f",
           "arrowhead": 0,
           "arrowwidth": 1
          },
          "autotypenumbers": "strict",
          "coloraxis": {
           "colorbar": {
            "outlinewidth": 0,
            "ticks": ""
           }
          },
          "colorscale": {
           "diverging": [
            [
             0,
             "#8e0152"
            ],
            [
             0.1,
             "#c51b7d"
            ],
            [
             0.2,
             "#de77ae"
            ],
            [
             0.3,
             "#f1b6da"
            ],
            [
             0.4,
             "#fde0ef"
            ],
            [
             0.5,
             "#f7f7f7"
            ],
            [
             0.6,
             "#e6f5d0"
            ],
            [
             0.7,
             "#b8e186"
            ],
            [
             0.8,
             "#7fbc41"
            ],
            [
             0.9,
             "#4d9221"
            ],
            [
             1,
             "#276419"
            ]
           ],
           "sequential": [
            [
             0,
             "#0d0887"
            ],
            [
             0.1111111111111111,
             "#46039f"
            ],
            [
             0.2222222222222222,
             "#7201a8"
            ],
            [
             0.3333333333333333,
             "#9c179e"
            ],
            [
             0.4444444444444444,
             "#bd3786"
            ],
            [
             0.5555555555555556,
             "#d8576b"
            ],
            [
             0.6666666666666666,
             "#ed7953"
            ],
            [
             0.7777777777777778,
             "#fb9f3a"
            ],
            [
             0.8888888888888888,
             "#fdca26"
            ],
            [
             1,
             "#f0f921"
            ]
           ],
           "sequentialminus": [
            [
             0,
             "#0d0887"
            ],
            [
             0.1111111111111111,
             "#46039f"
            ],
            [
             0.2222222222222222,
             "#7201a8"
            ],
            [
             0.3333333333333333,
             "#9c179e"
            ],
            [
             0.4444444444444444,
             "#bd3786"
            ],
            [
             0.5555555555555556,
             "#d8576b"
            ],
            [
             0.6666666666666666,
             "#ed7953"
            ],
            [
             0.7777777777777778,
             "#fb9f3a"
            ],
            [
             0.8888888888888888,
             "#fdca26"
            ],
            [
             1,
             "#f0f921"
            ]
           ]
          },
          "colorway": [
           "#636efa",
           "#EF553B",
           "#00cc96",
           "#ab63fa",
           "#FFA15A",
           "#19d3f3",
           "#FF6692",
           "#B6E880",
           "#FF97FF",
           "#FECB52"
          ],
          "font": {
           "color": "#2a3f5f"
          },
          "geo": {
           "bgcolor": "white",
           "lakecolor": "white",
           "landcolor": "#E5ECF6",
           "showlakes": true,
           "showland": true,
           "subunitcolor": "white"
          },
          "hoverlabel": {
           "align": "left"
          },
          "hovermode": "closest",
          "mapbox": {
           "style": "light"
          },
          "paper_bgcolor": "white",
          "plot_bgcolor": "#E5ECF6",
          "polar": {
           "angularaxis": {
            "gridcolor": "white",
            "linecolor": "white",
            "ticks": ""
           },
           "bgcolor": "#E5ECF6",
           "radialaxis": {
            "gridcolor": "white",
            "linecolor": "white",
            "ticks": ""
           }
          },
          "scene": {
           "xaxis": {
            "backgroundcolor": "#E5ECF6",
            "gridcolor": "white",
            "gridwidth": 2,
            "linecolor": "white",
            "showbackground": true,
            "ticks": "",
            "zerolinecolor": "white"
           },
           "yaxis": {
            "backgroundcolor": "#E5ECF6",
            "gridcolor": "white",
            "gridwidth": 2,
            "linecolor": "white",
            "showbackground": true,
            "ticks": "",
            "zerolinecolor": "white"
           },
           "zaxis": {
            "backgroundcolor": "#E5ECF6",
            "gridcolor": "white",
            "gridwidth": 2,
            "linecolor": "white",
            "showbackground": true,
            "ticks": "",
            "zerolinecolor": "white"
           }
          },
          "shapedefaults": {
           "line": {
            "color": "#2a3f5f"
           }
          },
          "ternary": {
           "aaxis": {
            "gridcolor": "white",
            "linecolor": "white",
            "ticks": ""
           },
           "baxis": {
            "gridcolor": "white",
            "linecolor": "white",
            "ticks": ""
           },
           "bgcolor": "#E5ECF6",
           "caxis": {
            "gridcolor": "white",
            "linecolor": "white",
            "ticks": ""
           }
          },
          "title": {
           "x": 0.05
          },
          "xaxis": {
           "automargin": true,
           "gridcolor": "white",
           "linecolor": "white",
           "ticks": "",
           "title": {
            "standoff": 15
           },
           "zerolinecolor": "white",
           "zerolinewidth": 2
          },
          "yaxis": {
           "automargin": true,
           "gridcolor": "white",
           "linecolor": "white",
           "ticks": "",
           "title": {
            "standoff": 15
           },
           "zerolinecolor": "white",
           "zerolinewidth": 2
          }
         }
        },
        "title": {
         "text": "☁️ Pie Chart: Faults by Weather"
        }
       }
      }
     },
     "metadata": {},
     "output_type": "display_data"
    }
   ],
   "source": [
    "fig = px.pie(df, names='Weather Condition', title='☁️ Pie Chart: Faults by Weather')\n",
    "fig.update_traces(textinfo='percent+label')\n",
    "fig.show()"
   ]
  },
  {
   "cell_type": "code",
   "execution_count": 9,
   "id": "2f652851",
   "metadata": {},
   "outputs": [
    {
     "data": {
      "application/vnd.plotly.v1+json": {
       "config": {
        "plotlyServerURL": "https://plot.ly"
       },
       "data": [
        {
         "domain": {
          "x": [
           0,
           1
          ],
          "y": [
           0,
           1
          ]
         },
         "hole": 0.4,
         "hovertemplate": "Fault Type=%{label}<extra></extra>",
         "labels": [
          "Line Breakage",
          "Transformer Failure",
          "Overheating",
          "Line Breakage",
          "Transformer Failure",
          "Overheating",
          "Line Breakage",
          "Transformer Failure",
          "Line Breakage",
          "Line Breakage",
          "Overheating",
          "Transformer Failure",
          "Line Breakage",
          "Line Breakage",
          "Line Breakage",
          "Transformer Failure",
          "Overheating",
          "Line Breakage",
          "Transformer Failure",
          "Line Breakage",
          "Line Breakage",
          "Overheating",
          "Overheating",
          "Line Breakage",
          "Transformer Failure",
          "Overheating",
          "Line Breakage",
          "Transformer Failure",
          "Line Breakage",
          "Line Breakage",
          "Transformer Failure",
          "Overheating",
          "Overheating",
          "Line Breakage",
          "Transformer Failure",
          "Overheating",
          "Line Breakage",
          "Overheating",
          "Line Breakage",
          "Transformer Failure",
          "Line Breakage",
          "Line Breakage",
          "Overheating",
          "Line Breakage",
          "Overheating",
          "Transformer Failure",
          "Line Breakage",
          "Overheating",
          "Transformer Failure",
          "Line Breakage",
          "Overheating",
          "Transformer Failure",
          "Line Breakage",
          "Transformer Failure",
          "Line Breakage",
          "Overheating",
          "Overheating",
          "Overheating",
          "Line Breakage",
          "Overheating",
          "Transformer Failure",
          "Overheating",
          "Overheating",
          "Transformer Failure",
          "Overheating",
          "Overheating",
          "Transformer Failure",
          "Transformer Failure",
          "Transformer Failure",
          "Transformer Failure",
          "Overheating",
          "Overheating",
          "Line Breakage",
          "Transformer Failure",
          "Line Breakage",
          "Line Breakage",
          "Transformer Failure",
          "Transformer Failure",
          "Line Breakage",
          "Overheating",
          "Transformer Failure",
          "Transformer Failure",
          "Line Breakage",
          "Transformer Failure",
          "Overheating",
          "Overheating",
          "Transformer Failure",
          "Transformer Failure",
          "Overheating",
          "Transformer Failure",
          "Transformer Failure",
          "Transformer Failure",
          "Transformer Failure",
          "Overheating",
          "Overheating",
          "Transformer Failure",
          "Transformer Failure",
          "Line Breakage",
          "Transformer Failure",
          "Transformer Failure",
          "Line Breakage",
          "Line Breakage",
          "Overheating",
          "Overheating",
          "Transformer Failure",
          "Line Breakage",
          "Transformer Failure",
          "Overheating",
          "Overheating",
          "Overheating",
          "Transformer Failure",
          "Line Breakage",
          "Transformer Failure",
          "Line Breakage",
          "Line Breakage",
          "Transformer Failure",
          "Transformer Failure",
          "Line Breakage",
          "Overheating",
          "Line Breakage",
          "Transformer Failure",
          "Overheating",
          "Transformer Failure",
          "Transformer Failure",
          "Line Breakage",
          "Overheating",
          "Line Breakage",
          "Line Breakage",
          "Overheating",
          "Overheating",
          "Transformer Failure",
          "Line Breakage",
          "Line Breakage",
          "Transformer Failure",
          "Overheating",
          "Overheating",
          "Line Breakage",
          "Transformer Failure",
          "Transformer Failure",
          "Transformer Failure",
          "Line Breakage",
          "Overheating",
          "Transformer Failure",
          "Transformer Failure",
          "Line Breakage",
          "Transformer Failure",
          "Line Breakage",
          "Transformer Failure",
          "Line Breakage",
          "Line Breakage",
          "Transformer Failure",
          "Line Breakage",
          "Overheating",
          "Line Breakage",
          "Transformer Failure",
          "Transformer Failure",
          "Transformer Failure",
          "Overheating",
          "Transformer Failure",
          "Transformer Failure",
          "Overheating",
          "Overheating",
          "Transformer Failure",
          "Overheating",
          "Line Breakage",
          "Line Breakage",
          "Overheating",
          "Line Breakage",
          "Overheating",
          "Line Breakage",
          "Transformer Failure",
          "Overheating",
          "Transformer Failure",
          "Overheating",
          "Overheating",
          "Transformer Failure",
          "Overheating",
          "Line Breakage",
          "Transformer Failure",
          "Transformer Failure",
          "Transformer Failure",
          "Line Breakage",
          "Overheating",
          "Line Breakage",
          "Transformer Failure",
          "Line Breakage",
          "Overheating",
          "Transformer Failure",
          "Overheating",
          "Overheating",
          "Transformer Failure",
          "Line Breakage",
          "Overheating",
          "Transformer Failure",
          "Overheating",
          "Transformer Failure",
          "Line Breakage",
          "Line Breakage",
          "Overheating",
          "Overheating",
          "Transformer Failure",
          "Transformer Failure",
          "Transformer Failure",
          "Overheating",
          "Overheating",
          "Line Breakage",
          "Overheating",
          "Overheating",
          "Transformer Failure",
          "Line Breakage",
          "Line Breakage",
          "Overheating",
          "Overheating",
          "Transformer Failure",
          "Line Breakage",
          "Line Breakage",
          "Transformer Failure",
          "Overheating",
          "Overheating",
          "Overheating",
          "Line Breakage",
          "Overheating",
          "Transformer Failure",
          "Line Breakage",
          "Line Breakage",
          "Line Breakage",
          "Transformer Failure",
          "Transformer Failure",
          "Transformer Failure",
          "Line Breakage",
          "Overheating",
          "Line Breakage",
          "Line Breakage",
          "Overheating",
          "Line Breakage",
          "Overheating",
          "Line Breakage",
          "Line Breakage",
          "Line Breakage",
          "Transformer Failure",
          "Line Breakage",
          "Transformer Failure",
          "Overheating",
          "Line Breakage",
          "Transformer Failure",
          "Overheating",
          "Overheating",
          "Transformer Failure",
          "Line Breakage",
          "Transformer Failure",
          "Overheating",
          "Line Breakage",
          "Line Breakage",
          "Overheating",
          "Line Breakage",
          "Overheating",
          "Overheating",
          "Line Breakage",
          "Overheating",
          "Transformer Failure",
          "Overheating",
          "Line Breakage",
          "Overheating",
          "Line Breakage",
          "Overheating",
          "Line Breakage",
          "Overheating",
          "Overheating",
          "Line Breakage",
          "Line Breakage",
          "Overheating",
          "Transformer Failure",
          "Overheating",
          "Transformer Failure",
          "Transformer Failure",
          "Line Breakage",
          "Line Breakage",
          "Transformer Failure",
          "Transformer Failure",
          "Overheating",
          "Line Breakage",
          "Overheating",
          "Line Breakage",
          "Transformer Failure",
          "Overheating",
          "Line Breakage",
          "Line Breakage",
          "Transformer Failure",
          "Transformer Failure",
          "Overheating",
          "Overheating",
          "Line Breakage",
          "Overheating",
          "Line Breakage",
          "Line Breakage",
          "Line Breakage",
          "Transformer Failure",
          "Transformer Failure",
          "Transformer Failure",
          "Overheating",
          "Transformer Failure",
          "Line Breakage",
          "Line Breakage",
          "Line Breakage",
          "Line Breakage",
          "Overheating",
          "Overheating",
          "Line Breakage",
          "Transformer Failure",
          "Transformer Failure",
          "Transformer Failure",
          "Transformer Failure",
          "Overheating",
          "Line Breakage",
          "Overheating",
          "Transformer Failure",
          "Overheating",
          "Line Breakage",
          "Transformer Failure",
          "Transformer Failure",
          "Transformer Failure",
          "Line Breakage",
          "Transformer Failure",
          "Transformer Failure",
          "Overheating",
          "Line Breakage",
          "Line Breakage",
          "Line Breakage",
          "Transformer Failure",
          "Line Breakage",
          "Line Breakage",
          "Overheating",
          "Overheating",
          "Overheating",
          "Transformer Failure",
          "Overheating",
          "Line Breakage",
          "Line Breakage",
          "Transformer Failure",
          "Transformer Failure",
          "Transformer Failure",
          "Overheating",
          "Overheating",
          "Overheating",
          "Transformer Failure",
          "Line Breakage",
          "Transformer Failure",
          "Overheating",
          "Overheating",
          "Overheating",
          "Transformer Failure",
          "Line Breakage",
          "Overheating",
          "Overheating",
          "Overheating",
          "Overheating",
          "Line Breakage",
          "Line Breakage",
          "Transformer Failure",
          "Transformer Failure",
          "Overheating",
          "Overheating",
          "Line Breakage",
          "Overheating",
          "Transformer Failure",
          "Line Breakage",
          "Line Breakage",
          "Line Breakage",
          "Transformer Failure",
          "Transformer Failure",
          "Transformer Failure",
          "Transformer Failure",
          "Line Breakage",
          "Line Breakage",
          "Overheating",
          "Line Breakage",
          "Overheating",
          "Line Breakage",
          "Transformer Failure",
          "Overheating",
          "Overheating",
          "Overheating",
          "Line Breakage",
          "Transformer Failure",
          "Transformer Failure",
          "Transformer Failure",
          "Line Breakage",
          "Transformer Failure",
          "Overheating",
          "Transformer Failure",
          "Line Breakage",
          "Overheating",
          "Overheating",
          "Line Breakage",
          "Transformer Failure",
          "Line Breakage",
          "Line Breakage",
          "Line Breakage",
          "Line Breakage",
          "Line Breakage",
          "Line Breakage",
          "Transformer Failure",
          "Line Breakage",
          "Line Breakage",
          "Overheating",
          "Line Breakage",
          "Line Breakage",
          "Transformer Failure",
          "Transformer Failure",
          "Overheating",
          "Line Breakage",
          "Transformer Failure",
          "Overheating",
          "Overheating",
          "Line Breakage",
          "Overheating",
          "Line Breakage",
          "Overheating",
          "Transformer Failure",
          "Transformer Failure",
          "Transformer Failure",
          "Overheating",
          "Line Breakage",
          "Overheating",
          "Overheating",
          "Overheating",
          "Transformer Failure",
          "Overheating",
          "Overheating",
          "Line Breakage",
          "Transformer Failure",
          "Transformer Failure",
          "Overheating",
          "Transformer Failure",
          "Transformer Failure",
          "Line Breakage",
          "Overheating",
          "Overheating",
          "Transformer Failure",
          "Line Breakage",
          "Line Breakage",
          "Transformer Failure",
          "Transformer Failure",
          "Overheating",
          "Transformer Failure",
          "Overheating",
          "Overheating",
          "Line Breakage",
          "Overheating",
          "Overheating",
          "Transformer Failure",
          "Line Breakage",
          "Line Breakage",
          "Line Breakage",
          "Overheating",
          "Line Breakage",
          "Line Breakage",
          "Transformer Failure",
          "Overheating",
          "Transformer Failure",
          "Overheating",
          "Overheating",
          "Transformer Failure",
          "Transformer Failure",
          "Transformer Failure",
          "Line Breakage",
          "Transformer Failure",
          "Transformer Failure",
          "Overheating",
          "Overheating",
          "Transformer Failure",
          "Transformer Failure",
          "Transformer Failure",
          "Line Breakage",
          "Overheating",
          "Line Breakage",
          "Overheating",
          "Transformer Failure",
          "Transformer Failure",
          "Overheating",
          "Overheating",
          "Overheating",
          "Overheating",
          "Overheating",
          "Overheating",
          "Transformer Failure",
          "Overheating",
          "Line Breakage",
          "Transformer Failure",
          "Overheating",
          "Overheating",
          "Line Breakage",
          "Overheating",
          "Transformer Failure",
          "Overheating",
          "Transformer Failure",
          "Line Breakage",
          "Transformer Failure",
          "Transformer Failure",
          "Overheating",
          "Transformer Failure",
          "Overheating",
          "Transformer Failure",
          "Transformer Failure",
          "Overheating",
          "Line Breakage"
         ],
         "legendgroup": "",
         "name": "",
         "showlegend": true,
         "textinfo": "percent+label",
         "type": "pie"
        }
       ],
       "layout": {
        "legend": {
         "tracegroupgap": 0
        },
        "template": {
         "data": {
          "bar": [
           {
            "error_x": {
             "color": "#2a3f5f"
            },
            "error_y": {
             "color": "#2a3f5f"
            },
            "marker": {
             "line": {
              "color": "#E5ECF6",
              "width": 0.5
             },
             "pattern": {
              "fillmode": "overlay",
              "size": 10,
              "solidity": 0.2
             }
            },
            "type": "bar"
           }
          ],
          "barpolar": [
           {
            "marker": {
             "line": {
              "color": "#E5ECF6",
              "width": 0.5
             },
             "pattern": {
              "fillmode": "overlay",
              "size": 10,
              "solidity": 0.2
             }
            },
            "type": "barpolar"
           }
          ],
          "carpet": [
           {
            "aaxis": {
             "endlinecolor": "#2a3f5f",
             "gridcolor": "white",
             "linecolor": "white",
             "minorgridcolor": "white",
             "startlinecolor": "#2a3f5f"
            },
            "baxis": {
             "endlinecolor": "#2a3f5f",
             "gridcolor": "white",
             "linecolor": "white",
             "minorgridcolor": "white",
             "startlinecolor": "#2a3f5f"
            },
            "type": "carpet"
           }
          ],
          "choropleth": [
           {
            "colorbar": {
             "outlinewidth": 0,
             "ticks": ""
            },
            "type": "choropleth"
           }
          ],
          "contour": [
           {
            "colorbar": {
             "outlinewidth": 0,
             "ticks": ""
            },
            "colorscale": [
             [
              0,
              "#0d0887"
             ],
             [
              0.1111111111111111,
              "#46039f"
             ],
             [
              0.2222222222222222,
              "#7201a8"
             ],
             [
              0.3333333333333333,
              "#9c179e"
             ],
             [
              0.4444444444444444,
              "#bd3786"
             ],
             [
              0.5555555555555556,
              "#d8576b"
             ],
             [
              0.6666666666666666,
              "#ed7953"
             ],
             [
              0.7777777777777778,
              "#fb9f3a"
             ],
             [
              0.8888888888888888,
              "#fdca26"
             ],
             [
              1,
              "#f0f921"
             ]
            ],
            "type": "contour"
           }
          ],
          "contourcarpet": [
           {
            "colorbar": {
             "outlinewidth": 0,
             "ticks": ""
            },
            "type": "contourcarpet"
           }
          ],
          "heatmap": [
           {
            "colorbar": {
             "outlinewidth": 0,
             "ticks": ""
            },
            "colorscale": [
             [
              0,
              "#0d0887"
             ],
             [
              0.1111111111111111,
              "#46039f"
             ],
             [
              0.2222222222222222,
              "#7201a8"
             ],
             [
              0.3333333333333333,
              "#9c179e"
             ],
             [
              0.4444444444444444,
              "#bd3786"
             ],
             [
              0.5555555555555556,
              "#d8576b"
             ],
             [
              0.6666666666666666,
              "#ed7953"
             ],
             [
              0.7777777777777778,
              "#fb9f3a"
             ],
             [
              0.8888888888888888,
              "#fdca26"
             ],
             [
              1,
              "#f0f921"
             ]
            ],
            "type": "heatmap"
           }
          ],
          "histogram": [
           {
            "marker": {
             "pattern": {
              "fillmode": "overlay",
              "size": 10,
              "solidity": 0.2
             }
            },
            "type": "histogram"
           }
          ],
          "histogram2d": [
           {
            "colorbar": {
             "outlinewidth": 0,
             "ticks": ""
            },
            "colorscale": [
             [
              0,
              "#0d0887"
             ],
             [
              0.1111111111111111,
              "#46039f"
             ],
             [
              0.2222222222222222,
              "#7201a8"
             ],
             [
              0.3333333333333333,
              "#9c179e"
             ],
             [
              0.4444444444444444,
              "#bd3786"
             ],
             [
              0.5555555555555556,
              "#d8576b"
             ],
             [
              0.6666666666666666,
              "#ed7953"
             ],
             [
              0.7777777777777778,
              "#fb9f3a"
             ],
             [
              0.8888888888888888,
              "#fdca26"
             ],
             [
              1,
              "#f0f921"
             ]
            ],
            "type": "histogram2d"
           }
          ],
          "histogram2dcontour": [
           {
            "colorbar": {
             "outlinewidth": 0,
             "ticks": ""
            },
            "colorscale": [
             [
              0,
              "#0d0887"
             ],
             [
              0.1111111111111111,
              "#46039f"
             ],
             [
              0.2222222222222222,
              "#7201a8"
             ],
             [
              0.3333333333333333,
              "#9c179e"
             ],
             [
              0.4444444444444444,
              "#bd3786"
             ],
             [
              0.5555555555555556,
              "#d8576b"
             ],
             [
              0.6666666666666666,
              "#ed7953"
             ],
             [
              0.7777777777777778,
              "#fb9f3a"
             ],
             [
              0.8888888888888888,
              "#fdca26"
             ],
             [
              1,
              "#f0f921"
             ]
            ],
            "type": "histogram2dcontour"
           }
          ],
          "mesh3d": [
           {
            "colorbar": {
             "outlinewidth": 0,
             "ticks": ""
            },
            "type": "mesh3d"
           }
          ],
          "parcoords": [
           {
            "line": {
             "colorbar": {
              "outlinewidth": 0,
              "ticks": ""
             }
            },
            "type": "parcoords"
           }
          ],
          "pie": [
           {
            "automargin": true,
            "type": "pie"
           }
          ],
          "scatter": [
           {
            "fillpattern": {
             "fillmode": "overlay",
             "size": 10,
             "solidity": 0.2
            },
            "type": "scatter"
           }
          ],
          "scatter3d": [
           {
            "line": {
             "colorbar": {
              "outlinewidth": 0,
              "ticks": ""
             }
            },
            "marker": {
             "colorbar": {
              "outlinewidth": 0,
              "ticks": ""
             }
            },
            "type": "scatter3d"
           }
          ],
          "scattercarpet": [
           {
            "marker": {
             "colorbar": {
              "outlinewidth": 0,
              "ticks": ""
             }
            },
            "type": "scattercarpet"
           }
          ],
          "scattergeo": [
           {
            "marker": {
             "colorbar": {
              "outlinewidth": 0,
              "ticks": ""
             }
            },
            "type": "scattergeo"
           }
          ],
          "scattergl": [
           {
            "marker": {
             "colorbar": {
              "outlinewidth": 0,
              "ticks": ""
             }
            },
            "type": "scattergl"
           }
          ],
          "scattermap": [
           {
            "marker": {
             "colorbar": {
              "outlinewidth": 0,
              "ticks": ""
             }
            },
            "type": "scattermap"
           }
          ],
          "scattermapbox": [
           {
            "marker": {
             "colorbar": {
              "outlinewidth": 0,
              "ticks": ""
             }
            },
            "type": "scattermapbox"
           }
          ],
          "scatterpolar": [
           {
            "marker": {
             "colorbar": {
              "outlinewidth": 0,
              "ticks": ""
             }
            },
            "type": "scatterpolar"
           }
          ],
          "scatterpolargl": [
           {
            "marker": {
             "colorbar": {
              "outlinewidth": 0,
              "ticks": ""
             }
            },
            "type": "scatterpolargl"
           }
          ],
          "scatterternary": [
           {
            "marker": {
             "colorbar": {
              "outlinewidth": 0,
              "ticks": ""
             }
            },
            "type": "scatterternary"
           }
          ],
          "surface": [
           {
            "colorbar": {
             "outlinewidth": 0,
             "ticks": ""
            },
            "colorscale": [
             [
              0,
              "#0d0887"
             ],
             [
              0.1111111111111111,
              "#46039f"
             ],
             [
              0.2222222222222222,
              "#7201a8"
             ],
             [
              0.3333333333333333,
              "#9c179e"
             ],
             [
              0.4444444444444444,
              "#bd3786"
             ],
             [
              0.5555555555555556,
              "#d8576b"
             ],
             [
              0.6666666666666666,
              "#ed7953"
             ],
             [
              0.7777777777777778,
              "#fb9f3a"
             ],
             [
              0.8888888888888888,
              "#fdca26"
             ],
             [
              1,
              "#f0f921"
             ]
            ],
            "type": "surface"
           }
          ],
          "table": [
           {
            "cells": {
             "fill": {
              "color": "#EBF0F8"
             },
             "line": {
              "color": "white"
             }
            },
            "header": {
             "fill": {
              "color": "#C8D4E3"
             },
             "line": {
              "color": "white"
             }
            },
            "type": "table"
           }
          ]
         },
         "layout": {
          "annotationdefaults": {
           "arrowcolor": "#2a3f5f",
           "arrowhead": 0,
           "arrowwidth": 1
          },
          "autotypenumbers": "strict",
          "coloraxis": {
           "colorbar": {
            "outlinewidth": 0,
            "ticks": ""
           }
          },
          "colorscale": {
           "diverging": [
            [
             0,
             "#8e0152"
            ],
            [
             0.1,
             "#c51b7d"
            ],
            [
             0.2,
             "#de77ae"
            ],
            [
             0.3,
             "#f1b6da"
            ],
            [
             0.4,
             "#fde0ef"
            ],
            [
             0.5,
             "#f7f7f7"
            ],
            [
             0.6,
             "#e6f5d0"
            ],
            [
             0.7,
             "#b8e186"
            ],
            [
             0.8,
             "#7fbc41"
            ],
            [
             0.9,
             "#4d9221"
            ],
            [
             1,
             "#276419"
            ]
           ],
           "sequential": [
            [
             0,
             "#0d0887"
            ],
            [
             0.1111111111111111,
             "#46039f"
            ],
            [
             0.2222222222222222,
             "#7201a8"
            ],
            [
             0.3333333333333333,
             "#9c179e"
            ],
            [
             0.4444444444444444,
             "#bd3786"
            ],
            [
             0.5555555555555556,
             "#d8576b"
            ],
            [
             0.6666666666666666,
             "#ed7953"
            ],
            [
             0.7777777777777778,
             "#fb9f3a"
            ],
            [
             0.8888888888888888,
             "#fdca26"
            ],
            [
             1,
             "#f0f921"
            ]
           ],
           "sequentialminus": [
            [
             0,
             "#0d0887"
            ],
            [
             0.1111111111111111,
             "#46039f"
            ],
            [
             0.2222222222222222,
             "#7201a8"
            ],
            [
             0.3333333333333333,
             "#9c179e"
            ],
            [
             0.4444444444444444,
             "#bd3786"
            ],
            [
             0.5555555555555556,
             "#d8576b"
            ],
            [
             0.6666666666666666,
             "#ed7953"
            ],
            [
             0.7777777777777778,
             "#fb9f3a"
            ],
            [
             0.8888888888888888,
             "#fdca26"
            ],
            [
             1,
             "#f0f921"
            ]
           ]
          },
          "colorway": [
           "#636efa",
           "#EF553B",
           "#00cc96",
           "#ab63fa",
           "#FFA15A",
           "#19d3f3",
           "#FF6692",
           "#B6E880",
           "#FF97FF",
           "#FECB52"
          ],
          "font": {
           "color": "#2a3f5f"
          },
          "geo": {
           "bgcolor": "white",
           "lakecolor": "white",
           "landcolor": "#E5ECF6",
           "showlakes": true,
           "showland": true,
           "subunitcolor": "white"
          },
          "hoverlabel": {
           "align": "left"
          },
          "hovermode": "closest",
          "mapbox": {
           "style": "light"
          },
          "paper_bgcolor": "white",
          "plot_bgcolor": "#E5ECF6",
          "polar": {
           "angularaxis": {
            "gridcolor": "white",
            "linecolor": "white",
            "ticks": ""
           },
           "bgcolor": "#E5ECF6",
           "radialaxis": {
            "gridcolor": "white",
            "linecolor": "white",
            "ticks": ""
           }
          },
          "scene": {
           "xaxis": {
            "backgroundcolor": "#E5ECF6",
            "gridcolor": "white",
            "gridwidth": 2,
            "linecolor": "white",
            "showbackground": true,
            "ticks": "",
            "zerolinecolor": "white"
           },
           "yaxis": {
            "backgroundcolor": "#E5ECF6",
            "gridcolor": "white",
            "gridwidth": 2,
            "linecolor": "white",
            "showbackground": true,
            "ticks": "",
            "zerolinecolor": "white"
           },
           "zaxis": {
            "backgroundcolor": "#E5ECF6",
            "gridcolor": "white",
            "gridwidth": 2,
            "linecolor": "white",
            "showbackground": true,
            "ticks": "",
            "zerolinecolor": "white"
           }
          },
          "shapedefaults": {
           "line": {
            "color": "#2a3f5f"
           }
          },
          "ternary": {
           "aaxis": {
            "gridcolor": "white",
            "linecolor": "white",
            "ticks": ""
           },
           "baxis": {
            "gridcolor": "white",
            "linecolor": "white",
            "ticks": ""
           },
           "bgcolor": "#E5ECF6",
           "caxis": {
            "gridcolor": "white",
            "linecolor": "white",
            "ticks": ""
           }
          },
          "title": {
           "x": 0.05
          },
          "xaxis": {
           "automargin": true,
           "gridcolor": "white",
           "linecolor": "white",
           "ticks": "",
           "title": {
            "standoff": 15
           },
           "zerolinecolor": "white",
           "zerolinewidth": 2
          },
          "yaxis": {
           "automargin": true,
           "gridcolor": "white",
           "linecolor": "white",
           "ticks": "",
           "title": {
            "standoff": 15
           },
           "zerolinecolor": "white",
           "zerolinewidth": 2
          }
         }
        },
        "title": {
         "text": "🍩 Donut Chart: Faults by Type"
        }
       }
      }
     },
     "metadata": {},
     "output_type": "display_data"
    }
   ],
   "source": [
    "fig = px.pie(df, names='Fault Type', hole=0.4, title='🍩 Donut Chart: Faults by Type')\n",
    "fig.update_traces(textinfo='percent+label')\n",
    "fig.show()"
   ]
  },
  {
   "cell_type": "code",
   "execution_count": 10,
   "id": "ba5eacee",
   "metadata": {},
   "outputs": [
    {
     "data": {
      "application/vnd.plotly.v1+json": {
       "config": {
        "plotlyServerURL": "https://plot.ly"
       },
       "data": [
        {
         "branchvalues": "total",
         "domain": {
          "x": [
           0,
           1
          ],
          "y": [
           0,
           1
          ]
         },
         "hovertemplate": "labels=%{label}<br>count=%{value}<br>parent=%{parent}<br>id=%{id}<extra></extra>",
         "ids": [
          "Clear/Line Breakage",
          "Rainy/Transformer Failure",
          "Windstorm/Overheating",
          "Snowy/Transformer Failure",
          "Thunderstorm/Overheating",
          "Snowy/Line Breakage",
          "Rainy/Line Breakage",
          "Clear/Overheating",
          "Clear/Transformer Failure",
          "Rainy/Overheating",
          "Thunderstorm/Line Breakage",
          "Thunderstorm/Transformer Failure",
          "Windstorm/Line Breakage",
          "Snowy/Overheating",
          "Windstorm/Transformer Failure",
          "Clear",
          "Rainy",
          "Windstorm",
          "Snowy",
          "Thunderstorm"
         ],
         "labels": [
          "Line Breakage",
          "Transformer Failure",
          "Overheating",
          "Transformer Failure",
          "Overheating",
          "Line Breakage",
          "Line Breakage",
          "Overheating",
          "Transformer Failure",
          "Overheating",
          "Line Breakage",
          "Transformer Failure",
          "Line Breakage",
          "Overheating",
          "Transformer Failure",
          "Clear",
          "Rainy",
          "Windstorm",
          "Snowy",
          "Thunderstorm"
         ],
         "name": "",
         "parents": [
          "Clear",
          "Rainy",
          "Windstorm",
          "Snowy",
          "Thunderstorm",
          "Snowy",
          "Rainy",
          "Clear",
          "Clear",
          "Rainy",
          "Thunderstorm",
          "Thunderstorm",
          "Windstorm",
          "Snowy",
          "Windstorm",
          "",
          "",
          "",
          "",
          ""
         ],
         "type": "treemap",
         "values": {
          "bdata": "IiYeICQkJSclKh0jHBgdbnVXXGQ=",
          "dtype": "i1"
         }
        }
       ],
       "layout": {
        "legend": {
         "tracegroupgap": 0
        },
        "template": {
         "data": {
          "bar": [
           {
            "error_x": {
             "color": "#2a3f5f"
            },
            "error_y": {
             "color": "#2a3f5f"
            },
            "marker": {
             "line": {
              "color": "#E5ECF6",
              "width": 0.5
             },
             "pattern": {
              "fillmode": "overlay",
              "size": 10,
              "solidity": 0.2
             }
            },
            "type": "bar"
           }
          ],
          "barpolar": [
           {
            "marker": {
             "line": {
              "color": "#E5ECF6",
              "width": 0.5
             },
             "pattern": {
              "fillmode": "overlay",
              "size": 10,
              "solidity": 0.2
             }
            },
            "type": "barpolar"
           }
          ],
          "carpet": [
           {
            "aaxis": {
             "endlinecolor": "#2a3f5f",
             "gridcolor": "white",
             "linecolor": "white",
             "minorgridcolor": "white",
             "startlinecolor": "#2a3f5f"
            },
            "baxis": {
             "endlinecolor": "#2a3f5f",
             "gridcolor": "white",
             "linecolor": "white",
             "minorgridcolor": "white",
             "startlinecolor": "#2a3f5f"
            },
            "type": "carpet"
           }
          ],
          "choropleth": [
           {
            "colorbar": {
             "outlinewidth": 0,
             "ticks": ""
            },
            "type": "choropleth"
           }
          ],
          "contour": [
           {
            "colorbar": {
             "outlinewidth": 0,
             "ticks": ""
            },
            "colorscale": [
             [
              0,
              "#0d0887"
             ],
             [
              0.1111111111111111,
              "#46039f"
             ],
             [
              0.2222222222222222,
              "#7201a8"
             ],
             [
              0.3333333333333333,
              "#9c179e"
             ],
             [
              0.4444444444444444,
              "#bd3786"
             ],
             [
              0.5555555555555556,
              "#d8576b"
             ],
             [
              0.6666666666666666,
              "#ed7953"
             ],
             [
              0.7777777777777778,
              "#fb9f3a"
             ],
             [
              0.8888888888888888,
              "#fdca26"
             ],
             [
              1,
              "#f0f921"
             ]
            ],
            "type": "contour"
           }
          ],
          "contourcarpet": [
           {
            "colorbar": {
             "outlinewidth": 0,
             "ticks": ""
            },
            "type": "contourcarpet"
           }
          ],
          "heatmap": [
           {
            "colorbar": {
             "outlinewidth": 0,
             "ticks": ""
            },
            "colorscale": [
             [
              0,
              "#0d0887"
             ],
             [
              0.1111111111111111,
              "#46039f"
             ],
             [
              0.2222222222222222,
              "#7201a8"
             ],
             [
              0.3333333333333333,
              "#9c179e"
             ],
             [
              0.4444444444444444,
              "#bd3786"
             ],
             [
              0.5555555555555556,
              "#d8576b"
             ],
             [
              0.6666666666666666,
              "#ed7953"
             ],
             [
              0.7777777777777778,
              "#fb9f3a"
             ],
             [
              0.8888888888888888,
              "#fdca26"
             ],
             [
              1,
              "#f0f921"
             ]
            ],
            "type": "heatmap"
           }
          ],
          "histogram": [
           {
            "marker": {
             "pattern": {
              "fillmode": "overlay",
              "size": 10,
              "solidity": 0.2
             }
            },
            "type": "histogram"
           }
          ],
          "histogram2d": [
           {
            "colorbar": {
             "outlinewidth": 0,
             "ticks": ""
            },
            "colorscale": [
             [
              0,
              "#0d0887"
             ],
             [
              0.1111111111111111,
              "#46039f"
             ],
             [
              0.2222222222222222,
              "#7201a8"
             ],
             [
              0.3333333333333333,
              "#9c179e"
             ],
             [
              0.4444444444444444,
              "#bd3786"
             ],
             [
              0.5555555555555556,
              "#d8576b"
             ],
             [
              0.6666666666666666,
              "#ed7953"
             ],
             [
              0.7777777777777778,
              "#fb9f3a"
             ],
             [
              0.8888888888888888,
              "#fdca26"
             ],
             [
              1,
              "#f0f921"
             ]
            ],
            "type": "histogram2d"
           }
          ],
          "histogram2dcontour": [
           {
            "colorbar": {
             "outlinewidth": 0,
             "ticks": ""
            },
            "colorscale": [
             [
              0,
              "#0d0887"
             ],
             [
              0.1111111111111111,
              "#46039f"
             ],
             [
              0.2222222222222222,
              "#7201a8"
             ],
             [
              0.3333333333333333,
              "#9c179e"
             ],
             [
              0.4444444444444444,
              "#bd3786"
             ],
             [
              0.5555555555555556,
              "#d8576b"
             ],
             [
              0.6666666666666666,
              "#ed7953"
             ],
             [
              0.7777777777777778,
              "#fb9f3a"
             ],
             [
              0.8888888888888888,
              "#fdca26"
             ],
             [
              1,
              "#f0f921"
             ]
            ],
            "type": "histogram2dcontour"
           }
          ],
          "mesh3d": [
           {
            "colorbar": {
             "outlinewidth": 0,
             "ticks": ""
            },
            "type": "mesh3d"
           }
          ],
          "parcoords": [
           {
            "line": {
             "colorbar": {
              "outlinewidth": 0,
              "ticks": ""
             }
            },
            "type": "parcoords"
           }
          ],
          "pie": [
           {
            "automargin": true,
            "type": "pie"
           }
          ],
          "scatter": [
           {
            "fillpattern": {
             "fillmode": "overlay",
             "size": 10,
             "solidity": 0.2
            },
            "type": "scatter"
           }
          ],
          "scatter3d": [
           {
            "line": {
             "colorbar": {
              "outlinewidth": 0,
              "ticks": ""
             }
            },
            "marker": {
             "colorbar": {
              "outlinewidth": 0,
              "ticks": ""
             }
            },
            "type": "scatter3d"
           }
          ],
          "scattercarpet": [
           {
            "marker": {
             "colorbar": {
              "outlinewidth": 0,
              "ticks": ""
             }
            },
            "type": "scattercarpet"
           }
          ],
          "scattergeo": [
           {
            "marker": {
             "colorbar": {
              "outlinewidth": 0,
              "ticks": ""
             }
            },
            "type": "scattergeo"
           }
          ],
          "scattergl": [
           {
            "marker": {
             "colorbar": {
              "outlinewidth": 0,
              "ticks": ""
             }
            },
            "type": "scattergl"
           }
          ],
          "scattermap": [
           {
            "marker": {
             "colorbar": {
              "outlinewidth": 0,
              "ticks": ""
             }
            },
            "type": "scattermap"
           }
          ],
          "scattermapbox": [
           {
            "marker": {
             "colorbar": {
              "outlinewidth": 0,
              "ticks": ""
             }
            },
            "type": "scattermapbox"
           }
          ],
          "scatterpolar": [
           {
            "marker": {
             "colorbar": {
              "outlinewidth": 0,
              "ticks": ""
             }
            },
            "type": "scatterpolar"
           }
          ],
          "scatterpolargl": [
           {
            "marker": {
             "colorbar": {
              "outlinewidth": 0,
              "ticks": ""
             }
            },
            "type": "scatterpolargl"
           }
          ],
          "scatterternary": [
           {
            "marker": {
             "colorbar": {
              "outlinewidth": 0,
              "ticks": ""
             }
            },
            "type": "scatterternary"
           }
          ],
          "surface": [
           {
            "colorbar": {
             "outlinewidth": 0,
             "ticks": ""
            },
            "colorscale": [
             [
              0,
              "#0d0887"
             ],
             [
              0.1111111111111111,
              "#46039f"
             ],
             [
              0.2222222222222222,
              "#7201a8"
             ],
             [
              0.3333333333333333,
              "#9c179e"
             ],
             [
              0.4444444444444444,
              "#bd3786"
             ],
             [
              0.5555555555555556,
              "#d8576b"
             ],
             [
              0.6666666666666666,
              "#ed7953"
             ],
             [
              0.7777777777777778,
              "#fb9f3a"
             ],
             [
              0.8888888888888888,
              "#fdca26"
             ],
             [
              1,
              "#f0f921"
             ]
            ],
            "type": "surface"
           }
          ],
          "table": [
           {
            "cells": {
             "fill": {
              "color": "#EBF0F8"
             },
             "line": {
              "color": "white"
             }
            },
            "header": {
             "fill": {
              "color": "#C8D4E3"
             },
             "line": {
              "color": "white"
             }
            },
            "type": "table"
           }
          ]
         },
         "layout": {
          "annotationdefaults": {
           "arrowcolor": "#2a3f5f",
           "arrowhead": 0,
           "arrowwidth": 1
          },
          "autotypenumbers": "strict",
          "coloraxis": {
           "colorbar": {
            "outlinewidth": 0,
            "ticks": ""
           }
          },
          "colorscale": {
           "diverging": [
            [
             0,
             "#8e0152"
            ],
            [
             0.1,
             "#c51b7d"
            ],
            [
             0.2,
             "#de77ae"
            ],
            [
             0.3,
             "#f1b6da"
            ],
            [
             0.4,
             "#fde0ef"
            ],
            [
             0.5,
             "#f7f7f7"
            ],
            [
             0.6,
             "#e6f5d0"
            ],
            [
             0.7,
             "#b8e186"
            ],
            [
             0.8,
             "#7fbc41"
            ],
            [
             0.9,
             "#4d9221"
            ],
            [
             1,
             "#276419"
            ]
           ],
           "sequential": [
            [
             0,
             "#0d0887"
            ],
            [
             0.1111111111111111,
             "#46039f"
            ],
            [
             0.2222222222222222,
             "#7201a8"
            ],
            [
             0.3333333333333333,
             "#9c179e"
            ],
            [
             0.4444444444444444,
             "#bd3786"
            ],
            [
             0.5555555555555556,
             "#d8576b"
            ],
            [
             0.6666666666666666,
             "#ed7953"
            ],
            [
             0.7777777777777778,
             "#fb9f3a"
            ],
            [
             0.8888888888888888,
             "#fdca26"
            ],
            [
             1,
             "#f0f921"
            ]
           ],
           "sequentialminus": [
            [
             0,
             "#0d0887"
            ],
            [
             0.1111111111111111,
             "#46039f"
            ],
            [
             0.2222222222222222,
             "#7201a8"
            ],
            [
             0.3333333333333333,
             "#9c179e"
            ],
            [
             0.4444444444444444,
             "#bd3786"
            ],
            [
             0.5555555555555556,
             "#d8576b"
            ],
            [
             0.6666666666666666,
             "#ed7953"
            ],
            [
             0.7777777777777778,
             "#fb9f3a"
            ],
            [
             0.8888888888888888,
             "#fdca26"
            ],
            [
             1,
             "#f0f921"
            ]
           ]
          },
          "colorway": [
           "#636efa",
           "#EF553B",
           "#00cc96",
           "#ab63fa",
           "#FFA15A",
           "#19d3f3",
           "#FF6692",
           "#B6E880",
           "#FF97FF",
           "#FECB52"
          ],
          "font": {
           "color": "#2a3f5f"
          },
          "geo": {
           "bgcolor": "white",
           "lakecolor": "white",
           "landcolor": "#E5ECF6",
           "showlakes": true,
           "showland": true,
           "subunitcolor": "white"
          },
          "hoverlabel": {
           "align": "left"
          },
          "hovermode": "closest",
          "mapbox": {
           "style": "light"
          },
          "paper_bgcolor": "white",
          "plot_bgcolor": "#E5ECF6",
          "polar": {
           "angularaxis": {
            "gridcolor": "white",
            "linecolor": "white",
            "ticks": ""
           },
           "bgcolor": "#E5ECF6",
           "radialaxis": {
            "gridcolor": "white",
            "linecolor": "white",
            "ticks": ""
           }
          },
          "scene": {
           "xaxis": {
            "backgroundcolor": "#E5ECF6",
            "gridcolor": "white",
            "gridwidth": 2,
            "linecolor": "white",
            "showbackground": true,
            "ticks": "",
            "zerolinecolor": "white"
           },
           "yaxis": {
            "backgroundcolor": "#E5ECF6",
            "gridcolor": "white",
            "gridwidth": 2,
            "linecolor": "white",
            "showbackground": true,
            "ticks": "",
            "zerolinecolor": "white"
           },
           "zaxis": {
            "backgroundcolor": "#E5ECF6",
            "gridcolor": "white",
            "gridwidth": 2,
            "linecolor": "white",
            "showbackground": true,
            "ticks": "",
            "zerolinecolor": "white"
           }
          },
          "shapedefaults": {
           "line": {
            "color": "#2a3f5f"
           }
          },
          "ternary": {
           "aaxis": {
            "gridcolor": "white",
            "linecolor": "white",
            "ticks": ""
           },
           "baxis": {
            "gridcolor": "white",
            "linecolor": "white",
            "ticks": ""
           },
           "bgcolor": "#E5ECF6",
           "caxis": {
            "gridcolor": "white",
            "linecolor": "white",
            "ticks": ""
           }
          },
          "title": {
           "x": 0.05
          },
          "xaxis": {
           "automargin": true,
           "gridcolor": "white",
           "linecolor": "white",
           "ticks": "",
           "title": {
            "standoff": 15
           },
           "zerolinecolor": "white",
           "zerolinewidth": 2
          },
          "yaxis": {
           "automargin": true,
           "gridcolor": "white",
           "linecolor": "white",
           "ticks": "",
           "title": {
            "standoff": 15
           },
           "zerolinecolor": "white",
           "zerolinewidth": 2
          }
         }
        },
        "title": {
         "text": "🌲 Treemap: Weather > Fault Type"
        }
       }
      }
     },
     "metadata": {},
     "output_type": "display_data"
    }
   ],
   "source": [
    "fig = px.treemap(df, path=['Weather Condition', 'Fault Type'], title='🌲 Treemap: Weather > Fault Type')\n",
    "fig.show()"
   ]
  },
  {
   "cell_type": "markdown",
   "id": "93aa1fde",
   "metadata": {},
   "source": [
    "****\n",
    "### 📈 Display Change Over Time\n",
    "\n",
    "Includes:\n",
    "- Line Chart\n",
    "- Area Chart\n",
    "- Column Chart (Time-based)\n"
   ]
  },
  {
   "cell_type": "code",
   "execution_count": 11,
   "id": "a8789cbe",
   "metadata": {},
   "outputs": [],
   "source": [
    "df['Fault Date'] = pd.to_datetime(df['Fault Date'])\n",
    "df = df.sort_values('Fault Date')\n",
    "df.set_index('Fault Date', inplace=True)"
   ]
  },
  {
   "cell_type": "code",
   "execution_count": 12,
   "id": "2c5c3d4c",
   "metadata": {},
   "outputs": [
    {
     "data": {
      "image/png": "[encoded data removed]",
      "text/plain": [
       "<Figure size 1000x400 with 1 Axes>"
      ]
     },
     "metadata": {},
     "output_type": "display_data"
    }
   ],
   "source": [
    "df['Duration of Fault (hrs)'].plot(figsize=(10,4), title=\"Line Chart: Fault Duration Over Time\")\n",
    "plt.ylabel(\"Duration (hrs)\")\n",
    "plt.grid(True)\n",
    "plt.tight_layout()\n",
    "plt.show()"
   ]
  },
  {
   "cell_type": "code",
   "execution_count": 13,
   "id": "de47ad1f",
   "metadata": {},
   "outputs": [
    {
     "data": {
      "image/png": "[encoded data removed]",
      "text/plain": [
       "<Figure size 1000x400 with 1 Axes>"
      ]
     },
     "metadata": {},
     "output_type": "display_data"
    }
   ],
   "source": [
    "df['Down time (hrs)'].plot.area(figsize=(10,4), title=\"Area Chart: Downtime Over Time\", color='lightgreen')\n",
    "plt.ylabel(\"Downtime (hrs)\")\n",
    "plt.grid(True)\n",
    "plt.tight_layout()\n",
    "plt.show()"
   ]
  },
  {
   "cell_type": "code",
   "execution_count": 14,
   "id": "66eec940",
   "metadata": {},
   "outputs": [
    {
     "data": {
      "image/png": "[encoded data removed]",
      "text/plain": [
       "<Figure size 1000x400 with 1 Axes>"
      ]
     },
     "metadata": {},
     "output_type": "display_data"
    }
   ],
   "source": [
    "monthly_faults = df['Fault Type'].resample('ME').count()\n",
    "monthly_faults.plot(kind='bar', figsize=(10,4), title=\"Column Chart: Monthly Fault Count\")\n",
    "plt.ylabel(\"Faults\")\n",
    "plt.tight_layout()\n",
    "plt.show()\n",
    "\n",
    "df.reset_index(inplace=True)"
   ]
  },
  {
   "cell_type": "markdown",
   "id": "8940855a",
   "metadata": {},
   "source": [
    "***\n",
    "### 🔗 Explain Relationship Between Metrics\n",
    "\n",
    "Includes:\n",
    "- Scatter Plot\n",
    "- Bubble Chart\n",
    "- Heatmap"
   ]
  },
  {
   "cell_type": "code",
   "execution_count": 15,
   "id": "b72b1783",
   "metadata": {},
   "outputs": [
    {
     "data": {
      "image/png": "[encoded data removed]",
      "text/plain": [
       "<Figure size 640x480 with 1 Axes>"
      ]
     },
     "metadata": {},
     "output_type": "display_data"
    }
   ],
   "source": [
    "sns.scatterplot(data=df, x='Voltage (V)', y='Current (A)', hue='Fault Type', s=100)\n",
    "plt.title(\"Scatter Plot: Voltage vs Current\")\n",
    "plt.tight_layout()\n",
    "plt.show()"
   ]
  },
  {
   "cell_type": "code",
   "execution_count": 16,
   "id": "34867ae8",
   "metadata": {},
   "outputs": [
    {
     "data": {
      "application/vnd.plotly.v1+json": {
       "config": {
        "plotlyServerURL": "https://plot.ly"
       },
       "data": [
        {
         "hovertemplate": "Fault Type=Line Breakage<br>Voltage (V)=%{x}<br>Current (A)=%{y}<br>Power Load (MW)=%{marker.size}<extra></extra>",
         "legendgroup": "Line Breakage",
         "marker": {
          "color": "#636efa",
          "size": {
           "bdata": "MjAzLTc0NDE0LjE2LzIxNjc2NTEwNTYyNzIvMDMzMDQuNzMvLjI2LS00LjYxNDQuMzMwNDY1LS80NzczNDY1NDUzNDUyMzAuNjI1NjEvLzcwNS8xMTQuLjAvMC0wMjQuLTctNTUvMDUzMjYwNi8yMzAzLTUwLjAyNzYtNjAyNzI1MzcwNC40NzcyNjMzNDIuLTUuNzA0MzYvLi4xNDU0My82MjM=",
           "dtype": "i1"
          },
          "sizemode": "area",
          "sizeref": 0.1375,
          "symbol": "circle"
         },
         "mode": "markers",
         "name": "Line Breakage",
         "orientation": "v",
         "showlegend": true,
         "type": "scatter",
         "x": {
          "bdata": "mAgCCMoHawgRCNwH8Qg4BywIEQhIB1UHewdWB54IngiJB7IHMQg6CHgHbwiJB30IfAedBwYI+ghRCAkHSAjKBywI+Ah8B50IvAelBy0IUQcQB3cIvgdyBwsHsgfvCJoHBQj8COoIoQjWBx8ITAcdCMcHtAeZCHgHMAhSCBIHLQgmB90HKQc6B1sIagddCEgHXwihCCAI4wjyCHsISgcdCGIHlwhmBzcHHQgvCIcHcAcACCQIvgd+B2MHegiTCL8IlAjoB5kIFgjKCNQH+Ah0CHYHCgjdCC0HawgrCCkImQg6BzsI+Ag/B4gIHAi+B2IHngfJCKoH8QfAB1EIgQiCCM0ILwixB5wICgc1B1oIGgicCBAHuAfkCOoHwQeWCH0H+weABxwIMAhsCIgImwivBxYHnAdaB7wI0gd9B1IIzQcsCEgHPweVBw==",
          "dtype": "i2"
         },
         "xaxis": "x",
         "y": {
          "bdata": "+gDwAOkA8ADHAPgAwADnAPEA1QDgAPkA1wC9APIAwADhAOEA2wDnANMA0wC3AMMA4ADBAM0AzAC7ALsA4QDNANIA7gDIAMoAwQDIANEA4gDDAMQA3wDRANgAzgC3AOIA+QDOAMkAwQC1AOMA5gC9AOYAywDAAMkA5QD2APQA1wC3AMcA0AD5ALwAyQDdAMcA+gDjANkA7wC9AN4A1QD6AOUA8wC/AN4AwQDMALkA6ADlAPcA8ADoAM0AzgD4APkAtwD4AOQAwwDTANkA4QDuAMUA8wC0AN0AtgDMAOsA+gDGAOYAtwDvAOoAxgDKAN8AywD1ALkA5QDEAMIAywDJAL8AzwDTALkA6QDCAPcAtQDmAMwAxAC6AL4A5wDgAN4AtgD5AMkA8QD0ANoA6QDjAOoAugDLAPQA8QDdAPoA7wDjALQAvwC6AA==",
          "dtype": "i2"
         },
         "yaxis": "y"
        },
        {
         "hovertemplate": "Fault Type=Transformer Failure<br>Voltage (V)=%{x}<br>Current (A)=%{y}<br>Power Load (MW)=%{marker.size}<extra></extra>",
         "legendgroup": "Transformer Failure",
         "marker": {
          "color": "#EF553B",
          "size": {
           "bdata": "LTI0LzUyLTEzNzAzNTUvNDAzMjAxMC41NDM1MzIuLy40NDczNzEtLzUyNzQ3Mi0uLi4tNjAzLTMtNzQ3MzI2NDcxNS4wNDMxNTE0MjY2NDQzNzAuNDczNjcuLi0vNTMxLzMyLTc3MDE0MTE1MjMwNS0xLS8tNTc1LzIzMi8tNTI0NjAyMDMuLjY0MzI1LjI1NzI1MjYyNDI3Ly41NzUxNTE3MzQxNS01NjQ0",
           "dtype": "i1"
          },
          "sizemode": "area",
          "sizeref": 0.1375,
          "symbol": "circle"
         },
         "mode": "markers",
         "name": "Transformer Failure",
         "orientation": "v",
         "showlegend": true,
         "type": "scatter",
         "x": {
          "bdata": "CAdsB1UIOgg2CJcHTQdEBwUIHAdnB8IHEwcsB7kIvwcWCA8HrwjVCJYIpAjGCNkH/QfEB9QHawhVB3UHWQe6CGgIEgiMCJkIXwhiB4MH7wdZB2gI1gjxCBQHOAhfCI0HXQjLBxMH+gjGCKwHHAh4B2MI4Ad6COEInAdyCFgH3giPBz4IIQjOB4YHQwjhB30HRwctB+YHdAhsB9cHgAdrCLwI9ggdB+8HGQgQB5cHLwhZCNEI2gckCBkHkAdjBwoIkQh5CM8Hngf2B8UITwcvB7QHQwd1CMgHUgfoCOoHNAjgCC4HngcZCPAHDwcjCOkIeQh2B5UITgd0COUI+QeBB3sI7wjsCCsIVQccCB4H1AcUBz4InQexCH8HMQgjCJAHvgfeCB8IPQevBwIIDgf0B4EIXQcdCMEIigfhB2QISwfTCJAILwc2B94ImghuB1YIfwicCIUI",
          "dtype": "i2"
         },
         "xaxis": "x",
         "y": {
          "bdata": "tAC+AOUA9wD2APUA2gD2AOsA4ADkANUA7QC8AN8AuwC5ALkA0QDbAPIAvADsAPYAxwC2AMUAzgDoANsAxwDTAOIAtwDuAOoAvgDNAPcAxwDaAMQA3ADcALcA7ADmAOYA0wDIANoAtQDMAOAAyQDgAPIA4ADAAPgA3gD3ANIA2wDqAL0A1wDcAOgA5QC/AOgA7wDjAMYA7wC/ALoA8gDwANQA6gDFAN8AzADjAN8AzwD2AM4A3gDJAPgA9gC5ANkAvQD3AMgAzAC7APcA6AC/ANIA0gDtANkA+AC7AMoA2wDlAPkA9QDBAPEA3gC8AMwA8QDKAOoA8wDYALQA5wDJAO8A8wD2AOwAwgDiALsA1wC2APcAwQDKAOwA6gDQAO0A0wDUALkA0ADfAOwA1gD6APIA8gC7AMEA1AD3AMUAzgD6APoA7gDFAN0A4AC5AL8AvwDiAOoA",
          "dtype": "i2"
         },
         "yaxis": "y"
        },
        {
         "hovertemplate": "Fault Type=Overheating<br>Voltage (V)=%{x}<br>Current (A)=%{y}<br>Power Load (MW)=%{marker.size}<extra></extra>",
         "legendgroup": "Overheating",
         "marker": {
          "color": "#00cc96",
          "size": {
           "bdata": "NzQtNzAvLzI1MDAyNjAzLjA0MzctMzA0MTE1LS4uMi02NzItLjUvMDQzNC4tLS0uNDAwMjIwNjAtMjctLy0yNC4tLjY2Ni0tLzMzNDY0MTY0NjEyMTQzNDcwNC8zLi0wNjAtMjA3My80MTMwLzA2MjEzMzUtMy4tLjAuLzAwLzAuMS4uMS02LS40My83NjYwNjI1LzM2MTEwNC8vLjQtLjYvNTYvMjMwNi8y",
           "dtype": "i1"
          },
          "sizemode": "area",
          "sizeref": 0.1375,
          "symbol": "circle"
         },
         "mode": "markers",
         "name": "Overheating",
         "orientation": "v",
         "showlegend": true,
         "type": "scatter",
         "x": {
          "bdata": "NAhmCEYI1wh5B+wI2ge0CJcI2AieCJ4HJAhvCCsIZQjxCC0I4wjRBzIH9ghkCEMHmQcsCNQI8QhiCDMHnQd3CHII5AcpBzQIUweACK0HIAhtCEEHowcTBxQH2geTCNoIjgdOB9sHUgdOB5sHoAiDB4gIcgdnCGwI6gjJB/QIIwfECJkHKQj4B2UIOgjmCL4HPgiUB14IWwhdBzcIrAh0CKcI+gjXB9sHAgijBxAItgdJCIEIgwftByYITAg6CMkHmggKCGYHaAgRBz8HFgjUCKwHeAd7CGsHrAgDCLUHLAg/CLYI7wdUB6oH0giYCM0HnghRB0wHkAdYCGcIIAi5B1sItwdTBxcH3gifCB0HQgfkCEEHLAf6Bw0ITwjhBzsI3AiXCDkIFwjkB0wHcAcJCLUH+wc5CCUIdghtB7EHxAgdByoIRAe6CD8Ipwh4B3cI9weyB/cI",
          "dtype": "i2"
         },
         "xaxis": "x",
         "y": {
          "bdata": "5gDcAN0A5QC2APcAxQDUAPIAtwDIAL4A+gD6APUA4wDKAMoA+gD5APIA2gC5AMgA+ADlAO8A6ADAAOMAvgC/APMAvgDVAMkA3QDMAOYAvwDQALkA4gDxALYAwADkAMIA4QDcAOIAuQDwAPUA7wDRAOQAzwDTAPoA6gDFAPYA4ADxAOMA9ADVANcA3QDHAL8A1QD3ANQAugDMAMUA6gD6ALYA6ADMAMEA8gDQANsAtADnAM8AuQDqAPEA+QC6AMMAtgC2AM4A5AC5APIAxQD2ALoA1wDnAM0A+ADsANEAxQD5APkA1wDrAPcA4gDjAN0AuADzAMwA8QD6AM8AzADIALcA3AC3AM4A7ADCANQA7QD5AL4A+QC/APMAuQC2AMgA0wDxAPgA1ADzANwA9wDdAMYAzwDDAM8A5QC2ALYAvwD2AOcA8AD2AOcA1QDfAO0A6AC5AMoA",
          "dtype": "i2"
         },
         "yaxis": "y"
        }
       ],
       "layout": {
        "legend": {
         "itemsizing": "constant",
         "title": {
          "text": "Fault Type"
         },
         "tracegroupgap": 0
        },
        "template": {
         "data": {
          "bar": [
           {
            "error_x": {
             "color": "#2a3f5f"
            },
            "error_y": {
             "color": "#2a3f5f"
            },
            "marker": {
             "line": {
              "color": "#E5ECF6",
              "width": 0.5
             },
             "pattern": {
              "fillmode": "overlay",
              "size": 10,
              "solidity": 0.2
             }
            },
            "type": "bar"
           }
          ],
          "barpolar": [
           {
            "marker": {
             "line": {
              "color": "#E5ECF6",
              "width": 0.5
             },
             "pattern": {
              "fillmode": "overlay",
              "size": 10,
              "solidity": 0.2
             }
            },
            "type": "barpolar"
           }
          ],
          "carpet": [
           {
            "aaxis": {
             "endlinecolor": "#2a3f5f",
             "gridcolor": "white",
             "linecolor": "white",
             "minorgridcolor": "white",
             "startlinecolor": "#2a3f5f"
            },
            "baxis": {
             "endlinecolor": "#2a3f5f",
             "gridcolor": "white",
             "linecolor": "white",
             "minorgridcolor": "white",
             "startlinecolor": "#2a3f5f"
            },
            "type": "carpet"
           }
          ],
          "choropleth": [
           {
            "colorbar": {
             "outlinewidth": 0,
             "ticks": ""
            },
            "type": "choropleth"
           }
          ],
          "contour": [
           {
            "colorbar": {
             "outlinewidth": 0,
             "ticks": ""
            },
            "colorscale": [
             [
              0,
              "#0d0887"
             ],
             [
              0.1111111111111111,
              "#46039f"
             ],
             [
              0.2222222222222222,
              "#7201a8"
             ],
             [
              0.3333333333333333,
              "#9c179e"
             ],
             [
              0.4444444444444444,
              "#bd3786"
             ],
             [
              0.5555555555555556,
              "#d8576b"
             ],
             [
              0.6666666666666666,
              "#ed7953"
             ],
             [
              0.7777777777777778,
              "#fb9f3a"
             ],
             [
              0.8888888888888888,
              "#fdca26"
             ],
             [
              1,
              "#f0f921"
             ]
            ],
            "type": "contour"
           }
          ],
          "contourcarpet": [
           {
            "colorbar": {
             "outlinewidth": 0,
             "ticks": ""
            },
            "type": "contourcarpet"
           }
          ],
          "heatmap": [
           {
            "colorbar": {
             "outlinewidth": 0,
             "ticks": ""
            },
            "colorscale": [
             [
              0,
              "#0d0887"
             ],
             [
              0.1111111111111111,
              "#46039f"
             ],
             [
              0.2222222222222222,
              "#7201a8"
             ],
             [
              0.3333333333333333,
              "#9c179e"
             ],
             [
              0.4444444444444444,
              "#bd3786"
             ],
             [
              0.5555555555555556,
              "#d8576b"
             ],
             [
              0.6666666666666666,
              "#ed7953"
             ],
             [
              0.7777777777777778,
              "#fb9f3a"
             ],
             [
              0.8888888888888888,
              "#fdca26"
             ],
             [
              1,
              "#f0f921"
             ]
            ],
            "type": "heatmap"
           }
          ],
          "histogram": [
           {
            "marker": {
             "pattern": {
              "fillmode": "overlay",
              "size": 10,
              "solidity": 0.2
             }
            },
            "type": "histogram"
           }
          ],
          "histogram2d": [
           {
            "colorbar": {
             "outlinewidth": 0,
             "ticks": ""
            },
            "colorscale": [
             [
              0,
              "#0d0887"
             ],
             [
              0.1111111111111111,
              "#46039f"
             ],
             [
              0.2222222222222222,
              "#7201a8"
             ],
             [
              0.3333333333333333,
              "#9c179e"
             ],
             [
              0.4444444444444444,
              "#bd3786"
             ],
             [
              0.5555555555555556,
              "#d8576b"
             ],
             [
              0.6666666666666666,
              "#ed7953"
             ],
             [
              0.7777777777777778,
              "#fb9f3a"
             ],
             [
              0.8888888888888888,
              "#fdca26"
             ],
             [
              1,
              "#f0f921"
             ]
            ],
            "type": "histogram2d"
           }
          ],
          "histogram2dcontour": [
           {
            "colorbar": {
             "outlinewidth": 0,
             "ticks": ""
            },
            "colorscale": [
             [
              0,
              "#0d0887"
             ],
             [
              0.1111111111111111,
              "#46039f"
             ],
             [
              0.2222222222222222,
              "#7201a8"
             ],
             [
              0.3333333333333333,
              "#9c179e"
             ],
             [
              0.4444444444444444,
              "#bd3786"
             ],
             [
              0.5555555555555556,
              "#d8576b"
             ],
             [
              0.6666666666666666,
              "#ed7953"
             ],
             [
              0.7777777777777778,
              "#fb9f3a"
             ],
             [
              0.8888888888888888,
              "#fdca26"
             ],
             [
              1,
              "#f0f921"
             ]
            ],
            "type": "histogram2dcontour"
           }
          ],
          "mesh3d": [
           {
            "colorbar": {
             "outlinewidth": 0,
             "ticks": ""
            },
            "type": "mesh3d"
           }
          ],
          "parcoords": [
           {
            "line": {
             "colorbar": {
              "outlinewidth": 0,
              "ticks": ""
             }
            },
            "type": "parcoords"
           }
          ],
          "pie": [
           {
            "automargin": true,
            "type": "pie"
           }
          ],
          "scatter": [
           {
            "fillpattern": {
             "fillmode": "overlay",
             "size": 10,
             "solidity": 0.2
            },
            "type": "scatter"
           }
          ],
          "scatter3d": [
           {
            "line": {
             "colorbar": {
              "outlinewidth": 0,
              "ticks": ""
             }
            },
            "marker": {
             "colorbar": {
              "outlinewidth": 0,
              "ticks": ""
             }
            },
            "type": "scatter3d"
           }
          ],
          "scattercarpet": [
           {
            "marker": {
             "colorbar": {
              "outlinewidth": 0,
              "ticks": ""
             }
            },
            "type": "scattercarpet"
           }
          ],
          "scattergeo": [
           {
            "marker": {
             "colorbar": {
              "outlinewidth": 0,
              "ticks": ""
             }
            },
            "type": "scattergeo"
           }
          ],
          "scattergl": [
           {
            "marker": {
             "colorbar": {
              "outlinewidth": 0,
              "ticks": ""
             }
            },
            "type": "scattergl"
           }
          ],
          "scattermap": [
           {
            "marker": {
             "colorbar": {
              "outlinewidth": 0,
              "ticks": ""
             }
            },
            "type": "scattermap"
           }
          ],
          "scattermapbox": [
           {
            "marker": {
             "colorbar": {
              "outlinewidth": 0,
              "ticks": ""
             }
            },
            "type": "scattermapbox"
           }
          ],
          "scatterpolar": [
           {
            "marker": {
             "colorbar": {
              "outlinewidth": 0,
              "ticks": ""
             }
            },
            "type": "scatterpolar"
           }
          ],
          "scatterpolargl": [
           {
            "marker": {
             "colorbar": {
              "outlinewidth": 0,
              "ticks": ""
             }
            },
            "type": "scatterpolargl"
           }
          ],
          "scatterternary": [
           {
            "marker": {
             "colorbar": {
              "outlinewidth": 0,
              "ticks": ""
             }
            },
            "type": "scatterternary"
           }
          ],
          "surface": [
           {
            "colorbar": {
             "outlinewidth": 0,
             "ticks": ""
            },
            "colorscale": [
             [
              0,
              "#0d0887"
             ],
             [
              0.1111111111111111,
              "#46039f"
             ],
             [
              0.2222222222222222,
              "#7201a8"
             ],
             [
              0.3333333333333333,
              "#9c179e"
             ],
             [
              0.4444444444444444,
              "#bd3786"
             ],
             [
              0.5555555555555556,
              "#d8576b"
             ],
             [
              0.6666666666666666,
              "#ed7953"
             ],
             [
              0.7777777777777778,
              "#fb9f3a"
             ],
             [
              0.8888888888888888,
              "#fdca26"
             ],
             [
              1,
              "#f0f921"
             ]
            ],
            "type": "surface"
           }
          ],
          "table": [
           {
            "cells": {
             "fill": {
              "color": "#EBF0F8"
             },
             "line": {
              "color": "white"
             }
            },
            "header": {
             "fill": {
              "color": "#C8D4E3"
             },
             "line": {
              "color": "white"
             }
            },
            "type": "table"
           }
          ]
         },
         "layout": {
          "annotationdefaults": {
           "arrowcolor": "#2a3f5f",
           "arrowhead": 0,
           "arrowwidth": 1
          },
          "autotypenumbers": "strict",
          "coloraxis": {
           "colorbar": {
            "outlinewidth": 0,
            "ticks": ""
           }
          },
          "colorscale": {
           "diverging": [
            [
             0,
             "#8e0152"
            ],
            [
             0.1,
             "#c51b7d"
            ],
            [
             0.2,
             "#de77ae"
            ],
            [
             0.3,
             "#f1b6da"
            ],
            [
             0.4,
             "#fde0ef"
            ],
            [
             0.5,
             "#f7f7f7"
            ],
            [
             0.6,
             "#e6f5d0"
            ],
            [
             0.7,
             "#b8e186"
            ],
            [
             0.8,
             "#7fbc41"
            ],
            [
             0.9,
             "#4d9221"
            ],
            [
             1,
             "#276419"
            ]
           ],
           "sequential": [
            [
             0,
             "#0d0887"
            ],
            [
             0.1111111111111111,
             "#46039f"
            ],
            [
             0.2222222222222222,
             "#7201a8"
            ],
            [
             0.3333333333333333,
             "#9c179e"
            ],
            [
             0.4444444444444444,
             "#bd3786"
            ],
            [
             0.5555555555555556,
             "#d8576b"
            ],
            [
             0.6666666666666666,
             "#ed7953"
            ],
            [
             0.7777777777777778,
             "#fb9f3a"
            ],
            [
             0.8888888888888888,
             "#fdca26"
            ],
            [
             1,
             "#f0f921"
            ]
           ],
           "sequentialminus": [
            [
             0,
             "#0d0887"
            ],
            [
             0.1111111111111111,
             "#46039f"
            ],
            [
             0.2222222222222222,
             "#7201a8"
            ],
            [
             0.3333333333333333,
             "#9c179e"
            ],
            [
             0.4444444444444444,
             "#bd3786"
            ],
            [
             0.5555555555555556,
             "#d8576b"
            ],
            [
             0.6666666666666666,
             "#ed7953"
            ],
            [
             0.7777777777777778,
             "#fb9f3a"
            ],
            [
             0.8888888888888888,
             "#fdca26"
            ],
            [
             1,
             "#f0f921"
            ]
           ]
          },
          "colorway": [
           "#636efa",
           "#EF553B",
           "#00cc96",
           "#ab63fa",
           "#FFA15A",
           "#19d3f3",
           "#FF6692",
           "#B6E880",
           "#FF97FF",
           "#FECB52"
          ],
          "font": {
           "color": "#2a3f5f"
          },
          "geo": {
           "bgcolor": "white",
           "lakecolor": "white",
           "landcolor": "#E5ECF6",
           "showlakes": true,
           "showland": true,
           "subunitcolor": "white"
          },
          "hoverlabel": {
           "align": "left"
          },
          "hovermode": "closest",
          "mapbox": {
           "style": "light"
          },
          "paper_bgcolor": "white",
          "plot_bgcolor": "#E5ECF6",
          "polar": {
           "angularaxis": {
            "gridcolor": "white",
            "linecolor": "white",
            "ticks": ""
           },
           "bgcolor": "#E5ECF6",
           "radialaxis": {
            "gridcolor": "white",
            "linecolor": "white",
            "ticks": ""
           }
          },
          "scene": {
           "xaxis": {
            "backgroundcolor": "#E5ECF6",
            "gridcolor": "white",
            "gridwidth": 2,
            "linecolor": "white",
            "showbackground": true,
            "ticks": "",
            "zerolinecolor": "white"
           },
           "yaxis": {
            "backgroundcolor": "#E5ECF6",
            "gridcolor": "white",
            "gridwidth": 2,
            "linecolor": "white",
            "showbackground": true,
            "ticks": "",
            "zerolinecolor": "white"
           },
           "zaxis": {
            "backgroundcolor": "#E5ECF6",
            "gridcolor": "white",
            "gridwidth": 2,
            "linecolor": "white",
            "showbackground": true,
            "ticks": "",
            "zerolinecolor": "white"
           }
          },
          "shapedefaults": {
           "line": {
            "color": "#2a3f5f"
           }
          },
          "ternary": {
           "aaxis": {
            "gridcolor": "white",
            "linecolor": "white",
            "ticks": ""
           },
           "baxis": {
            "gridcolor": "white",
            "linecolor": "white",
            "ticks": ""
           },
           "bgcolor": "#E5ECF6",
           "caxis": {
            "gridcolor": "white",
            "linecolor": "white",
            "ticks": ""
           }
          },
          "title": {
           "x": 0.05
          },
          "xaxis": {
           "automargin": true,
           "gridcolor": "white",
           "linecolor": "white",
           "ticks": "",
           "title": {
            "standoff": 15
           },
           "zerolinecolor": "white",
           "zerolinewidth": 2
          },
          "yaxis": {
           "automargin": true,
           "gridcolor": "white",
           "linecolor": "white",
           "ticks": "",
           "title": {
            "standoff": 15
           },
           "zerolinecolor": "white",
           "zerolinewidth": 2
          }
         }
        },
        "title": {
         "text": "Bubble Chart: Voltage vs Current by Load"
        },
        "xaxis": {
         "anchor": "y",
         "domain": [
          0,
          1
         ],
         "title": {
          "text": "Voltage (V)"
         }
        },
        "yaxis": {
         "anchor": "x",
         "domain": [
          0,
          1
         ],
         "title": {
          "text": "Current (A)"
         }
        }
       }
      }
     },
     "metadata": {},
     "output_type": "display_data"
    }
   ],
   "source": [
    "fig = px.scatter(df, x='Voltage (V)', y='Current (A)', size='Power Load (MW)', color='Fault Type',\n",
    "                 title='Bubble Chart: Voltage vs Current by Load')\n",
    "fig.show()"
   ]
  },
  {
   "cell_type": "code",
   "execution_count": 17,
   "id": "685c8c6e",
   "metadata": {},
   "outputs": [
    {
     "data": {
      "image/png": "[encoded data removed]",
      "text/plain": [
       "<Figure size 640x480 with 2 Axes>"
      ]
     },
     "metadata": {},
     "output_type": "display_data"
    }
   ],
   "source": [
    "import numpy as np\n",
    "\n",
    "corr = df[['Voltage (V)', 'Current (A)', 'Power Load (MW)', 'Duration of Fault (hrs)', 'Down time (hrs)']].corr()\n",
    "sns.heatmap(corr, annot=True, cmap='coolwarm')\n",
    "plt.title(\"Heatmap: Correlation Between Metrics\")\n",
    "plt.tight_layout()\n",
    "plt.show()"
   ]
  }
 ],
 "metadata": {
  "kernelspec": {
   "display_name": "base",
   "language": "python",
   "name": "python3"
  },
  "language_info": {
   "codemirror_mode": {
    "name": "ipython",
    "version": 3
   },
   "file_extension": ".py",
   "mimetype": "text/x-python",
   "name": "python",
   "nbconvert_exporter": "python",
   "pygments_lexer": "ipython3",
   "version": "3.12.7"
  }
 },
 "nbformat": 4,
 "nbformat_minor": 5
}
