{
 "cells": [
  {
   "cell_type": "markdown",
   "id": "d90cb9b3",
   "metadata": {},
   "source": [
    "### 📊 Exploratory Data Analysis (EDA): Power System Faults Dataset\n",
    "\n",
    "This notebook presents a comprehensive exploratory analysis of the **Power System Faults Dataset**, available on [Kaggle](https://www.kaggle.com/datasets/ziya07/power-system-faults-dataset). The dataset contains synthetic records of electrical power system faults across various geographic locations and weather conditions, designed for analysis, pattern recognition, and reliability prediction.\n",
    "\n",
    "<img src=\"Electricity_grid.png\" alt=\"Electricity grid\" width=\"80%\">\n",
    "\n",
    "\n",
    "#### 📄 Dataset Description\n",
    "\n",
    "Each row in the dataset represents a unique power system fault incident and includes information such as:\n",
    "\n",
    "- **Fault Type** (e.g., Line Breakage, Transformer Failure)\n",
    "- **Geographic Location** (Latitude & Longitude)\n",
    "- **Environmental Conditions** (Temperature, Wind Speed, Weather)\n",
    "- **Electrical Measurements** (Voltage, Current, Power Load)\n",
    "- **Fault Duration and Downtime**\n",
    "- **Maintenance and Component Health Status**\n",
    "\n",
    "This EDA lays the groundwork for further reliability modeling, fault classification, or predictive maintenance applications."
   ]
  },
  {
   "cell_type": "code",
   "execution_count": 1,
   "id": "91caa891",
   "metadata": {},
   "outputs": [],
   "source": [
    "# 📥 Import Required Libraries\n",
    "import pandas as pd\n",
    "import matplotlib.pyplot as plt\n",
    "import seaborn as sns\n",
    "from scipy.stats import skew, kurtosis\n",
    "import warnings\n",
    "warnings.filterwarnings('ignore')"
   ]
  },
  {
   "cell_type": "markdown",
   "id": "ce3309d0",
   "metadata": {},
   "source": [
    "***\n",
    "### 📥 Load the dataset from URL"
   ]
  },
  {
   "cell_type": "code",
   "execution_count": 2,
   "id": "6910005e",
   "metadata": {},
   "outputs": [
    {
     "ename": "HTTPError",
     "evalue": "HTTP Error 404: Not Found",
     "output_type": "error",
     "traceback": [
      "\u001b[1;31m---------------------------------------------------------------------------\u001b[0m",
      "\u001b[1;31mHTTPError\u001b[0m                                 Traceback (most recent call last)",
      "Cell \u001b[1;32mIn[2], line 2\u001b[0m\n\u001b[0;32m      1\u001b[0m url \u001b[38;5;241m=\u001b[39m \u001b[38;5;124m'\u001b[39m\u001b[38;5;124mhttps://raw.githubusercontent.com/Dr-AlaaKhamis/ISE518/refs/heads/main/datasets/fault_data.csv\u001b[39m\u001b[38;5;124m'\u001b[39m\n\u001b[1;32m----> 2\u001b[0m df \u001b[38;5;241m=\u001b[39m pd\u001b[38;5;241m.\u001b[39mread_csv(url)\n\u001b[0;32m      4\u001b[0m df\u001b[38;5;241m.\u001b[39mhead()\n",
      "File \u001b[1;32mc:\\ProgramData\\anaconda3\\Lib\\site-packages\\pandas\\io\\parsers\\readers.py:1026\u001b[0m, in \u001b[0;36mread_csv\u001b[1;34m(filepath_or_buffer, sep, delimiter, header, names, index_col, usecols, dtype, engine, converters, true_values, false_values, skipinitialspace, skiprows, skipfooter, nrows, na_values, keep_default_na, na_filter, verbose, skip_blank_lines, parse_dates, infer_datetime_format, keep_date_col, date_parser, date_format, dayfirst, cache_dates, iterator, chunksize, compression, thousands, decimal, lineterminator, quotechar, quoting, doublequote, escapechar, comment, encoding, encoding_errors, dialect, on_bad_lines, delim_whitespace, low_memory, memory_map, float_precision, storage_options, dtype_backend)\u001b[0m\n\u001b[0;32m   1013\u001b[0m kwds_defaults \u001b[38;5;241m=\u001b[39m _refine_defaults_read(\n\u001b[0;32m   1014\u001b[0m     dialect,\n\u001b[0;32m   1015\u001b[0m     delimiter,\n\u001b[1;32m   (...)\u001b[0m\n\u001b[0;32m   1022\u001b[0m     dtype_backend\u001b[38;5;241m=\u001b[39mdtype_backend,\n\u001b[0;32m   1023\u001b[0m )\n\u001b[0;32m   1024\u001b[0m kwds\u001b[38;5;241m.\u001b[39mupdate(kwds_defaults)\n\u001b[1;32m-> 1026\u001b[0m \u001b[38;5;28;01mreturn\u001b[39;00m _read(filepath_or_buffer, kwds)\n",
      "File \u001b[1;32mc:\\ProgramData\\anaconda3\\Lib\\site-packages\\pandas\\io\\parsers\\readers.py:620\u001b[0m, in \u001b[0;36m_read\u001b[1;34m(filepath_or_buffer, kwds)\u001b[0m\n\u001b[0;32m    617\u001b[0m _validate_names(kwds\u001b[38;5;241m.\u001b[39mget(\u001b[38;5;124m\"\u001b[39m\u001b[38;5;124mnames\u001b[39m\u001b[38;5;124m\"\u001b[39m, \u001b[38;5;28;01mNone\u001b[39;00m))\n\u001b[0;32m    619\u001b[0m \u001b[38;5;66;03m# Create the parser.\u001b[39;00m\n\u001b[1;32m--> 620\u001b[0m parser \u001b[38;5;241m=\u001b[39m TextFileReader(filepath_or_buffer, \u001b[38;5;241m*\u001b[39m\u001b[38;5;241m*\u001b[39mkwds)\n\u001b[0;32m    622\u001b[0m \u001b[38;5;28;01mif\u001b[39;00m chunksize \u001b[38;5;129;01mor\u001b[39;00m iterator:\n\u001b[0;32m    623\u001b[0m     \u001b[38;5;28;01mreturn\u001b[39;00m parser\n",
      "File \u001b[1;32mc:\\ProgramData\\anaconda3\\Lib\\site-packages\\pandas\\io\\parsers\\readers.py:1620\u001b[0m, in \u001b[0;36mTextFileReader.__init__\u001b[1;34m(self, f, engine, **kwds)\u001b[0m\n\u001b[0;32m   1617\u001b[0m     \u001b[38;5;28mself\u001b[39m\u001b[38;5;241m.\u001b[39moptions[\u001b[38;5;124m\"\u001b[39m\u001b[38;5;124mhas_index_names\u001b[39m\u001b[38;5;124m\"\u001b[39m] \u001b[38;5;241m=\u001b[39m kwds[\u001b[38;5;124m\"\u001b[39m\u001b[38;5;124mhas_index_names\u001b[39m\u001b[38;5;124m\"\u001b[39m]\n\u001b[0;32m   1619\u001b[0m \u001b[38;5;28mself\u001b[39m\u001b[38;5;241m.\u001b[39mhandles: IOHandles \u001b[38;5;241m|\u001b[39m \u001b[38;5;28;01mNone\u001b[39;00m \u001b[38;5;241m=\u001b[39m \u001b[38;5;28;01mNone\u001b[39;00m\n\u001b[1;32m-> 1620\u001b[0m \u001b[38;5;28mself\u001b[39m\u001b[38;5;241m.\u001b[39m_engine \u001b[38;5;241m=\u001b[39m \u001b[38;5;28mself\u001b[39m\u001b[38;5;241m.\u001b[39m_make_engine(f, \u001b[38;5;28mself\u001b[39m\u001b[38;5;241m.\u001b[39mengine)\n",
      "File \u001b[1;32mc:\\ProgramData\\anaconda3\\Lib\\site-packages\\pandas\\io\\parsers\\readers.py:1880\u001b[0m, in \u001b[0;36mTextFileReader._make_engine\u001b[1;34m(self, f, engine)\u001b[0m\n\u001b[0;32m   1878\u001b[0m     \u001b[38;5;28;01mif\u001b[39;00m \u001b[38;5;124m\"\u001b[39m\u001b[38;5;124mb\u001b[39m\u001b[38;5;124m\"\u001b[39m \u001b[38;5;129;01mnot\u001b[39;00m \u001b[38;5;129;01min\u001b[39;00m mode:\n\u001b[0;32m   1879\u001b[0m         mode \u001b[38;5;241m+\u001b[39m\u001b[38;5;241m=\u001b[39m \u001b[38;5;124m\"\u001b[39m\u001b[38;5;124mb\u001b[39m\u001b[38;5;124m\"\u001b[39m\n\u001b[1;32m-> 1880\u001b[0m \u001b[38;5;28mself\u001b[39m\u001b[38;5;241m.\u001b[39mhandles \u001b[38;5;241m=\u001b[39m get_handle(\n\u001b[0;32m   1881\u001b[0m     f,\n\u001b[0;32m   1882\u001b[0m     mode,\n\u001b[0;32m   1883\u001b[0m     encoding\u001b[38;5;241m=\u001b[39m\u001b[38;5;28mself\u001b[39m\u001b[38;5;241m.\u001b[39moptions\u001b[38;5;241m.\u001b[39mget(\u001b[38;5;124m\"\u001b[39m\u001b[38;5;124mencoding\u001b[39m\u001b[38;5;124m\"\u001b[39m, \u001b[38;5;28;01mNone\u001b[39;00m),\n\u001b[0;32m   1884\u001b[0m     compression\u001b[38;5;241m=\u001b[39m\u001b[38;5;28mself\u001b[39m\u001b[38;5;241m.\u001b[39moptions\u001b[38;5;241m.\u001b[39mget(\u001b[38;5;124m\"\u001b[39m\u001b[38;5;124mcompression\u001b[39m\u001b[38;5;124m\"\u001b[39m, \u001b[38;5;28;01mNone\u001b[39;00m),\n\u001b[0;32m   1885\u001b[0m     memory_map\u001b[38;5;241m=\u001b[39m\u001b[38;5;28mself\u001b[39m\u001b[38;5;241m.\u001b[39moptions\u001b[38;5;241m.\u001b[39mget(\u001b[38;5;124m\"\u001b[39m\u001b[38;5;124mmemory_map\u001b[39m\u001b[38;5;124m\"\u001b[39m, \u001b[38;5;28;01mFalse\u001b[39;00m),\n\u001b[0;32m   1886\u001b[0m     is_text\u001b[38;5;241m=\u001b[39mis_text,\n\u001b[0;32m   1887\u001b[0m     errors\u001b[38;5;241m=\u001b[39m\u001b[38;5;28mself\u001b[39m\u001b[38;5;241m.\u001b[39moptions\u001b[38;5;241m.\u001b[39mget(\u001b[38;5;124m\"\u001b[39m\u001b[38;5;124mencoding_errors\u001b[39m\u001b[38;5;124m\"\u001b[39m, \u001b[38;5;124m\"\u001b[39m\u001b[38;5;124mstrict\u001b[39m\u001b[38;5;124m\"\u001b[39m),\n\u001b[0;32m   1888\u001b[0m     storage_options\u001b[38;5;241m=\u001b[39m\u001b[38;5;28mself\u001b[39m\u001b[38;5;241m.\u001b[39moptions\u001b[38;5;241m.\u001b[39mget(\u001b[38;5;124m\"\u001b[39m\u001b[38;5;124mstorage_options\u001b[39m\u001b[38;5;124m\"\u001b[39m, \u001b[38;5;28;01mNone\u001b[39;00m),\n\u001b[0;32m   1889\u001b[0m )\n\u001b[0;32m   1890\u001b[0m \u001b[38;5;28;01massert\u001b[39;00m \u001b[38;5;28mself\u001b[39m\u001b[38;5;241m.\u001b[39mhandles \u001b[38;5;129;01mis\u001b[39;00m \u001b[38;5;129;01mnot\u001b[39;00m \u001b[38;5;28;01mNone\u001b[39;00m\n\u001b[0;32m   1891\u001b[0m f \u001b[38;5;241m=\u001b[39m \u001b[38;5;28mself\u001b[39m\u001b[38;5;241m.\u001b[39mhandles\u001b[38;5;241m.\u001b[39mhandle\n",
      "File \u001b[1;32mc:\\ProgramData\\anaconda3\\Lib\\site-packages\\pandas\\io\\common.py:728\u001b[0m, in \u001b[0;36mget_handle\u001b[1;34m(path_or_buf, mode, encoding, compression, memory_map, is_text, errors, storage_options)\u001b[0m\n\u001b[0;32m    725\u001b[0m     codecs\u001b[38;5;241m.\u001b[39mlookup_error(errors)\n\u001b[0;32m    727\u001b[0m \u001b[38;5;66;03m# open URLs\u001b[39;00m\n\u001b[1;32m--> 728\u001b[0m ioargs \u001b[38;5;241m=\u001b[39m _get_filepath_or_buffer(\n\u001b[0;32m    729\u001b[0m     path_or_buf,\n\u001b[0;32m    730\u001b[0m     encoding\u001b[38;5;241m=\u001b[39mencoding,\n\u001b[0;32m    731\u001b[0m     compression\u001b[38;5;241m=\u001b[39mcompression,\n\u001b[0;32m    732\u001b[0m     mode\u001b[38;5;241m=\u001b[39mmode,\n\u001b[0;32m    733\u001b[0m     storage_options\u001b[38;5;241m=\u001b[39mstorage_options,\n\u001b[0;32m    734\u001b[0m )\n\u001b[0;32m    736\u001b[0m handle \u001b[38;5;241m=\u001b[39m ioargs\u001b[38;5;241m.\u001b[39mfilepath_or_buffer\n\u001b[0;32m    737\u001b[0m handles: \u001b[38;5;28mlist\u001b[39m[BaseBuffer]\n",
      "File \u001b[1;32mc:\\ProgramData\\anaconda3\\Lib\\site-packages\\pandas\\io\\common.py:384\u001b[0m, in \u001b[0;36m_get_filepath_or_buffer\u001b[1;34m(filepath_or_buffer, encoding, compression, mode, storage_options)\u001b[0m\n\u001b[0;32m    382\u001b[0m \u001b[38;5;66;03m# assuming storage_options is to be interpreted as headers\u001b[39;00m\n\u001b[0;32m    383\u001b[0m req_info \u001b[38;5;241m=\u001b[39m urllib\u001b[38;5;241m.\u001b[39mrequest\u001b[38;5;241m.\u001b[39mRequest(filepath_or_buffer, headers\u001b[38;5;241m=\u001b[39mstorage_options)\n\u001b[1;32m--> 384\u001b[0m \u001b[38;5;28;01mwith\u001b[39;00m urlopen(req_info) \u001b[38;5;28;01mas\u001b[39;00m req:\n\u001b[0;32m    385\u001b[0m     content_encoding \u001b[38;5;241m=\u001b[39m req\u001b[38;5;241m.\u001b[39mheaders\u001b[38;5;241m.\u001b[39mget(\u001b[38;5;124m\"\u001b[39m\u001b[38;5;124mContent-Encoding\u001b[39m\u001b[38;5;124m\"\u001b[39m, \u001b[38;5;28;01mNone\u001b[39;00m)\n\u001b[0;32m    386\u001b[0m     \u001b[38;5;28;01mif\u001b[39;00m content_encoding \u001b[38;5;241m==\u001b[39m \u001b[38;5;124m\"\u001b[39m\u001b[38;5;124mgzip\u001b[39m\u001b[38;5;124m\"\u001b[39m:\n\u001b[0;32m    387\u001b[0m         \u001b[38;5;66;03m# Override compression based on Content-Encoding header\u001b[39;00m\n",
      "File \u001b[1;32mc:\\ProgramData\\anaconda3\\Lib\\site-packages\\pandas\\io\\common.py:289\u001b[0m, in \u001b[0;36murlopen\u001b[1;34m(*args, **kwargs)\u001b[0m\n\u001b[0;32m    283\u001b[0m \u001b[38;5;250m\u001b[39m\u001b[38;5;124;03m\"\"\"\u001b[39;00m\n\u001b[0;32m    284\u001b[0m \u001b[38;5;124;03mLazy-import wrapper for stdlib urlopen, as that imports a big chunk of\u001b[39;00m\n\u001b[0;32m    285\u001b[0m \u001b[38;5;124;03mthe stdlib.\u001b[39;00m\n\u001b[0;32m    286\u001b[0m \u001b[38;5;124;03m\"\"\"\u001b[39;00m\n\u001b[0;32m    287\u001b[0m \u001b[38;5;28;01mimport\u001b[39;00m \u001b[38;5;21;01murllib\u001b[39;00m\u001b[38;5;21;01m.\u001b[39;00m\u001b[38;5;21;01mrequest\u001b[39;00m\n\u001b[1;32m--> 289\u001b[0m \u001b[38;5;28;01mreturn\u001b[39;00m urllib\u001b[38;5;241m.\u001b[39mrequest\u001b[38;5;241m.\u001b[39murlopen(\u001b[38;5;241m*\u001b[39margs, \u001b[38;5;241m*\u001b[39m\u001b[38;5;241m*\u001b[39mkwargs)\n",
      "File \u001b[1;32mc:\\ProgramData\\anaconda3\\Lib\\urllib\\request.py:215\u001b[0m, in \u001b[0;36murlopen\u001b[1;34m(url, data, timeout, cafile, capath, cadefault, context)\u001b[0m\n\u001b[0;32m    213\u001b[0m \u001b[38;5;28;01melse\u001b[39;00m:\n\u001b[0;32m    214\u001b[0m     opener \u001b[38;5;241m=\u001b[39m _opener\n\u001b[1;32m--> 215\u001b[0m \u001b[38;5;28;01mreturn\u001b[39;00m opener\u001b[38;5;241m.\u001b[39mopen(url, data, timeout)\n",
      "File \u001b[1;32mc:\\ProgramData\\anaconda3\\Lib\\urllib\\request.py:521\u001b[0m, in \u001b[0;36mOpenerDirector.open\u001b[1;34m(self, fullurl, data, timeout)\u001b[0m\n\u001b[0;32m    519\u001b[0m \u001b[38;5;28;01mfor\u001b[39;00m processor \u001b[38;5;129;01min\u001b[39;00m \u001b[38;5;28mself\u001b[39m\u001b[38;5;241m.\u001b[39mprocess_response\u001b[38;5;241m.\u001b[39mget(protocol, []):\n\u001b[0;32m    520\u001b[0m     meth \u001b[38;5;241m=\u001b[39m \u001b[38;5;28mgetattr\u001b[39m(processor, meth_name)\n\u001b[1;32m--> 521\u001b[0m     response \u001b[38;5;241m=\u001b[39m meth(req, response)\n\u001b[0;32m    523\u001b[0m \u001b[38;5;28;01mreturn\u001b[39;00m response\n",
      "File \u001b[1;32mc:\\ProgramData\\anaconda3\\Lib\\urllib\\request.py:630\u001b[0m, in \u001b[0;36mHTTPErrorProcessor.http_response\u001b[1;34m(self, request, response)\u001b[0m\n\u001b[0;32m    627\u001b[0m \u001b[38;5;66;03m# According to RFC 2616, \"2xx\" code indicates that the client's\u001b[39;00m\n\u001b[0;32m    628\u001b[0m \u001b[38;5;66;03m# request was successfully received, understood, and accepted.\u001b[39;00m\n\u001b[0;32m    629\u001b[0m \u001b[38;5;28;01mif\u001b[39;00m \u001b[38;5;129;01mnot\u001b[39;00m (\u001b[38;5;241m200\u001b[39m \u001b[38;5;241m<\u001b[39m\u001b[38;5;241m=\u001b[39m code \u001b[38;5;241m<\u001b[39m \u001b[38;5;241m300\u001b[39m):\n\u001b[1;32m--> 630\u001b[0m     response \u001b[38;5;241m=\u001b[39m \u001b[38;5;28mself\u001b[39m\u001b[38;5;241m.\u001b[39mparent\u001b[38;5;241m.\u001b[39merror(\n\u001b[0;32m    631\u001b[0m         \u001b[38;5;124m'\u001b[39m\u001b[38;5;124mhttp\u001b[39m\u001b[38;5;124m'\u001b[39m, request, response, code, msg, hdrs)\n\u001b[0;32m    633\u001b[0m \u001b[38;5;28;01mreturn\u001b[39;00m response\n",
      "File \u001b[1;32mc:\\ProgramData\\anaconda3\\Lib\\urllib\\request.py:559\u001b[0m, in \u001b[0;36mOpenerDirector.error\u001b[1;34m(self, proto, *args)\u001b[0m\n\u001b[0;32m    557\u001b[0m \u001b[38;5;28;01mif\u001b[39;00m http_err:\n\u001b[0;32m    558\u001b[0m     args \u001b[38;5;241m=\u001b[39m (\u001b[38;5;28mdict\u001b[39m, \u001b[38;5;124m'\u001b[39m\u001b[38;5;124mdefault\u001b[39m\u001b[38;5;124m'\u001b[39m, \u001b[38;5;124m'\u001b[39m\u001b[38;5;124mhttp_error_default\u001b[39m\u001b[38;5;124m'\u001b[39m) \u001b[38;5;241m+\u001b[39m orig_args\n\u001b[1;32m--> 559\u001b[0m     \u001b[38;5;28;01mreturn\u001b[39;00m \u001b[38;5;28mself\u001b[39m\u001b[38;5;241m.\u001b[39m_call_chain(\u001b[38;5;241m*\u001b[39margs)\n",
      "File \u001b[1;32mc:\\ProgramData\\anaconda3\\Lib\\urllib\\request.py:492\u001b[0m, in \u001b[0;36mOpenerDirector._call_chain\u001b[1;34m(self, chain, kind, meth_name, *args)\u001b[0m\n\u001b[0;32m    490\u001b[0m \u001b[38;5;28;01mfor\u001b[39;00m handler \u001b[38;5;129;01min\u001b[39;00m handlers:\n\u001b[0;32m    491\u001b[0m     func \u001b[38;5;241m=\u001b[39m \u001b[38;5;28mgetattr\u001b[39m(handler, meth_name)\n\u001b[1;32m--> 492\u001b[0m     result \u001b[38;5;241m=\u001b[39m func(\u001b[38;5;241m*\u001b[39margs)\n\u001b[0;32m    493\u001b[0m     \u001b[38;5;28;01mif\u001b[39;00m result \u001b[38;5;129;01mis\u001b[39;00m \u001b[38;5;129;01mnot\u001b[39;00m \u001b[38;5;28;01mNone\u001b[39;00m:\n\u001b[0;32m    494\u001b[0m         \u001b[38;5;28;01mreturn\u001b[39;00m result\n",
      "File \u001b[1;32mc:\\ProgramData\\anaconda3\\Lib\\urllib\\request.py:639\u001b[0m, in \u001b[0;36mHTTPDefaultErrorHandler.http_error_default\u001b[1;34m(self, req, fp, code, msg, hdrs)\u001b[0m\n\u001b[0;32m    638\u001b[0m \u001b[38;5;28;01mdef\u001b[39;00m \u001b[38;5;21mhttp_error_default\u001b[39m(\u001b[38;5;28mself\u001b[39m, req, fp, code, msg, hdrs):\n\u001b[1;32m--> 639\u001b[0m     \u001b[38;5;28;01mraise\u001b[39;00m HTTPError(req\u001b[38;5;241m.\u001b[39mfull_url, code, msg, hdrs, fp)\n",
      "\u001b[1;31mHTTPError\u001b[0m: HTTP Error 404: Not Found"
     ]
    }
   ],
   "source": [
    "url = 'https://raw.githubusercontent.com/Dr-AlaaKhamis/ISE518/refs/heads/main/datasets/fault_data.csv'\n",
    "df = pd.read_csv(url)\n",
    "\n",
    "df.head()"
   ]
  },
  {
   "cell_type": "markdown",
   "id": "fe1f703d",
   "metadata": {},
   "source": [
    "#### 📂 Load dataset from local folder"
   ]
  },
  {
   "cell_type": "code",
   "execution_count": null,
   "id": "f869549b",
   "metadata": {},
   "outputs": [],
   "source": [
    "# df = pd.read_csv(\"data/fault_data.csv\")\n",
    "\n",
    "# df.head()"
   ]
  },
  {
   "cell_type": "markdown",
   "id": "446213d5",
   "metadata": {},
   "source": [
    "***\n",
    "#### 🔎 Data Quality Checks"
   ]
  },
  {
   "cell_type": "code",
   "execution_count": null,
   "id": "e15f1b18",
   "metadata": {},
   "outputs": [],
   "source": [
    "# Check missing data\n",
    "print(\"Missing values:\")\n",
    "print(df.isnull().sum())\n",
    "\n",
    "# Check duplicates\n",
    "print(\"\\nDuplicate rows:\", df.duplicated().sum())\n",
    "\n",
    "# # Data types\n",
    "# print(\"\\nData Types:\")\n",
    "# print(df.dtypes)"
   ]
  },
  {
   "cell_type": "markdown",
   "id": "04bd619c",
   "metadata": {},
   "source": [
    "***\n",
    "#### 📊 Univariate Analysis"
   ]
  },
  {
   "cell_type": "code",
   "execution_count": null,
   "id": "14a002cc",
   "metadata": {},
   "outputs": [],
   "source": [
    "# Summary statistics\n",
    "summary = df.describe()\n",
    "print(summary)"
   ]
  },
  {
   "cell_type": "code",
   "execution_count": null,
   "id": "790c0224",
   "metadata": {},
   "outputs": [],
   "source": [
    "# Boxplot example for Temperature\n",
    "sns.boxplot(x=df['Temperature (C)'])\n",
    "plt.title(\"Boxplot of Temperature\")\n",
    "plt.show()"
   ]
  },
  {
   "cell_type": "code",
   "execution_count": null,
   "id": "5c69bbc6",
   "metadata": {},
   "outputs": [],
   "source": [
    "# Plot the distribution curve for a selected variable \n",
    "temp_data = df['Temperature (C)'].dropna() # Drop NA if any\n",
    "\n",
    "plt.figure(figsize=(8, 5))\n",
    "sns.histplot(temp_data, kde=True, bins=10, color='skyblue')\n",
    "plt.title('Distribution of Temperature (°C)')\n",
    "plt.xlabel('Temperature (°C)')\n",
    "plt.ylabel('Frequency')\n",
    "plt.grid(True)\n",
    "plt.tight_layout()\n",
    "plt.show()\n"
   ]
  },
  {
   "cell_type": "code",
   "execution_count": null,
   "id": "4fa8bf48",
   "metadata": {},
   "outputs": [],
   "source": [
    "# Skewness & Kurtosis for Temperature\n",
    "print(f\"📈 Skewness: {skew(temp_data):.2f}\")\n",
    "print(f\"📉 Kurtosis: {kurtosis(temp_data):.2f}\")"
   ]
  },
  {
   "cell_type": "markdown",
   "id": "820aa40d",
   "metadata": {},
   "source": [
    "#### 📈 Numerical Distribution\n",
    "\n",
    "We analyze the distribution of each numerical feature using:\n",
    "\n",
    "- **Histograms**: Show frequency of values grouped into bins.\n",
    "- **KDE (Kernel Density Estimation) Plots**: Smoothed curves that estimate the probability density function of a continuous variable.\n",
    "\n",
    "🔍 Helps identify:\n",
    "- Normality\n",
    "- Skewness\n",
    "- Multimodal distributions\n",
    "- Outliers"
   ]
  },
  {
   "cell_type": "code",
   "execution_count": null,
   "id": "a070352d",
   "metadata": {},
   "outputs": [],
   "source": [
    "import matplotlib.pyplot as plt\n",
    "import seaborn as sns\n",
    "\n",
    "# List of numerical features\n",
    "num_features = [\n",
    "    'Voltage (V)', \n",
    "    'Current (A)', \n",
    "    'Power Load (MW)', \n",
    "    'Temperature (C)', \n",
    "    'Wind Speed (km/h)', \n",
    "    'Duration of Fault (hrs)', \n",
    "    'Down time (hrs)'\n",
    "]\n",
    "\n",
    "# Set up plot aesthetics\n",
    "sns.set(style=\"whitegrid\")\n",
    "n_cols = 3\n",
    "n_rows = (len(num_features) + n_cols - 1) // n_cols\n",
    "fig, axes = plt.subplots(n_rows, n_cols, figsize=(16, n_rows * 4))\n",
    "\n",
    "# Flatten axes array for easy iteration\n",
    "axes = axes.flatten()\n",
    "\n",
    "# Create plots\n",
    "for i, col in enumerate(num_features):\n",
    "    sns.histplot(df[col], kde=True, bins=15, ax=axes[i], color='steelblue')\n",
    "    axes[i].set_title(f'Distribution of {col}')\n",
    "    axes[i].set_xlabel(col)\n",
    "    axes[i].set_ylabel('Frequency')\n",
    "\n",
    "# Hide any unused subplots\n",
    "for j in range(i + 1, len(axes)):\n",
    "    axes[j].axis('off')\n",
    "\n",
    "plt.tight_layout()\n",
    "plt.show()"
   ]
  },
  {
   "cell_type": "markdown",
   "id": "882054a0",
   "metadata": {},
   "source": [
    "#### 🗂️ Categorical Distribution\n",
    "\n",
    "We explore the frequency distribution of each categorical variable using **count plots** (bar plots).\n",
    "\n",
    "📊 Count plots are useful for:\n",
    "- Understanding the balance between categories\n",
    "- Detecting underrepresented or dominant categories\n",
    "- Identifying data quality issues (e.g., typos or rare labels)\n",
    "\n",
    "### Features:\n",
    "- `Fault Type`\n",
    "- `Weather Condition`\n",
    "- `Maintenance Status`\n",
    "- `Component Health`\n"
   ]
  },
  {
   "cell_type": "code",
   "execution_count": null,
   "id": "40d84253",
   "metadata": {},
   "outputs": [],
   "source": [
    "import seaborn as sns\n",
    "import matplotlib.pyplot as plt\n",
    "\n",
    "# List of categorical features\n",
    "cat_features = [\n",
    "    'Fault Type', \n",
    "    'Weather Condition', \n",
    "    'Maintenance Status', \n",
    "    'Component Health'\n",
    "]\n",
    "\n",
    "# Set style\n",
    "sns.set(style=\"whitegrid\")\n",
    "n_cols = 2\n",
    "n_rows = (len(cat_features) + n_cols - 1) // n_cols\n",
    "fig, axes = plt.subplots(n_rows, n_cols, figsize=(14, n_rows * 4))\n",
    "\n",
    "# Flatten axes\n",
    "axes = axes.flatten()\n",
    "\n",
    "# Create plots\n",
    "for i, col in enumerate(cat_features):\n",
    "    sns.countplot(data=df, x=col, ax=axes[i], palette=\"Set2\")\n",
    "    axes[i].set_title(f'Count of {col}')\n",
    "    axes[i].set_ylabel(\"Count\")\n",
    "    axes[i].set_xlabel(col)\n",
    "    axes[i].tick_params(axis='x', rotation=45)\n",
    "\n",
    "# Hide any unused subplots\n",
    "for j in range(i + 1, len(axes)):\n",
    "    axes[j].axis('off')\n",
    "\n",
    "plt.tight_layout()\n",
    "plt.show()"
   ]
  },
  {
   "cell_type": "markdown",
   "id": "f5b70d51",
   "metadata": {},
   "source": [
    "***\n",
    "#### 🔗 Multivariate Analysis\n",
    "\n",
    "Multivariate analysis allows us to explore relationships between multiple numerical variables simultaneously.\n",
    "\n",
    "We use:\n",
    "- **Pair Plot**: A grid of scatter plots between every pair of numerical features with histograms on the diagonal.\n",
    "- **Parallel Coordinates Plot**: Each feature is shown as a vertical axis, and each record is a line crossing through all axes. This helps visualize patterns and clusters across high-dimensional space.\n",
    "\n",
    "📈 These plots help identify:\n",
    "- Correlations\n",
    "- Clusters\n",
    "- Outliers"
   ]
  },
  {
   "cell_type": "code",
   "execution_count": null,
   "id": "e9585c16",
   "metadata": {},
   "outputs": [],
   "source": [
    "import seaborn as sns\n",
    "import matplotlib.pyplot as plt\n",
    "from pandas.plotting import parallel_coordinates\n",
    "\n",
    "# Select numerical features\n",
    "num_cols = ['Voltage (V)', 'Current (A)', 'Power Load (MW)', \n",
    "            'Temperature (C)', 'Wind Speed (km/h)', \n",
    "            'Duration of Fault (hrs)', 'Down time (hrs)']\n",
    "\n",
    "# Pair Plot\n",
    "sns.pairplot(df[num_cols])\n",
    "plt.suptitle(\"Pair Plot of Numerical Features\", y=1.02)\n",
    "plt.show()\n",
    "\n",
    "# Parallel Coordinates (requires a categorical class column)\n",
    "# We'll use 'Fault Type' to color the lines\n",
    "# Limit to a few samples if the dataset is large\n",
    "sample_df = df[num_cols + ['Fault Type']].copy()\n",
    "if len(sample_df) > 200:\n",
    "    sample_df = sample_df.sample(200, random_state=42)\n",
    "\n",
    "plt.figure(figsize=(14, 6))\n",
    "parallel_coordinates(sample_df, class_column='Fault Type', colormap=plt.cm.Set1)\n",
    "plt.title(\"Parallel Coordinates Plot by Fault Type\")\n",
    "plt.xticks(rotation=45)\n",
    "plt.grid(True)\n",
    "plt.show()"
   ]
  },
  {
   "cell_type": "markdown",
   "id": "695e925a",
   "metadata": {},
   "source": [
    "#### 🔗 Correlation Analysis of Numerical Variables\n",
    "\n",
    "We examine the linear relationships between key numerical features using a **correlation heatmap**.\n",
    "\n",
    "The heatmap uses color gradients and annotation to indicate:\n",
    "- 🔴 Strong positive correlation (close to +1)\n",
    "- 🔵 Strong negative correlation (close to -1)\n",
    "- ⚪ No correlation (close to 0)\n",
    "\n",
    "### Features analyzed:\n",
    "- `Voltage (V)`\n",
    "- `Current (A)`\n",
    "- `Power Load (MW)`\n",
    "- `Temperature (°C)`\n",
    "- `Wind Speed (km/h)`\n",
    "- `Duration of Fault (hrs)`\n",
    "- `Down time (hrs)`"
   ]
  },
  {
   "cell_type": "code",
   "execution_count": null,
   "id": "bab1ed77",
   "metadata": {},
   "outputs": [],
   "source": [
    "import seaborn as sns\n",
    "import matplotlib.pyplot as plt\n",
    "\n",
    "# Select numerical columns\n",
    "num_cols = [\n",
    "    'Voltage (V)', \n",
    "    'Current (A)', \n",
    "    'Power Load (MW)', \n",
    "    'Temperature (C)', \n",
    "    'Wind Speed (km/h)', \n",
    "    'Duration of Fault (hrs)', \n",
    "    'Down time (hrs)'\n",
    "]\n",
    "\n",
    "# Compute correlation matrix\n",
    "corr_matrix = df[num_cols].corr()\n",
    "\n",
    "# Plot heatmap\n",
    "plt.figure(figsize=(10, 6))\n",
    "sns.heatmap(\n",
    "    corr_matrix, \n",
    "    annot=True, \n",
    "    fmt=\".2f\", \n",
    "    cmap=\"coolwarm\", \n",
    "    linewidths=0.5, \n",
    "    cbar_kws={'label': 'Correlation Coefficient'}\n",
    ")\n",
    "\n",
    "plt.title(\"Correlation Heatmap of Numerical Features\")\n",
    "plt.tight_layout()\n",
    "plt.show()"
   ]
  },
  {
   "cell_type": "markdown",
   "id": "c01c0bd0",
   "metadata": {},
   "source": [
    "#### 🧮 Categorical-Numerical Relationships\n",
    "\n",
    "We use **box plots** and **violin plots** to explore how numerical variables vary across categorical groups. This helps identify trends, variability, and potential outliers between categories.\n",
    "\n",
    "- **Box Plots** show the distribution of data based on quartiles and highlight outliers.\n",
    "- **Violin Plots** add the kernel density estimation, providing insight into the distribution shape.\n",
    "\n",
    "📊 Below we compare:\n",
    "- `Voltage (V)` across `Fault Type`\n",
    "- `Temperature (°C)` across `Weather Condition`"
   ]
  },
  {
   "cell_type": "code",
   "execution_count": null,
   "id": "90f3e442",
   "metadata": {},
   "outputs": [],
   "source": [
    "import matplotlib.pyplot as plt\n",
    "import seaborn as sns\n",
    "\n",
    "# Set visual style\n",
    "sns.set(style=\"whitegrid\")\n",
    "\n",
    "# Define plots\n",
    "fig, axes = plt.subplots(2, 2, figsize=(16, 10))\n",
    "\n",
    "# Box Plot: Voltage by Fault Type 🔌 \n",
    "sns.boxplot(x='Fault Type', y='Voltage (V)', data=df, ax=axes[0, 0])\n",
    "axes[0, 0].set_title('Voltage by Fault Type')\n",
    "axes[0, 0].tick_params(axis='x', rotation=45)\n",
    "\n",
    "# Violin Plot: Voltage by Fault Type 🎻 \n",
    "sns.violinplot(x='Fault Type', y='Voltage (V)', data=df, ax=axes[0, 1])\n",
    "axes[0, 1].set_title('Voltage Distribution by Fault Type')\n",
    "axes[0, 1].tick_params(axis='x', rotation=45)\n",
    "\n",
    "# Box Plot: Temperature by Weather Condition 🌡️ \n",
    "sns.boxplot(x='Weather Condition', y='Temperature (C)', data=df, ax=axes[1, 0])\n",
    "axes[1, 0].set_title('Temperature by Weather Condition')\n",
    "axes[1, 0].tick_params(axis='x', rotation=45)\n",
    "\n",
    "# Violin Plot: Temperature by Weather Condition 🎻 \n",
    "sns.violinplot(x='Weather Condition', y='Temperature (C)', data=df, ax=axes[1, 1])\n",
    "axes[1, 1].set_title('Temperature Distribution by Weather Condition')\n",
    "axes[1, 1].tick_params(axis='x', rotation=45)\n",
    "\n",
    "plt.tight_layout()\n",
    "plt.show()"
   ]
  },
  {
   "cell_type": "markdown",
   "id": "8c124920",
   "metadata": {},
   "source": [
    "#### 🧱 Categorical-Categorical Relationships\n",
    "\n",
    "We analyze how two categorical variables interact using:\n",
    "\n",
    "- **Stacked Bar Plot**: Visualizes how subcategories (e.g., Weather Conditions) distribute within a primary category (e.g., Fault Type).\n",
    "- **Heatmap**: Displays frequency of combinations between categories as a matrix, highlighting co-occurrence patterns.\n",
    "\n",
    "🔍 Useful for identifying:\n",
    "- Conditional distributions\n",
    "- High/low frequency category intersections"
   ]
  },
  {
   "cell_type": "code",
   "execution_count": null,
   "id": "11e46d85",
   "metadata": {},
   "outputs": [],
   "source": [
    "import pandas as pd\n",
    "import matplotlib.pyplot as plt\n",
    "import seaborn as sns\n",
    "\n",
    "# Stacked Bar Plot: Fault Type vs Weather Condition\n",
    "cross_tab = pd.crosstab(df['Fault Type'], df['Weather Condition'])\n",
    "\n",
    "cross_tab.plot(kind='bar', stacked=True, figsize=(10, 6), colormap='tab20')\n",
    "plt.title(\"Stacked Bar Plot: Fault Type vs Weather Condition\")\n",
    "plt.ylabel(\"Count\")\n",
    "plt.xticks(rotation=45)\n",
    "plt.legend(title=\"Weather Condition\", bbox_to_anchor=(1.05, 1), loc='upper left')\n",
    "plt.tight_layout()\n",
    "plt.show()\n",
    "\n",
    "# Heatmap: Fault Type vs Maintenance Status\n",
    "heat_data = pd.crosstab(df['Fault Type'], df['Maintenance Status'])\n",
    "\n",
    "plt.figure(figsize=(8, 6))\n",
    "sns.heatmap(heat_data, annot=True, fmt='d', cmap='YlGnBu')\n",
    "plt.title(\"Heatmap: Fault Type vs Maintenance Status\")\n",
    "plt.ylabel(\"Fault Type\")\n",
    "plt.xlabel(\"Maintenance Status\")\n",
    "plt.tight_layout()\n",
    "plt.show()\n"
   ]
  },
  {
   "cell_type": "markdown",
   "id": "77a336d3",
   "metadata": {},
   "source": [
    "#### ⚙️ Component Health vs Maintenance Status\n",
    "\n",
    "We explore the interaction between **Component Health** and **Maintenance Status** using:\n",
    "\n",
    "- **Mosaic Plot**: Displays relative proportions of category combinations. Box sizes represent frequencies.\n",
    "- **Grouped Bar Plot**: Compares raw counts across combinations of the two categorical variables.\n",
    "\n",
    "🔍 This helps us understand if certain component health conditions are associated with specific maintenance actions.\n"
   ]
  },
  {
   "cell_type": "code",
   "execution_count": null,
   "id": "f17f0e9d",
   "metadata": {},
   "outputs": [],
   "source": [
    "import matplotlib.pyplot as plt\n",
    "import seaborn as sns\n",
    "from statsmodels.graphics.mosaicplot import mosaic\n",
    "import pandas as pd\n",
    "\n",
    "# Grouped Bar Plot\n",
    "grouped_counts = pd.crosstab(df['Component Health'], df['Maintenance Status'])\n",
    "\n",
    "grouped_counts.plot(kind='bar', figsize=(10, 6), colormap='Set2')\n",
    "plt.title(\"Grouped Bar Plot: Component Health vs Maintenance Status\")\n",
    "plt.ylabel(\"Count\")\n",
    "plt.xticks(rotation=45)\n",
    "plt.legend(title=\"Maintenance Status\", bbox_to_anchor=(1.05, 1), loc='upper left')\n",
    "plt.tight_layout()\n",
    "plt.show()\n",
    "\n",
    "# Mosaic Plot\n",
    "plt.figure(figsize=(10, 6))\n",
    "mosaic(df, ['Component Health', 'Maintenance Status'], title='Mosaic Plot: Component Health vs Maintenance Status')\n",
    "plt.show()\n"
   ]
  }
 ],
 "metadata": {
  "kernelspec": {
   "display_name": "base",
   "language": "python",
   "name": "python3"
  },
  "language_info": {
   "codemirror_mode": {
    "name": "ipython",
    "version": 3
   },
   "file_extension": ".py",
   "mimetype": "text/x-python",
   "name": "python",
   "nbconvert_exporter": "python",
   "pygments_lexer": "ipython3",
   "version": "3.12.7"
  }
 },
 "nbformat": 4,
 "nbformat_minor": 5
}
