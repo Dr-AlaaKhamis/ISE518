{
  "cells": [
    {
      "cell_type": "markdown",
      "metadata": {},
      "source": [
        "## 5. Measures of Dispersion"
      ]
    },
    {
      "cell_type": "markdown",
      "metadata": {},
      "source": [
        "### Import libraries"
      ]
    },
    {
      "cell_type": "code",
      "execution_count": 1,
      "id": "e1cbff61",
      "metadata": {},
      "outputs": [],
      "source": [
        "import pandas as pd\n",
        "import matplotlib.pyplot as plt"
      ]
    },
    {
      "cell_type": "markdown",
      "id": "c4151592",
      "metadata": {},
      "source": [
        "### Load dataset from a local folder into a DataFrame"
      ]
    },
    {
      "cell_type": "code",
      "execution_count": 2,
      "id": "e8f02bba",
      "metadata": {},
      "outputs": [],
      "source": [
        "# df = pd.read_csv('data/bottling_maintenance_events.csv')\n",
        "# df.head()"
      ]
    },
    {
      "cell_type": "markdown",
      "id": "fc14c052",
      "metadata": {},
      "source": [
        "### Load dataset from url into a DataFrame"
      ]
    },
    {
      "cell_type": "code",
      "execution_count": 3,
      "id": "ebab578e",
      "metadata": {},
      "outputs": [
        {
          "data": {
            "text/html": [
              "<div>\n",
              "<style scoped>\n",
              "    .dataframe tbody tr th:only-of-type {\n",
              "        vertical-align: middle;\n",
              "    }\n",
              "\n",
              "    .dataframe tbody tr th {\n",
              "        vertical-align: top;\n",
              "    }\n",
              "\n",
              "    .dataframe thead th {\n",
              "        text-align: right;\n",
              "    }\n",
              "</style>\n",
              "<table border=\"1\" class=\"dataframe\">\n",
              "  <thead>\n",
              "    <tr style=\"text-align: right;\">\n",
              "      <th></th>\n",
              "      <th>event_date</th>\n",
              "      <th>line</th>\n",
              "      <th>asset_id</th>\n",
              "      <th>failure_mode</th>\n",
              "      <th>time_to_failure_days</th>\n",
              "      <th>repair_time_hours</th>\n",
              "      <th>downtime_hours</th>\n",
              "    </tr>\n",
              "  </thead>\n",
              "  <tbody>\n",
              "    <tr>\n",
              "      <th>0</th>\n",
              "      <td>2024-01-02</td>\n",
              "      <td>C</td>\n",
              "      <td>C-M2</td>\n",
              "      <td>Electrical</td>\n",
              "      <td>129.9</td>\n",
              "      <td>3.48</td>\n",
              "      <td>4.94</td>\n",
              "    </tr>\n",
              "    <tr>\n",
              "      <th>1</th>\n",
              "      <td>2024-01-02</td>\n",
              "      <td>A</td>\n",
              "      <td>A-M10</td>\n",
              "      <td>Mechanical</td>\n",
              "      <td>19.2</td>\n",
              "      <td>3.93</td>\n",
              "      <td>6.56</td>\n",
              "    </tr>\n",
              "    <tr>\n",
              "      <th>2</th>\n",
              "      <td>2024-01-02</td>\n",
              "      <td>C</td>\n",
              "      <td>C-M2</td>\n",
              "      <td>Mechanical</td>\n",
              "      <td>22.4</td>\n",
              "      <td>2.22</td>\n",
              "      <td>3.77</td>\n",
              "    </tr>\n",
              "    <tr>\n",
              "      <th>3</th>\n",
              "      <td>2024-01-03</td>\n",
              "      <td>B</td>\n",
              "      <td>B-M5</td>\n",
              "      <td>Mechanical</td>\n",
              "      <td>95.9</td>\n",
              "      <td>6.46</td>\n",
              "      <td>10.79</td>\n",
              "    </tr>\n",
              "    <tr>\n",
              "      <th>4</th>\n",
              "      <td>2024-01-09</td>\n",
              "      <td>C</td>\n",
              "      <td>C-M1</td>\n",
              "      <td>Mechanical</td>\n",
              "      <td>64.2</td>\n",
              "      <td>4.83</td>\n",
              "      <td>5.71</td>\n",
              "    </tr>\n",
              "  </tbody>\n",
              "</table>\n",
              "</div>"
            ],
            "text/plain": [
              "   event_date line asset_id failure_mode  time_to_failure_days  \\\n",
              "0  2024-01-02    C     C-M2   Electrical                 129.9   \n",
              "1  2024-01-02    A    A-M10   Mechanical                  19.2   \n",
              "2  2024-01-02    C     C-M2   Mechanical                  22.4   \n",
              "3  2024-01-03    B     B-M5   Mechanical                  95.9   \n",
              "4  2024-01-09    C     C-M1   Mechanical                  64.2   \n",
              "\n",
              "   repair_time_hours  downtime_hours  \n",
              "0               3.48            4.94  \n",
              "1               3.93            6.56  \n",
              "2               2.22            3.77  \n",
              "3               6.46           10.79  \n",
              "4               4.83            5.71  "
            ]
          },
          "execution_count": 3,
          "metadata": {},
          "output_type": "execute_result"
        }
      ],
      "source": [
        "import pandas as pd\n",
        "\n",
        "# Use the raw GitHub URL instead of a local path\n",
        "url = \"https://raw.githubusercontent.com/Dr-AlaaKhamis/ISE518/main/2_Statistics/data/bottling_maintenance_events.csv\"\n",
        "\n",
        "df = pd.read_csv(url)\n",
        "df.head()"
      ]
    },
    {
      "cell_type": "markdown",
      "metadata": {},
      "source": [
        "### Quantify spread with Range, Interquartile Range (IQR), Variance, and Standard Deviation\n",
        "\n",
        "These are **measures of dispersion** that describe how spread out the values in a dataset are.\n",
        "\n",
        "- **Range:** The difference between the maximum and minimum values in the dataset.  \n",
        "  $  \\text{Range} = x_\\text{max} - x_\\text{min}$  \n",
        "  **Example:** For [10, 15, 20, 25, 30], Range = 30 - 10 = 20 days.\n",
        "\n",
        "- **Interquartile Range (IQR):** The difference between the 75th percentile (Q3) and the 25th percentile (Q1).  \n",
        "  $  \\text{IQR} = Q_3 - Q_1$  \n",
        "  **Example:** For [10, 15, 20, 25, 30], Q1 = 15, Q3 = 25, IQR = 25 - 15 = 10 days.\n",
        "\n",
        "- **Variance:** The average of the squared differences between each value and the mean.  \n",
        "  $  \\text{Variance } (\\sigma^2) = \\frac{\\sum_{i=1}^{n} (x_i - \\bar{x})^2}{n}$  \n",
        "  **Example:** For [10, 15, 20, 25, 30], Variance = 50 days².\n",
        "\n",
        "- **Standard Deviation:** The square root of the variance, giving the spread in the same units as the data.  \n",
        "  $  \\text{SD } (\\sigma) = \\sqrt{\\text{Variance}} = \\sqrt{\\frac{\\sum_{i=1}^{n} (x_i - \\bar{x})^2}{n}}$  \n",
        "  **Example:** For [10, 15, 20, 25, 30], SD = √50 ≈ 7.07 days."
      ]
    },
    {
      "cell_type": "code",
      "execution_count": 4,
      "metadata": {},
      "outputs": [
        {
          "name": "stdout",
          "output_type": "stream",
          "text": [
            "Range: 398.8 (min 3.6, max 402.4)\n",
            "IQR: 52.5 (Q1 32.2, Q3 84.8)\n",
            "Variance: 2554.58\n",
            "Std Dev: 50.54\n"
          ]
        }
      ],
      "source": [
        "rng_min = df['time_to_failure_days'].min()\n",
        "rng_max = df['time_to_failure_days'].max()\n",
        "rng_val = rng_max - rng_min\n",
        "q1 = df['time_to_failure_days'].quantile(0.25)\n",
        "q3 = df['time_to_failure_days'].quantile(0.75)\n",
        "iqr = q3 - q1\n",
        "var = df['time_to_failure_days'].var(ddof=1)\n",
        "std = df['time_to_failure_days'].std(ddof=1)\n",
        "print(f\"Range: {rng_val:.1f} (min {rng_min:.1f}, max {rng_max:.1f})\")\n",
        "print(f\"IQR: {iqr:.1f} (Q1 {q1:.1f}, Q3 {q3:.1f})\")\n",
        "print(f\"Variance: {var:.2f}\")\n",
        "print(f\"Std Dev: {std:.2f}\")"
      ]
    },
    {
      "cell_type": "markdown",
      "metadata": {},
      "source": [
        "#### Box plots\n",
        "\n",
        "Box plots are excellent for comparing distributions across groups. Look for differences in medians, IQRs, and outliers."
      ]
    },
    {
      "cell_type": "code",
      "execution_count": 5,
      "metadata": {},
      "outputs": [
        {
          "data": {
            "image/png": "[encoded data removed]",
            "text/plain": [
              "<Figure size 600x400 with 1 Axes>"
            ]
          },
          "metadata": {},
          "output_type": "display_data"
        }
      ],
      "source": [
        "plt.figure(figsize=(6,4))\n",
        "boxes = [df.loc[df['line']==ln, 'time_to_failure_days'] for ln in ['A','B','C']]\n",
        "plt.boxplot(boxes, tick_labels=['A','B','C'])\n",
        "plt.title('Time to Failure by Line')\n",
        "plt.xlabel('Line')\n",
        "plt.ylabel('Days')\n",
        "plt.tight_layout()\n",
        "plt.show()"
      ]
    },
    {
      "cell_type": "markdown",
      "id": "78361073",
      "metadata": {},
      "source": [
        "### Build side-by-side box plots for repair_time_hours by failure_mode"
      ]
    },
    {
      "cell_type": "code",
      "execution_count": 6,
      "id": "9f708be5",
      "metadata": {},
      "outputs": [
        {
          "data": {
            "text/plain": [
              "<Figure size 600x400 with 0 Axes>"
            ]
          },
          "metadata": {},
          "output_type": "display_data"
        },
        {
          "data": {
            "image/png": "[encoded data removed]",
            "text/plain": [
              "<Figure size 640x480 with 1 Axes>"
            ]
          },
          "metadata": {},
          "output_type": "display_data"
        }
      ],
      "source": [
        "plt.figure(figsize=(6,4))\n",
        "df.boxplot(column='repair_time_hours', by='failure_mode')\n",
        "plt.title('Repair Time by Failure Mode')\n",
        "plt.suptitle('')  # remove automatic title\n",
        "plt.xlabel('Failure Mode')\n",
        "plt.ylabel('Repair Time (hours)')\n",
        "plt.tight_layout()\n",
        "plt.show()"
      ]
    },
    {
      "cell_type": "markdown",
      "id": "31b9f11e",
      "metadata": {},
      "source": [
        "### Identify which failure mode has the widest spread (IQR)"
      ]
    },
    {
      "cell_type": "code",
      "execution_count": 7,
      "id": "5ce0c229",
      "metadata": {},
      "outputs": [
        {
          "name": "stdout",
          "output_type": "stream",
          "text": [
            "Interquartile Range (IQR) of repair times by failure mode:\n",
            "               IQR\n",
            "failure_mode      \n",
            "Electrical    2.59\n",
            "Mechanical    2.42\n",
            "Misalignment  1.97\n"
          ]
        }
      ],
      "source": [
        "spread_summary = df.groupby('failure_mode')['repair_time_hours'].describe()[['25%', '75%']]\n",
        "spread_summary['IQR'] = spread_summary['75%'] - spread_summary['25%']\n",
        "print(\"Interquartile Range (IQR) of repair times by failure mode:\")\n",
        "print(spread_summary[['IQR']].sort_values('IQR', ascending=False))"
      ]
    }
  ],
  "metadata": {
    "kernelspec": {
      "display_name": "base",
      "language": "python",
      "name": "python3"
    },
    "language_info": {
      "codemirror_mode": {
        "name": "ipython",
        "version": 3
      },
      "file_extension": ".py",
      "mimetype": "text/x-python",
      "name": "python",
      "nbconvert_exporter": "python",
      "pygments_lexer": "ipython3",
      "version": "3.12.7"
    }
  },
  "nbformat": 4,
  "nbformat_minor": 5
}
