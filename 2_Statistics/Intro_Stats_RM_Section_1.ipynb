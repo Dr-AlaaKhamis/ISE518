{
  "cells": [
    {
      "cell_type": "markdown",
      "metadata": {},
      "source": [
        "## 1. Working with Data in Python"
      ]
    },
    {
      "cell_type": "markdown",
      "metadata": {},
      "source": [
        "Bottling plant with three production lines (A, B, C). We analyze maintenance logs for conveyor motors over one year.\n",
        "\n",
        "\n",
        "<img src=\"Bottling.png\" alt=\"Bottling plant\" width=\"500\">\n",
        "\n",
        "**Fields**\n",
        "- `event_date`: date of failure\n",
        "- `line`: production line (A, B, C)\n",
        "- `asset_id`: conveyor motor id\n",
        "- `failure_mode`: Mechanical, Electrical, Misalignment\n",
        "- `time_to_failure_days`: days since last failure (proxy for MTBF)\n",
        "- `repair_time_hours`: hours to repair (MTTR component)\n",
        "- `downtime_hours`: total downtime per event\n"
      ]
    },
    {
      "cell_type": "markdown",
      "id": "a5d3abc3",
      "metadata": {},
      "source": [
        "### Import libraries"
      ]
    },
    {
      "cell_type": "code",
      "execution_count": 1,
      "id": "5200b11d",
      "metadata": {},
      "outputs": [],
      "source": [
        "import numpy as np\n",
        "import pandas as pd\n",
        "import matplotlib.pyplot as plt\n",
        "from scipy import stats"
      ]
    },
    {
      "cell_type": "markdown",
      "id": "631a4be3",
      "metadata": {},
      "source": [
        "### Generate data\n",
        "\n",
        "> ℹ️ The cell below creates a small synthetic dataset that mimics common reliability patterns (right‑skewed time to failure, varying lines, and multiple failure modes)."
      ]
    },
    {
      "cell_type": "code",
      "execution_count": 2,
      "metadata": {},
      "outputs": [
        {
          "data": {
            "text/html": [
              "<div>\n",
              "<style scoped>\n",
              "    .dataframe tbody tr th:only-of-type {\n",
              "        vertical-align: middle;\n",
              "    }\n",
              "\n",
              "    .dataframe tbody tr th {\n",
              "        vertical-align: top;\n",
              "    }\n",
              "\n",
              "    .dataframe thead th {\n",
              "        text-align: right;\n",
              "    }\n",
              "</style>\n",
              "<table border=\"1\" class=\"dataframe\">\n",
              "  <thead>\n",
              "    <tr style=\"text-align: right;\">\n",
              "      <th></th>\n",
              "      <th>event_date</th>\n",
              "      <th>line</th>\n",
              "      <th>asset_id</th>\n",
              "      <th>failure_mode</th>\n",
              "      <th>time_to_failure_days</th>\n",
              "      <th>repair_time_hours</th>\n",
              "      <th>downtime_hours</th>\n",
              "    </tr>\n",
              "  </thead>\n",
              "  <tbody>\n",
              "    <tr>\n",
              "      <th>0</th>\n",
              "      <td>2024-01-02</td>\n",
              "      <td>C</td>\n",
              "      <td>C-M2</td>\n",
              "      <td>Electrical</td>\n",
              "      <td>129.9</td>\n",
              "      <td>3.48</td>\n",
              "      <td>4.94</td>\n",
              "    </tr>\n",
              "    <tr>\n",
              "      <th>1</th>\n",
              "      <td>2024-01-02</td>\n",
              "      <td>A</td>\n",
              "      <td>A-M10</td>\n",
              "      <td>Mechanical</td>\n",
              "      <td>19.2</td>\n",
              "      <td>3.93</td>\n",
              "      <td>6.56</td>\n",
              "    </tr>\n",
              "    <tr>\n",
              "      <th>2</th>\n",
              "      <td>2024-01-02</td>\n",
              "      <td>C</td>\n",
              "      <td>C-M2</td>\n",
              "      <td>Mechanical</td>\n",
              "      <td>22.4</td>\n",
              "      <td>2.22</td>\n",
              "      <td>3.77</td>\n",
              "    </tr>\n",
              "    <tr>\n",
              "      <th>3</th>\n",
              "      <td>2024-01-03</td>\n",
              "      <td>B</td>\n",
              "      <td>B-M5</td>\n",
              "      <td>Mechanical</td>\n",
              "      <td>95.9</td>\n",
              "      <td>6.46</td>\n",
              "      <td>10.79</td>\n",
              "    </tr>\n",
              "    <tr>\n",
              "      <th>4</th>\n",
              "      <td>2024-01-09</td>\n",
              "      <td>C</td>\n",
              "      <td>C-M1</td>\n",
              "      <td>Mechanical</td>\n",
              "      <td>64.2</td>\n",
              "      <td>4.83</td>\n",
              "      <td>5.71</td>\n",
              "    </tr>\n",
              "  </tbody>\n",
              "</table>\n",
              "</div>"
            ],
            "text/plain": [
              "  event_date line asset_id failure_mode  time_to_failure_days  \\\n",
              "0 2024-01-02    C     C-M2   Electrical                 129.9   \n",
              "1 2024-01-02    A    A-M10   Mechanical                  19.2   \n",
              "2 2024-01-02    C     C-M2   Mechanical                  22.4   \n",
              "3 2024-01-03    B     B-M5   Mechanical                  95.9   \n",
              "4 2024-01-09    C     C-M1   Mechanical                  64.2   \n",
              "\n",
              "   repair_time_hours  downtime_hours  \n",
              "0               3.48            4.94  \n",
              "1               3.93            6.56  \n",
              "2               2.22            3.77  \n",
              "3               6.46           10.79  \n",
              "4               4.83            5.71  "
            ]
          },
          "execution_count": 2,
          "metadata": {},
          "output_type": "execute_result"
        }
      ],
      "source": [
        "# Reproducibility\n",
        "rng = np.random.default_rng(42)\n",
        "\n",
        "# Generate synthetic dataset\n",
        "n_events = 240\n",
        "lines = rng.choice(list('ABC'), size=n_events, p=[0.4,0.35,0.25])\n",
        "asset_ids = [f\"{ln}-M{rng.integers(1,11)}\" for ln in lines]\n",
        "failure_modes = rng.choice([\"Mechanical\",\"Electrical\",\"Misalignment\"], size=n_events, p=[0.5,0.3,0.2])\n",
        "\n",
        "# Right‑skewed time to failure (gamma), different scales per line\n",
        "scale_map = {'A': 40, 'B': 35, 'C': 30}\n",
        "time_to_failure_days = np.array([rng.gamma(shape=2.0, scale=scale_map[ln]) for ln in lines])\n",
        "\n",
        "# Repair and downtime\n",
        "repair_time_hours = rng.normal(loc=6, scale=1.8, size=n_events).clip(1, 24)\n",
        "downtime_hours = (repair_time_hours * rng.uniform(1.0, 1.8, size=n_events)).round(2)\n",
        "\n",
        "# Event dates within a year\n",
        "start = np.datetime64('2024-01-01')\n",
        "dates = start + rng.integers(0, 365, size=n_events).astype('timedelta64[D]')\n",
        "\n",
        "df = pd.DataFrame({\n",
        "    \"event_date\": dates,\n",
        "    \"line\": lines,\n",
        "    \"asset_id\": asset_ids,\n",
        "    \"failure_mode\": failure_modes,\n",
        "    \"time_to_failure_days\": time_to_failure_days.round(1),\n",
        "    \"repair_time_hours\": repair_time_hours.round(2),\n",
        "    \"downtime_hours\": downtime_hours\n",
        "}).sort_values(\"event_date\").reset_index(drop=True)\n",
        "\n",
        "# Redner first 5 rows of the generated data\n",
        "df.head(5)"
      ]
    },
    {
      "cell_type": "markdown",
      "id": "e9b46ac4",
      "metadata": {},
      "source": [
        "### Inspect structure"
      ]
    },
    {
      "cell_type": "code",
      "execution_count": 3,
      "metadata": {},
      "outputs": [
        {
          "name": "stdout",
          "output_type": "stream",
          "text": [
            "(240, 7)\n"
          ]
        },
        {
          "data": {
            "text/plain": [
              "event_date              datetime64[s]\n",
              "line                           object\n",
              "asset_id                       object\n",
              "failure_mode                   object\n",
              "time_to_failure_days          float64\n",
              "repair_time_hours             float64\n",
              "downtime_hours                float64\n",
              "dtype: object"
            ]
          },
          "execution_count": 3,
          "metadata": {},
          "output_type": "execute_result"
        }
      ],
      "source": [
        "print(df.shape)\n",
        "df.dtypes"
      ]
    },
    {
      "cell_type": "markdown",
      "metadata": {},
      "source": [
        "### Sampling rows\n",
        "\n",
        "Random samples help us sanity‑check values without printing the whole table."
      ]
    },
    {
      "cell_type": "code",
      "execution_count": 4,
      "metadata": {},
      "outputs": [
        {
          "data": {
            "text/html": [
              "<div>\n",
              "<style scoped>\n",
              "    .dataframe tbody tr th:only-of-type {\n",
              "        vertical-align: middle;\n",
              "    }\n",
              "\n",
              "    .dataframe tbody tr th {\n",
              "        vertical-align: top;\n",
              "    }\n",
              "\n",
              "    .dataframe thead th {\n",
              "        text-align: right;\n",
              "    }\n",
              "</style>\n",
              "<table border=\"1\" class=\"dataframe\">\n",
              "  <thead>\n",
              "    <tr style=\"text-align: right;\">\n",
              "      <th></th>\n",
              "      <th>event_date</th>\n",
              "      <th>line</th>\n",
              "      <th>asset_id</th>\n",
              "      <th>failure_mode</th>\n",
              "      <th>time_to_failure_days</th>\n",
              "      <th>repair_time_hours</th>\n",
              "      <th>downtime_hours</th>\n",
              "    </tr>\n",
              "  </thead>\n",
              "  <tbody>\n",
              "    <tr>\n",
              "      <th>228</th>\n",
              "      <td>2024-12-19</td>\n",
              "      <td>A</td>\n",
              "      <td>A-M3</td>\n",
              "      <td>Mechanical</td>\n",
              "      <td>157.7</td>\n",
              "      <td>6.66</td>\n",
              "      <td>8.99</td>\n",
              "    </tr>\n",
              "    <tr>\n",
              "      <th>194</th>\n",
              "      <td>2024-10-23</td>\n",
              "      <td>A</td>\n",
              "      <td>A-M3</td>\n",
              "      <td>Misalignment</td>\n",
              "      <td>8.3</td>\n",
              "      <td>6.32</td>\n",
              "      <td>8.37</td>\n",
              "    </tr>\n",
              "    <tr>\n",
              "      <th>88</th>\n",
              "      <td>2024-05-08</td>\n",
              "      <td>C</td>\n",
              "      <td>C-M8</td>\n",
              "      <td>Mechanical</td>\n",
              "      <td>56.0</td>\n",
              "      <td>2.25</td>\n",
              "      <td>3.85</td>\n",
              "    </tr>\n",
              "    <tr>\n",
              "      <th>95</th>\n",
              "      <td>2024-05-24</td>\n",
              "      <td>B</td>\n",
              "      <td>B-M8</td>\n",
              "      <td>Electrical</td>\n",
              "      <td>41.5</td>\n",
              "      <td>6.04</td>\n",
              "      <td>7.18</td>\n",
              "    </tr>\n",
              "    <tr>\n",
              "      <th>214</th>\n",
              "      <td>2024-11-29</td>\n",
              "      <td>C</td>\n",
              "      <td>C-M8</td>\n",
              "      <td>Mechanical</td>\n",
              "      <td>82.3</td>\n",
              "      <td>6.89</td>\n",
              "      <td>10.48</td>\n",
              "    </tr>\n",
              "  </tbody>\n",
              "</table>\n",
              "</div>"
            ],
            "text/plain": [
              "    event_date line asset_id  failure_mode  time_to_failure_days  \\\n",
              "228 2024-12-19    A     A-M3    Mechanical                 157.7   \n",
              "194 2024-10-23    A     A-M3  Misalignment                   8.3   \n",
              "88  2024-05-08    C     C-M8    Mechanical                  56.0   \n",
              "95  2024-05-24    B     B-M8    Electrical                  41.5   \n",
              "214 2024-11-29    C     C-M8    Mechanical                  82.3   \n",
              "\n",
              "     repair_time_hours  downtime_hours  \n",
              "228               6.66            8.99  \n",
              "194               6.32            8.37  \n",
              "88                2.25            3.85  \n",
              "95                6.04            7.18  \n",
              "214               6.89           10.48  "
            ]
          },
          "execution_count": 4,
          "metadata": {},
          "output_type": "execute_result"
        }
      ],
      "source": [
        "df.sample(5, random_state=1)"
      ]
    },
    {
      "cell_type": "markdown",
      "metadata": {},
      "source": [
        "### Save data"
      ]
    },
    {
      "cell_type": "code",
      "execution_count": 5,
      "id": "27ee4f28",
      "metadata": {},
      "outputs": [
        {
          "name": "stdout",
          "output_type": "stream",
          "text": [
            "Data saved to data/bottling_maintenance_events.csv\n"
          ]
        }
      ],
      "source": [
        "import os\n",
        "\n",
        "# Ensure data folder exists\n",
        "os.makedirs('data', exist_ok=True)\n",
        "\n",
        "# Save dataset\n",
        "csv_path = 'data/bottling_maintenance_events.csv'\n",
        "df.to_csv(csv_path, index=False)\n",
        "print('Data saved to', csv_path)"
      ]
    },
    {
      "cell_type": "markdown",
      "id": "d895b500",
      "metadata": {},
      "source": [
        "### Load dataset back into a new DataFrame"
      ]
    },
    {
      "cell_type": "code",
      "execution_count": 6,
      "id": "acc8e30a",
      "metadata": {},
      "outputs": [
        {
          "data": {
            "text/html": [
              "<div>\n",
              "<style scoped>\n",
              "    .dataframe tbody tr th:only-of-type {\n",
              "        vertical-align: middle;\n",
              "    }\n",
              "\n",
              "    .dataframe tbody tr th {\n",
              "        vertical-align: top;\n",
              "    }\n",
              "\n",
              "    .dataframe thead th {\n",
              "        text-align: right;\n",
              "    }\n",
              "</style>\n",
              "<table border=\"1\" class=\"dataframe\">\n",
              "  <thead>\n",
              "    <tr style=\"text-align: right;\">\n",
              "      <th></th>\n",
              "      <th>event_date</th>\n",
              "      <th>line</th>\n",
              "      <th>asset_id</th>\n",
              "      <th>failure_mode</th>\n",
              "      <th>time_to_failure_days</th>\n",
              "      <th>repair_time_hours</th>\n",
              "      <th>downtime_hours</th>\n",
              "    </tr>\n",
              "  </thead>\n",
              "  <tbody>\n",
              "    <tr>\n",
              "      <th>0</th>\n",
              "      <td>2024-01-02</td>\n",
              "      <td>C</td>\n",
              "      <td>C-M2</td>\n",
              "      <td>Electrical</td>\n",
              "      <td>129.9</td>\n",
              "      <td>3.48</td>\n",
              "      <td>4.94</td>\n",
              "    </tr>\n",
              "    <tr>\n",
              "      <th>1</th>\n",
              "      <td>2024-01-02</td>\n",
              "      <td>A</td>\n",
              "      <td>A-M10</td>\n",
              "      <td>Mechanical</td>\n",
              "      <td>19.2</td>\n",
              "      <td>3.93</td>\n",
              "      <td>6.56</td>\n",
              "    </tr>\n",
              "    <tr>\n",
              "      <th>2</th>\n",
              "      <td>2024-01-02</td>\n",
              "      <td>C</td>\n",
              "      <td>C-M2</td>\n",
              "      <td>Mechanical</td>\n",
              "      <td>22.4</td>\n",
              "      <td>2.22</td>\n",
              "      <td>3.77</td>\n",
              "    </tr>\n",
              "    <tr>\n",
              "      <th>3</th>\n",
              "      <td>2024-01-03</td>\n",
              "      <td>B</td>\n",
              "      <td>B-M5</td>\n",
              "      <td>Mechanical</td>\n",
              "      <td>95.9</td>\n",
              "      <td>6.46</td>\n",
              "      <td>10.79</td>\n",
              "    </tr>\n",
              "    <tr>\n",
              "      <th>4</th>\n",
              "      <td>2024-01-09</td>\n",
              "      <td>C</td>\n",
              "      <td>C-M1</td>\n",
              "      <td>Mechanical</td>\n",
              "      <td>64.2</td>\n",
              "      <td>4.83</td>\n",
              "      <td>5.71</td>\n",
              "    </tr>\n",
              "  </tbody>\n",
              "</table>\n",
              "</div>"
            ],
            "text/plain": [
              "   event_date line asset_id failure_mode  time_to_failure_days  \\\n",
              "0  2024-01-02    C     C-M2   Electrical                 129.9   \n",
              "1  2024-01-02    A    A-M10   Mechanical                  19.2   \n",
              "2  2024-01-02    C     C-M2   Mechanical                  22.4   \n",
              "3  2024-01-03    B     B-M5   Mechanical                  95.9   \n",
              "4  2024-01-09    C     C-M1   Mechanical                  64.2   \n",
              "\n",
              "   repair_time_hours  downtime_hours  \n",
              "0               3.48            4.94  \n",
              "1               3.93            6.56  \n",
              "2               2.22            3.77  \n",
              "3               6.46           10.79  \n",
              "4               4.83            5.71  "
            ]
          },
          "execution_count": 6,
          "metadata": {},
          "output_type": "execute_result"
        }
      ],
      "source": [
        "df_loaded = pd.read_csv(csv_path)\n",
        "df_loaded.head()"
      ]
    }
  ],
  "metadata": {
    "kernelspec": {
      "display_name": "base",
      "language": "python",
      "name": "python3"
    },
    "language_info": {
      "codemirror_mode": {
        "name": "ipython",
        "version": 3
      },
      "file_extension": ".py",
      "mimetype": "text/x-python",
      "name": "python",
      "nbconvert_exporter": "python",
      "pygments_lexer": "ipython3",
      "version": "3.12.7"
    }
  },
  "nbformat": 4,
  "nbformat_minor": 5
}
