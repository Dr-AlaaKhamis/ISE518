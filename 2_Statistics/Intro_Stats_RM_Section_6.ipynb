{
  "cells": [
    {
      "cell_type": "markdown",
      "metadata": {},
      "source": [
        "## 6. Comparing Groups and Hypothesis Testing"
      ]
    },
    {
      "cell_type": "markdown",
      "metadata": {},
      "source": [
        "### Import libraries"
      ]
    },
    {
      "cell_type": "code",
      "execution_count": 1,
      "id": "ae331b88",
      "metadata": {},
      "outputs": [],
      "source": [
        "import pandas as pd\n",
        "import matplotlib.pyplot as plt\n",
        "from scipy import stats"
      ]
    },
    {
      "cell_type": "markdown",
      "id": "69b8ca53",
      "metadata": {},
      "source": [
        "### Load dataset from a local folder into a DataFrame"
      ]
    },
    {
      "cell_type": "code",
      "execution_count": 2,
      "id": "6418cc7f",
      "metadata": {},
      "outputs": [],
      "source": [
        "# df = pd.read_csv('data/bottling_maintenance_events.csv')\n",
        "# df.head()"
      ]
    },
    {
      "cell_type": "markdown",
      "id": "9f4a6629",
      "metadata": {},
      "source": [
        "### Load dataset from url into a DataFrame"
      ]
    },
    {
      "cell_type": "code",
      "execution_count": 3,
      "id": "29fbc330",
      "metadata": {},
      "outputs": [
        {
          "data": {
            "text/html": [
              "<div>\n",
              "<style scoped>\n",
              "    .dataframe tbody tr th:only-of-type {\n",
              "        vertical-align: middle;\n",
              "    }\n",
              "\n",
              "    .dataframe tbody tr th {\n",
              "        vertical-align: top;\n",
              "    }\n",
              "\n",
              "    .dataframe thead th {\n",
              "        text-align: right;\n",
              "    }\n",
              "</style>\n",
              "<table border=\"1\" class=\"dataframe\">\n",
              "  <thead>\n",
              "    <tr style=\"text-align: right;\">\n",
              "      <th></th>\n",
              "      <th>event_date</th>\n",
              "      <th>line</th>\n",
              "      <th>asset_id</th>\n",
              "      <th>failure_mode</th>\n",
              "      <th>time_to_failure_days</th>\n",
              "      <th>repair_time_hours</th>\n",
              "      <th>downtime_hours</th>\n",
              "    </tr>\n",
              "  </thead>\n",
              "  <tbody>\n",
              "    <tr>\n",
              "      <th>0</th>\n",
              "      <td>2024-01-02</td>\n",
              "      <td>C</td>\n",
              "      <td>C-M2</td>\n",
              "      <td>Electrical</td>\n",
              "      <td>129.9</td>\n",
              "      <td>3.48</td>\n",
              "      <td>4.94</td>\n",
              "    </tr>\n",
              "    <tr>\n",
              "      <th>1</th>\n",
              "      <td>2024-01-02</td>\n",
              "      <td>A</td>\n",
              "      <td>A-M10</td>\n",
              "      <td>Mechanical</td>\n",
              "      <td>19.2</td>\n",
              "      <td>3.93</td>\n",
              "      <td>6.56</td>\n",
              "    </tr>\n",
              "    <tr>\n",
              "      <th>2</th>\n",
              "      <td>2024-01-02</td>\n",
              "      <td>C</td>\n",
              "      <td>C-M2</td>\n",
              "      <td>Mechanical</td>\n",
              "      <td>22.4</td>\n",
              "      <td>2.22</td>\n",
              "      <td>3.77</td>\n",
              "    </tr>\n",
              "    <tr>\n",
              "      <th>3</th>\n",
              "      <td>2024-01-03</td>\n",
              "      <td>B</td>\n",
              "      <td>B-M5</td>\n",
              "      <td>Mechanical</td>\n",
              "      <td>95.9</td>\n",
              "      <td>6.46</td>\n",
              "      <td>10.79</td>\n",
              "    </tr>\n",
              "    <tr>\n",
              "      <th>4</th>\n",
              "      <td>2024-01-09</td>\n",
              "      <td>C</td>\n",
              "      <td>C-M1</td>\n",
              "      <td>Mechanical</td>\n",
              "      <td>64.2</td>\n",
              "      <td>4.83</td>\n",
              "      <td>5.71</td>\n",
              "    </tr>\n",
              "  </tbody>\n",
              "</table>\n",
              "</div>"
            ],
            "text/plain": [
              "   event_date line asset_id failure_mode  time_to_failure_days  \\\n",
              "0  2024-01-02    C     C-M2   Electrical                 129.9   \n",
              "1  2024-01-02    A    A-M10   Mechanical                  19.2   \n",
              "2  2024-01-02    C     C-M2   Mechanical                  22.4   \n",
              "3  2024-01-03    B     B-M5   Mechanical                  95.9   \n",
              "4  2024-01-09    C     C-M1   Mechanical                  64.2   \n",
              "\n",
              "   repair_time_hours  downtime_hours  \n",
              "0               3.48            4.94  \n",
              "1               3.93            6.56  \n",
              "2               2.22            3.77  \n",
              "3               6.46           10.79  \n",
              "4               4.83            5.71  "
            ]
          },
          "execution_count": 3,
          "metadata": {},
          "output_type": "execute_result"
        }
      ],
      "source": [
        "import pandas as pd\n",
        "\n",
        "# Use the raw GitHub URL instead of a local path\n",
        "url = \"https://raw.githubusercontent.com/Dr-AlaaKhamis/ISE518/main/2_Statistics/data/bottling_maintenance_events.csv\"\n",
        "\n",
        "df = pd.read_csv(url)\n",
        "df.head()"
      ]
    },
    {
      "cell_type": "markdown",
      "id": "172c4ab3",
      "metadata": {},
      "source": [
        "### 📏 Welch t-test for Comparing Two Groups\n",
        "\n",
        "The **Welch t-test** is a statistical test used to determine whether the **means of two groups** are significantly different.  \n",
        "Unlike the classical Student’s t-test, Welch’s version does **not assume equal variances** between groups, which makes it safer for real-world industrial data.\n",
        "\n",
        "---\n",
        "\n",
        "#### Example in our dataset:\n",
        "👉 *Do production Line A and Line B have different average time-to-failure values?*\n",
        "\n",
        "---\n",
        "\n",
        "#### How it works:\n",
        "- Each group has:\n",
        "  - Mean ($\\bar{x}_1, \\bar{x}_2$)  \n",
        "  - Standard deviation ($s_1, s_2$)  \n",
        "  - Sample size ($n_1, n_2$)  \n",
        "\n",
        "- The Welch t-statistic is calculated as:\n",
        "\n",
        "$t = \\frac{\\bar{x}_1 - \\bar{x}_2}{\\sqrt{\\frac{s_1^2}{n_1} + \\frac{s_2^2}{n_2}}}$\n",
        "\n",
        "- The test also adjusts the **degrees of freedom** using the Welch–Satterthwaite equation:\n",
        "\n",
        "$df = \\frac{\\left(\\frac{s_1^2}{n_1} + \\frac{s_2^2}{n_2}\\right)^2}{\\frac{(s_1^2/n_1)^2}{n_1-1} + \\frac{(s_2^2/n_2)^2}{n_2-1}}$\n",
        "\n",
        "---\n",
        "\n",
        "#### Interpretation:\n",
        "\n",
        "<img src=\"Hypothesis_testing.png\" alt=\"Bottling plant\" width=\"500\">\n",
        "\n",
        "- **Null hypothesis (H₀):** the two groups have the same mean.  \n",
        "- **Alternative hypothesis (H₁):** the two groups have different means.  \n",
        "- **p-value < 0.05** → reject H₀ → there is evidence the mean time-to-failure differs between the two lines.  \n",
        "- **p-value ≥ 0.05** → fail to reject H₀ → no significant difference in average reliability.\n",
        "\n",
        "---\n",
        "\n",
        "#### Why it matters in reliability:\n",
        "If the Welch t-test shows a difference, it suggests that one line is more reliable than the other.  \n",
        "This can guide maintenance teams to investigate **root causes** (e.g., different operating conditions, equipment age, or operator practices).\n"
      ]
    },
    {
      "cell_type": "markdown",
      "metadata": {},
      "source": [
        "#### Welch t‑test: Line A vs Line B time to failure"
      ]
    },
    {
      "cell_type": "code",
      "execution_count": 4,
      "metadata": {},
      "outputs": [
        {
          "name": "stdout",
          "output_type": "stream",
          "text": [
            "Welch t-test A vs B: statistic=0.785, p-value=0.4333\n",
            "Result: No significant difference at 5% level\n"
          ]
        }
      ],
      "source": [
        "A = df.loc[df['line']=='A', 'time_to_failure_days']\n",
        "B = df.loc[df['line']=='B', 'time_to_failure_days']\n",
        "\n",
        "stat, pval = stats.ttest_ind(A, B, equal_var=False)\n",
        "print(f\"Welch t-test A vs B: statistic={stat:.3f}, p-value={pval:.4f}\")\n",
        "if pval < 0.05:\n",
        "    print(\"Result: Significant difference at 5% level\")\n",
        "else:\n",
        "    print(\"Result: No significant difference at 5% level\")"
      ]
    },
    {
      "cell_type": "markdown",
      "metadata": {},
      "source": [
        "**Interpretation tip**\n",
        "A small p‑value does not tell you the size of the effect. Always pair hypothesis tests with descriptive summaries and plots."
      ]
    },
    {
      "cell_type": "markdown",
      "id": "5ed34314",
      "metadata": {},
      "source": [
        "### 🔎 Chi-Square Test\n",
        "\n",
        "The **Chi-square test of independence** is used to check whether two categorical variables are related.  \n",
        "In our maintenance dataset, we can ask:\n",
        "\n",
        "👉 *Are failure modes distributed the same way across different production lines, or does each line have its own characteristic failure profile?*\n",
        "\n",
        "---\n",
        "\n",
        "#### How it works:\n",
        "- We build a **contingency table** (cross-tab) of counts.  \n",
        "  For example:\n",
        "\n",
        "| Line | Mechanical | Electrical | Misalignment |\n",
        "|------|------------|------------|--------------|\n",
        "| A    |    25      |    10      |     5        |\n",
        "| B    |    18      |    14      |     8        |\n",
        "| C    |    12      |     6      |    12        |\n",
        "\n",
        "- The Chi-square test compares the **observed counts** with the **expected counts** (what we would expect if line and failure mode were independent).\n",
        "\n",
        "- The test statistic is:\n",
        "\n",
        "$\\chi^2 = \\sum \\frac{(O - E)^2}{E}$\n",
        "\n",
        "where:\n",
        "- $O$ = observed frequency  \n",
        "- $E$ = expected frequency  \n",
        "\n",
        "---\n",
        "\n",
        "#### Interpretation:\n",
        "- **p-value < 0.05**: we reject the null hypothesis → there is evidence that failure modes **depend on the line**.  \n",
        "- **p-value ≥ 0.05**: we fail to reject the null hypothesis → failure modes are **independent of the line**.  \n",
        "\n",
        "---\n",
        "\n",
        "#### Why it matters in reliability:\n",
        "If the Chi-square test shows dependence, it suggests that some lines are more prone to certain failure modes.  \n",
        "Maintenance managers can then prioritize inspections, spare parts, or training for those specific issues.\n",
        "\n",
        "📊 The Python function `pd.crosstab()` helps us build the contingency table, and `scipy.stats.chi2_contingency()` performs the test."
      ]
    },
    {
      "cell_type": "markdown",
      "id": "afd88486",
      "metadata": {},
      "source": [
        "#### Are failure modes distributed differently by line?"
      ]
    },
    {
      "cell_type": "code",
      "execution_count": 5,
      "metadata": {},
      "outputs": [
        {
          "name": "stdout",
          "output_type": "stream",
          "text": [
            "Contingency table:\n",
            " failure_mode  Electrical  Mechanical  Misalignment\n",
            "line                                              \n",
            "A                     24          52            19\n",
            "B                     33          37            16\n",
            "C                     17          30            12\n",
            "Chi-square=3.96, dof=4, p-value=0.4113\n"
          ]
        }
      ],
      "source": [
        "cont = pd.crosstab(df['line'], df['failure_mode'])\n",
        "chi2, p, dof, exp = stats.chi2_contingency(cont)\n",
        "print(\"Contingency table:\\n\", cont)\n",
        "print(f\"Chi-square={chi2:.2f}, dof={dof}, p-value={p:.4f}\")"
      ]
    },
    {
      "cell_type": "markdown",
      "id": "ab224f45",
      "metadata": {},
      "source": [
        "### Repeat the Welch t-test for Lines B vs C"
      ]
    },
    {
      "cell_type": "code",
      "execution_count": 6,
      "id": "42dded90",
      "metadata": {},
      "outputs": [
        {
          "name": "stdout",
          "output_type": "stream",
          "text": [
            "Welch t-test B vs C: statistic=2.112, p-value=0.0364\n",
            "Result: Significant difference at 5% level\n"
          ]
        }
      ],
      "source": [
        "B = df.loc[df['line'] == 'B', 'time_to_failure_days']\n",
        "C = df.loc[df['line'] == 'C', 'time_to_failure_days']\n",
        "\n",
        "stat, pval = stats.ttest_ind(B, C, equal_var=False)\n",
        "print(f\"Welch t-test B vs C: statistic={stat:.3f}, p-value={pval:.4f}\")\n",
        "if pval < 0.05:\n",
        "    print(\"Result: Significant difference at 5% level\")\n",
        "else:\n",
        "    print(\"Result: No significant difference at 5% level\")"
      ]
    },
    {
      "cell_type": "markdown",
      "id": "1d38a1f2",
      "metadata": {},
      "source": [
        "### 📊 Mann–Whitney U Test (Non-Parametric Alternative)\n",
        "\n",
        "The **Mann–Whitney U test** is used to compare whether the **distributions** of two independent groups are different.  \n",
        "Unlike the t-test, it does **not assume normality** of the data, which makes it useful for skewed or non-normal reliability data.\n",
        "\n",
        "---\n",
        "\n",
        "#### Example in our dataset:\n",
        "👉 *Do Lines B and C have different distributions of time-to-failure values?*\n",
        "\n",
        "---\n",
        "\n",
        "#### How it works:\n",
        "1. Combine the data from both groups.  \n",
        "2. Rank all values from smallest to largest.  \n",
        "3. Compute the **sum of ranks** for each group.  \n",
        "4. The U statistic measures how often a value from one group is less than a value from the other group.  \n",
        "\n",
        "The formula for the U statistic is:\n",
        "\n",
        "$U = n_1 n_2 + \\frac{n_1 (n_1+1)}{2} - R_1$\n",
        "\n",
        "where:  \n",
        "- $n_1, n_2$ = sample sizes of the two groups  \n",
        "- $R_1$ = sum of ranks for group 1  \n",
        "\n",
        "---\n",
        "\n",
        "#### Interpretation:\n",
        "- **Null hypothesis (H₀):** the two groups come from the same distribution.  \n",
        "- **Alternative hypothesis (H₁):** the two groups come from different distributions.  \n",
        "- **p-value < 0.05** → reject H₀ → evidence that the distributions differ.  \n",
        "- **p-value ≥ 0.05** → fail to reject H₀ → no significant difference in distributions.  \n",
        "\n",
        "---\n",
        "\n",
        "#### Why it matters in reliability:\n",
        "- Many reliability metrics (like time-to-failure) are **skewed** and not normally distributed.  \n",
        "- Mann–Whitney U provides a **robust alternative** to the t-test for these cases.  \n",
        "- If the test shows a difference, maintenance engineers can investigate whether operating conditions or asset types create distinct failure behaviors.\n"
      ]
    },
    {
      "cell_type": "markdown",
      "id": "ba6fc2e7",
      "metadata": {},
      "source": [
        "### Non-parametric alternative: Mann–Whitney U test"
      ]
    },
    {
      "cell_type": "code",
      "execution_count": 7,
      "id": "9c5e1b3c",
      "metadata": {},
      "outputs": [
        {
          "name": "stdout",
          "output_type": "stream",
          "text": [
            "Mann–Whitney U test B vs C: U=3039.000, p-value=0.0435\n",
            "Result: Significant difference at 5% level (non-parametric)\n"
          ]
        }
      ],
      "source": [
        "u_stat, pval_u = stats.mannwhitneyu(B, C, alternative='two-sided')\n",
        "print(f\"Mann–Whitney U test B vs C: U={u_stat:.3f}, p-value={pval_u:.4f}\")\n",
        "if pval_u < 0.05:\n",
        "    print(\"Result: Significant difference at 5% level (non-parametric)\")\n",
        "else:\n",
        "    print(\"Result: No significant difference at 5% level (non-parametric)\")"
      ]
    }
  ],
  "metadata": {
    "kernelspec": {
      "display_name": "base",
      "language": "python",
      "name": "python3"
    },
    "language_info": {
      "codemirror_mode": {
        "name": "ipython",
        "version": 3
      },
      "file_extension": ".py",
      "mimetype": "text/x-python",
      "name": "python",
      "nbconvert_exporter": "python",
      "pygments_lexer": "ipython3",
      "version": "3.12.7"
    }
  },
  "nbformat": 4,
  "nbformat_minor": 5
}
