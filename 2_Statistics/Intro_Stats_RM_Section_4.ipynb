{
  "cells": [
    {
      "cell_type": "markdown",
      "metadata": {},
      "source": [
        "## 4. Measures of Central Tendency"
      ]
    },
    {
      "cell_type": "markdown",
      "metadata": {},
      "source": [
        "### Import libraries"
      ]
    },
    {
      "cell_type": "code",
      "execution_count": 1,
      "id": "f4a53049",
      "metadata": {},
      "outputs": [],
      "source": [
        "import pandas as pd\n",
        "import matplotlib.pyplot as plt"
      ]
    },
    {
      "cell_type": "markdown",
      "id": "2f2b5089",
      "metadata": {},
      "source": [
        "### Load dataset from a local folder into a DataFrame"
      ]
    },
    {
      "cell_type": "code",
      "execution_count": 8,
      "id": "37ea0735",
      "metadata": {},
      "outputs": [],
      "source": [
        "# df = pd.read_csv('data/bottling_maintenance_events.csv')\n",
        "# df.head()"
      ]
    },
    {
      "cell_type": "markdown",
      "id": "7977ad90",
      "metadata": {},
      "source": [
        "### Load dataset from url into a DataFrame"
      ]
    },
    {
      "cell_type": "code",
      "execution_count": 3,
      "id": "58720724",
      "metadata": {},
      "outputs": [
        {
          "data": {
            "text/html": [
              "<div>\n",
              "<style scoped>\n",
              "    .dataframe tbody tr th:only-of-type {\n",
              "        vertical-align: middle;\n",
              "    }\n",
              "\n",
              "    .dataframe tbody tr th {\n",
              "        vertical-align: top;\n",
              "    }\n",
              "\n",
              "    .dataframe thead th {\n",
              "        text-align: right;\n",
              "    }\n",
              "</style>\n",
              "<table border=\"1\" class=\"dataframe\">\n",
              "  <thead>\n",
              "    <tr style=\"text-align: right;\">\n",
              "      <th></th>\n",
              "      <th>event_date</th>\n",
              "      <th>line</th>\n",
              "      <th>asset_id</th>\n",
              "      <th>failure_mode</th>\n",
              "      <th>time_to_failure_days</th>\n",
              "      <th>repair_time_hours</th>\n",
              "      <th>downtime_hours</th>\n",
              "    </tr>\n",
              "  </thead>\n",
              "  <tbody>\n",
              "    <tr>\n",
              "      <th>0</th>\n",
              "      <td>2024-01-02</td>\n",
              "      <td>C</td>\n",
              "      <td>C-M2</td>\n",
              "      <td>Electrical</td>\n",
              "      <td>129.9</td>\n",
              "      <td>3.48</td>\n",
              "      <td>4.94</td>\n",
              "    </tr>\n",
              "    <tr>\n",
              "      <th>1</th>\n",
              "      <td>2024-01-02</td>\n",
              "      <td>A</td>\n",
              "      <td>A-M10</td>\n",
              "      <td>Mechanical</td>\n",
              "      <td>19.2</td>\n",
              "      <td>3.93</td>\n",
              "      <td>6.56</td>\n",
              "    </tr>\n",
              "    <tr>\n",
              "      <th>2</th>\n",
              "      <td>2024-01-02</td>\n",
              "      <td>C</td>\n",
              "      <td>C-M2</td>\n",
              "      <td>Mechanical</td>\n",
              "      <td>22.4</td>\n",
              "      <td>2.22</td>\n",
              "      <td>3.77</td>\n",
              "    </tr>\n",
              "    <tr>\n",
              "      <th>3</th>\n",
              "      <td>2024-01-03</td>\n",
              "      <td>B</td>\n",
              "      <td>B-M5</td>\n",
              "      <td>Mechanical</td>\n",
              "      <td>95.9</td>\n",
              "      <td>6.46</td>\n",
              "      <td>10.79</td>\n",
              "    </tr>\n",
              "    <tr>\n",
              "      <th>4</th>\n",
              "      <td>2024-01-09</td>\n",
              "      <td>C</td>\n",
              "      <td>C-M1</td>\n",
              "      <td>Mechanical</td>\n",
              "      <td>64.2</td>\n",
              "      <td>4.83</td>\n",
              "      <td>5.71</td>\n",
              "    </tr>\n",
              "  </tbody>\n",
              "</table>\n",
              "</div>"
            ],
            "text/plain": [
              "   event_date line asset_id failure_mode  time_to_failure_days  \\\n",
              "0  2024-01-02    C     C-M2   Electrical                 129.9   \n",
              "1  2024-01-02    A    A-M10   Mechanical                  19.2   \n",
              "2  2024-01-02    C     C-M2   Mechanical                  22.4   \n",
              "3  2024-01-03    B     B-M5   Mechanical                  95.9   \n",
              "4  2024-01-09    C     C-M1   Mechanical                  64.2   \n",
              "\n",
              "   repair_time_hours  downtime_hours  \n",
              "0               3.48            4.94  \n",
              "1               3.93            6.56  \n",
              "2               2.22            3.77  \n",
              "3               6.46           10.79  \n",
              "4               4.83            5.71  "
            ]
          },
          "execution_count": 3,
          "metadata": {},
          "output_type": "execute_result"
        }
      ],
      "source": [
        "import pandas as pd\n",
        "\n",
        "# Use the raw GitHub URL instead of a local path\n",
        "url = \"https://raw.githubusercontent.com/Dr-AlaaKhamis/ISE518/main/2_Statistics/data/bottling_maintenance_events.csv\"\n",
        "\n",
        "df = pd.read_csv(url)\n",
        "df.head()"
      ]
    },
    {
      "cell_type": "markdown",
      "metadata": {},
      "source": [
        "### Compute mean, median, and mode for maintenance metrics"
      ]
    },
    {
      "cell_type": "code",
      "execution_count": 4,
      "metadata": {},
      "outputs": [
        {
          "name": "stdout",
          "output_type": "stream",
          "text": [
            "Mean time to failure (days): 67.22\n",
            "Median time to failure (days): 57.95\n",
            "Mode time to failure (days): 67.3\n"
          ]
        }
      ],
      "source": [
        "mtbf_mean = df['time_to_failure_days'].mean()\n",
        "mtbf_median = df['time_to_failure_days'].median()\n",
        "mtbf_mode = df['time_to_failure_days'].mode().iloc[0]\n",
        "print(f\"Mean time to failure (days): {mtbf_mean:.2f}\")\n",
        "print(f\"Median time to failure (days): {mtbf_median:.2f}\")\n",
        "print(f\"Mode time to failure (days): {mtbf_mode}\")"
      ]
    },
    {
      "cell_type": "markdown",
      "metadata": {},
      "source": [
        "**Interpretation**\n",
        "- If the distribution is skewed, the median may better represent a typical value than the mean.\n",
        "- Mode is useful when a particular value repeats (e.g., common repair durations due to standard procedures)."
      ]
    },
    {
      "cell_type": "markdown",
      "id": "d6e32a83",
      "metadata": {},
      "source": [
        "### Compute the mean and median for repair_time_hours (overall)"
      ]
    },
    {
      "cell_type": "code",
      "execution_count": 5,
      "id": "178257cf",
      "metadata": {},
      "outputs": [
        {
          "name": "stdout",
          "output_type": "stream",
          "text": [
            "Overall mean repair time (hours): 5.94\n",
            "Overall median repair time (hours): 5.95\n"
          ]
        }
      ],
      "source": [
        "mean_repair = df['repair_time_hours'].mean()\n",
        "median_repair = df['repair_time_hours'].median()\n",
        "\n",
        "print(f\"Overall mean repair time (hours): {mean_repair:.2f}\")\n",
        "print(f\"Overall median repair time (hours): {median_repair:.2f}\")"
      ]
    },
    {
      "cell_type": "markdown",
      "id": "5643076e",
      "metadata": {},
      "source": [
        "### Compare across lines: mean and median by line"
      ]
    },
    {
      "cell_type": "code",
      "execution_count": 6,
      "id": "7ae1de81",
      "metadata": {},
      "outputs": [
        {
          "name": "stdout",
          "output_type": "stream",
          "text": [
            "\n",
            "Mean and Median Repair Time by Line:\n",
            "          mean  median\n",
            "line                  \n",
            "A     5.835789   5.920\n",
            "B     6.155930   6.095\n",
            "C     5.783559   5.510\n"
          ]
        }
      ],
      "source": [
        "repair_summary = df.groupby('line')['repair_time_hours'].agg(['mean', 'median'])\n",
        "print(\"\\nMean and Median Repair Time by Line:\")\n",
        "print(repair_summary)"
      ]
    },
    {
      "cell_type": "markdown",
      "id": "f0080166",
      "metadata": {},
      "source": [
        "### Visualize with boxplots to see distribution differences"
      ]
    },
    {
      "cell_type": "code",
      "execution_count": 7,
      "id": "8798b23a",
      "metadata": {},
      "outputs": [
        {
          "data": {
            "text/plain": [
              "<Figure size 600x400 with 0 Axes>"
            ]
          },
          "metadata": {},
          "output_type": "display_data"
        },
        {
          "data": {
            "image/png": "[encoded data removed]",
            "text/plain": [
              "<Figure size 640x480 with 1 Axes>"
            ]
          },
          "metadata": {},
          "output_type": "display_data"
        }
      ],
      "source": [
        "plt.figure(figsize=(6,4))\n",
        "df.boxplot(column='repair_time_hours', by='line')\n",
        "plt.title('Repair Time by Line')\n",
        "plt.suptitle('')\n",
        "plt.xlabel('Line')\n",
        "plt.ylabel('Repair Time (hours)')\n",
        "plt.tight_layout()\n",
        "plt.show()"
      ]
    }
  ],
  "metadata": {
    "kernelspec": {
      "display_name": "base",
      "language": "python",
      "name": "python3"
    },
    "language_info": {
      "codemirror_mode": {
        "name": "ipython",
        "version": 3
      },
      "file_extension": ".py",
      "mimetype": "text/x-python",
      "name": "python",
      "nbconvert_exporter": "python",
      "pygments_lexer": "ipython3",
      "version": "3.12.7"
    }
  },
  "nbformat": 4,
  "nbformat_minor": 5
}
